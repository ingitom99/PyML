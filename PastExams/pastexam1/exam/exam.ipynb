{
 "cells": [
  {
   "cell_type": "code",
   "execution_count": null,
   "metadata": {},
   "outputs": [],
   "source": []
  },
  {
   "cell_type": "markdown",
   "metadata": {
    "deletable": false,
    "editable": false,
    "nbgrader": {
     "cell_type": "markdown",
     "checksum": "aa50cc716367ba81a84acd5a38a1552c",
     "grade": false,
     "grade_id": "cell-5354805c80ac2303",
     "locked": true,
     "schema_version": 3,
     "solution": false,
     "task": false
    }
   },
   "source": [
    "$$\\Large\\textbf{Python Programming for Machine Learning}$$\n",
    "\n",
    "<br>\n",
    "\n",
    "$$\\Large\\textbf{Exam}$$\n",
    "<hr>\n",
    "\n",
    "<img src='images/TU.png' width='200'>\n",
    "<br>\n",
    "\n",
    "$$\\text{Department of Intelligent Data Analysis and Machine Learning}$$\n",
    "\n",
    "<br>\n",
    "$${1\\text{st of March}\\> 2021}$$\n",
    "\n",
    "<hr>\n",
    "\n",
    "### Read before starting with the exam !\n",
    "\n",
    "The exam has a similar format to the exercise sheets you completed throught the course.\n",
    "\n",
    "Each exercise consists of: \n",
    "- Explanation \n",
    "- Implementation\n",
    "- Overwrite\n",
    "\n",
    "The overwrite part means that after your function has been tested the expected value will be placed in the corresponding variables, so that if you get stuck you can continue against the next exercise. Your function will be tested with multiple inputs so there is no point in hardcoding the return values in your function.\n",
    "\n",
    "For each exercise there will be a maximum number of loops allowed. If your function contains more loops than allowed, you will be notified during the function definition, and the function will automatically fail in the hidden tests. \n",
    "\n",
    "For technical reasons the following functions are **banned** throughout the notebook.\n",
    "\n",
    "- map\n",
    "- sum (np.sum is allowed)\n",
    "- filter\n",
    "- np.vectorize\n",
    "- np.fromiter\n",
    "- np.fromfunction\n",
    "- np.apply_along_axis\n",
    "\n",
    "If you use one of these functions in your solution will **not** get any points.\n",
    "\n",
    "**Important:** \n",
    "   \n",
    "- Execute every cell in the notebook. You may also try to restart your kernel and execute all cells, in case something went wrong.\n",
    "\n",
    "- If you were not able to implement one function you may proceed with a next execise by using data generated from the _expected_ output functions.\n",
    "\n",
    "<hr>"
   ]
  },
  {
   "cell_type": "markdown",
   "metadata": {
    "deletable": false,
    "editable": false,
    "nbgrader": {
     "cell_type": "markdown",
     "checksum": "0df6c9a68a30e537375f3bf3236f2fd1",
     "grade": false,
     "grade_id": "cell-f09c3e49c45b3966",
     "locked": true,
     "schema_version": 3,
     "solution": false,
     "task": false
    }
   },
   "source": [
    "### Personal student information\n",
    "\n",
    "In the following cell fill in your **real** personal information. Make sure that the code compiles. This information may be used later for you class certificates."
   ]
  },
  {
   "cell_type": "code",
   "execution_count": 2,
   "metadata": {},
   "outputs": [],
   "source": [
    "NAME = \"Ingimar\"  # your first name\n",
    "MID_NAME = \"\"  # your middle or empty string ''\n",
    "SURNAME = \"Tomasson\"  # your last name\n",
    "\n",
    "MATRICULATION_NUMBER = 473928  # e.g. 412342 as integer\n",
    "\n",
    "HOME_UNIVERSITY = \"TU Berlin\"  # e.g. TU Berlin, HU Berlin, Uni Potsdam, etc...\n",
    "MODULE_NAME = \"ML-1\"  # e.g CA, ML-1, ML-2, Standalone\n",
    "COURSE_OF_STUDY = \"Scientific Computing\"  # e.g. Mathematics, Computer Science, Physics, etc...\n",
    "DEGREE = \"M.Sc.\"  # e.g. Erasmus, Bachelor, Diplom, Master, PhD or Guest (all others)"
   ]
  },
  {
   "cell_type": "code",
   "execution_count": 3,
   "metadata": {
    "deletable": false,
    "editable": false,
    "nbgrader": {
     "cell_type": "code",
     "checksum": "4e3fa1ef8a9b55fe906a83be7b65d8a1",
     "grade": false,
     "grade_id": "cell-ff65a2fd311a2025",
     "locked": true,
     "schema_version": 3,
     "solution": false,
     "task": false
    }
   },
   "outputs": [
    {
     "data": {
      "text/markdown": [
       "## Hello Ingimar  Tomasson \n",
       "### Your matriculation number is 473928 \n",
       "### You study at TU Berlin Scientific Computing M.Sc. \n",
       "### Module name: ML-1\n",
       "## [zoom exam room](https://tu-berlin.zoom.us/j/66781995589?pwd=UGx6aHBWSXdKRVZRMDdxRExmS1I5QT09)\n",
       "## password: 106756"
      ],
      "text/plain": [
       "<IPython.core.display.Markdown object>"
      ]
     },
     "execution_count": 3,
     "metadata": {},
     "output_type": "execute_result"
    }
   ],
   "source": [
    "from IPython.display import Markdown as md\n",
    "\n",
    "md(\n",
    "    f\"## Hello {NAME} {MID_NAME} {SURNAME} \\n\"\n",
    "    f\"### Your matriculation number is {MATRICULATION_NUMBER} \\n\"\n",
    "    f\"### You study at {HOME_UNIVERSITY} {COURSE_OF_STUDY} {DEGREE} \\n\"\n",
    "    f\"### Module name: {MODULE_NAME}\\n\"\n",
    "    \"## [zoom exam room](https://tu-berlin.zoom.us/j/66781995589?pwd=UGx6aHBWSXdKRVZRMDdxRExmS1I5QT09)\\n\"\n",
    "    \"## password: 106756\"\n",
    ")"
   ]
  },
  {
   "cell_type": "code",
   "execution_count": 4,
   "metadata": {
    "deletable": false,
    "editable": false,
    "nbgrader": {
     "cell_type": "code",
     "checksum": "152231e92dce7cfb4f4278ad8d398588",
     "grade": false,
     "grade_id": "cell-abe2bf7ad5b4cbc6",
     "locked": true,
     "schema_version": 3,
     "solution": false,
     "task": false
    }
   },
   "outputs": [
    {
     "data": {
      "text/html": [
       "\n",
       "<style>\n",
       ".output_png {\n",
       "    display: table-cell;\n",
       "    text-align: center;\n",
       "    vertical-align: middle;\n",
       "}\n",
       "</style>\n"
      ],
      "text/plain": [
       "<IPython.core.display.HTML object>"
      ]
     },
     "execution_count": 4,
     "metadata": {},
     "output_type": "execute_result"
    }
   ],
   "source": [
    "from IPython.core.display import HTML\n",
    "\n",
    "HTML(\n",
    "    \"\"\"\n",
    "<style>\n",
    ".output_png {\n",
    "    display: table-cell;\n",
    "    text-align: center;\n",
    "    vertical-align: middle;\n",
    "}\n",
    "</style>\n",
    "\"\"\"\n",
    ")"
   ]
  },
  {
   "cell_type": "code",
   "execution_count": 5,
   "metadata": {
    "deletable": false,
    "editable": false,
    "nbgrader": {
     "cell_type": "code",
     "checksum": "0e387bb5d468a524516f41e3fb358234",
     "grade": false,
     "grade_id": "cell-2708fd4e6bfc3bb0",
     "locked": true,
     "schema_version": 3,
     "solution": false,
     "task": false
    }
   },
   "outputs": [],
   "source": [
    "import numpy as np\n",
    "import matplotlib.pyplot as plt\n",
    "import pandas as pd"
   ]
  },
  {
   "cell_type": "code",
   "execution_count": 6,
   "metadata": {
    "deletable": false,
    "editable": false,
    "nbgrader": {
     "cell_type": "code",
     "checksum": "3357ca2104ad01555c734a7b2ecb4bd1",
     "grade": true,
     "grade_id": "cell-a5ba072807e1d8d7",
     "locked": true,
     "points": 0,
     "schema_version": 3,
     "solution": false,
     "task": false
    }
   },
   "outputs": [],
   "source": [
    "from typing import Tuple, Union, Mapping, Optional\n",
    "from minified import max_allowed_loops, no_imports\n",
    "\n",
    "from unittest import TestCase\n",
    "\n",
    "t = TestCase()\n",
    "\n"
   ]
  },
  {
   "cell_type": "markdown",
   "metadata": {
    "deletable": false,
    "editable": false,
    "nbgrader": {
     "cell_type": "markdown",
     "checksum": "4fdfda3895d1c6be187a67793c5335d2",
     "grade": false,
     "grade_id": "cell-8edcc4b3abd23daf",
     "locked": true,
     "schema_version": 3,
     "solution": false,
     "task": false
    }
   },
   "source": [
    "In this exam you want to analyse the Boston Housing data that relates housing prices to location and crime rates.\n",
    "\n",
    "* You do not need to understand how everything works to complete these tasks and why we are doing what. It is sufficient to read the bullet points to know what you _have to_ implement. The longer explanations lay out what is happening.\n",
    "\n",
    "* There are no loops allowed in _any_ of the excercises.\n",
    "\n",
    "# $\\textbf{Exercise 1: } \\text{Boston Housing Data (30 Points})$\n",
    " \n",
    "In the first exercise you will load and analyse a real world dataset from the sklearn package called Boston Housing data. \n",
    "\n",
    "<hr>\n",
    "\n",
    "### Exercise 1.1: Loading The Data ( 4 points ) \n",
    "\n",
    "<hr>\n",
    "\n",
    "First you will load the dataset and take a look at the description sklearn gives you. That includes a detailed overview of the data attributes and the keywords under which the data is stored. The function _load_data()_ returns the loaded dataset and the description of the dataset.\n",
    "\n",
    "\n",
    "* Import, load and return the Boston housing dataset from sklearn.\n",
    "* Get and return the data description by using the `DESCR` attribute of the datatset.\n",
    "\n",
    "\n",
    "* Loops allowed in this excercise: 0"
   ]
  },
  {
   "cell_type": "code",
   "execution_count": 7,
   "metadata": {
    "deletable": false,
    "nbgrader": {
     "cell_type": "code",
     "checksum": "d5ddfe4fa5140edd0c7d116db8113018",
     "grade": false,
     "grade_id": "cell-ba58e1151e3064bc",
     "locked": false,
     "schema_version": 3,
     "solution": true,
     "task": false
    }
   },
   "outputs": [],
   "source": [
    "@max_allowed_loops(0)\n",
    "def load_data() -> Tuple[Mapping[str, Union[np.ndarray, str]], str]:\n",
    "    \"\"\"\n",
    "    Loads the boston dataset using sklearn (sklearn is imported in the\n",
    "    function)\n",
    "\n",
    "    Returns:\n",
    "        Tuple[Mapping[str, Union[np.ndarray, str]], str]: The dataset and the\n",
    "        description of the dataset\n",
    "    \"\"\"\n",
    "    # YOUR CODE HERE\n",
    "    from sklearn.datasets import load_boston\n",
    "    boston = load_boston()\n",
    "    description = boston['DESCR']\n",
    "    # YOUR CODE HERE\n",
    "    \n",
    "    return boston, description"
   ]
  },
  {
   "cell_type": "code",
   "execution_count": 8,
   "metadata": {
    "deletable": false,
    "editable": false,
    "nbgrader": {
     "cell_type": "code",
     "checksum": "b489865b6d7c96bb4286e4e2934dce01",
     "grade": true,
     "grade_id": "cell-dabe6419b76906ad",
     "locked": true,
     "points": 4,
     "schema_version": 3,
     "solution": false,
     "task": false
    }
   },
   "outputs": [
    {
     "name": "stderr",
     "output_type": "stream",
     "text": [
      "C:\\Users\\Ingimar Tomasson\\anaconda3\\envs\\PyML\\lib\\site-packages\\sklearn\\utils\\deprecation.py:87: FutureWarning: Function load_boston is deprecated; `load_boston` is deprecated in 1.0 and will be removed in 1.2.\n",
      "\n",
      "    The Boston housing prices dataset has an ethical problem. You can refer to\n",
      "    the documentation of this function for further details.\n",
      "\n",
      "    The scikit-learn maintainers therefore strongly discourage the use of this\n",
      "    dataset unless the purpose of the code is to study and educate about\n",
      "    ethical issues in data science and machine learning.\n",
      "\n",
      "    In this special case, you can fetch the dataset from the original\n",
      "    source::\n",
      "\n",
      "        import pandas as pd\n",
      "        import numpy as np\n",
      "\n",
      "\n",
      "        data_url = \"http://lib.stat.cmu.edu/datasets/boston\"\n",
      "        raw_df = pd.read_csv(data_url, sep=\"\\s+\", skiprows=22, header=None)\n",
      "        data = np.hstack([raw_df.values[::2, :], raw_df.values[1::2, :2]])\n",
      "        target = raw_df.values[1::2, 2]\n",
      "\n",
      "    Alternative datasets include the California housing dataset (i.e.\n",
      "    :func:`~sklearn.datasets.fetch_california_housing`) and the Ames housing\n",
      "    dataset. You can load the datasets as follows::\n",
      "\n",
      "        from sklearn.datasets import fetch_california_housing\n",
      "        housing = fetch_california_housing()\n",
      "\n",
      "    for the California housing dataset and::\n",
      "\n",
      "        from sklearn.datasets import fetch_openml\n",
      "        housing = fetch_openml(name=\"house_prices\", as_frame=True)\n",
      "\n",
      "    for the Ames housing dataset.\n",
      "    \n",
      "  warnings.warn(msg, category=FutureWarning)\n"
     ]
    },
    {
     "ename": "AssertionError",
     "evalue": "Items in the first set but not the second:\n'data_module'",
     "output_type": "error",
     "traceback": [
      "\u001b[1;31m---------------------------------------------------------------------------\u001b[0m",
      "\u001b[1;31mAssertionError\u001b[0m                            Traceback (most recent call last)",
      "\u001b[1;32mC:\\Users\\INGIMA~1\\AppData\\Local\\Temp/ipykernel_17136/3569373262.py\u001b[0m in \u001b[0;36m<module>\u001b[1;34m\u001b[0m\n\u001b[0;32m      4\u001b[0m \u001b[0mt\u001b[0m\u001b[1;33m.\u001b[0m\u001b[0massertIsInstance\u001b[0m\u001b[1;33m(\u001b[0m\u001b[0mdescription\u001b[0m\u001b[1;33m,\u001b[0m \u001b[0mstr\u001b[0m\u001b[1;33m)\u001b[0m\u001b[1;33m\u001b[0m\u001b[1;33m\u001b[0m\u001b[0m\n\u001b[0;32m      5\u001b[0m \u001b[1;33m\u001b[0m\u001b[0m\n\u001b[1;32m----> 6\u001b[1;33m t.assertEqual(\n\u001b[0m\u001b[0;32m      7\u001b[0m     \u001b[0mset\u001b[0m\u001b[1;33m(\u001b[0m\u001b[0mboston\u001b[0m\u001b[1;33m.\u001b[0m\u001b[0mkeys\u001b[0m\u001b[1;33m(\u001b[0m\u001b[1;33m)\u001b[0m\u001b[1;33m)\u001b[0m\u001b[1;33m,\u001b[0m \u001b[1;33m{\u001b[0m\u001b[1;34m\"data\"\u001b[0m\u001b[1;33m,\u001b[0m \u001b[1;34m\"target\"\u001b[0m\u001b[1;33m,\u001b[0m \u001b[1;34m\"feature_names\"\u001b[0m\u001b[1;33m,\u001b[0m \u001b[1;34m\"DESCR\"\u001b[0m\u001b[1;33m,\u001b[0m \u001b[1;34m\"filename\"\u001b[0m\u001b[1;33m}\u001b[0m\u001b[1;33m\u001b[0m\u001b[1;33m\u001b[0m\u001b[0m\n\u001b[0;32m      8\u001b[0m )\n",
      "\u001b[1;32m~\\anaconda3\\envs\\PyML\\lib\\unittest\\case.py\u001b[0m in \u001b[0;36massertEqual\u001b[1;34m(self, first, second, msg)\u001b[0m\n\u001b[0;32m    827\u001b[0m         \"\"\"\n\u001b[0;32m    828\u001b[0m         \u001b[0massertion_func\u001b[0m \u001b[1;33m=\u001b[0m \u001b[0mself\u001b[0m\u001b[1;33m.\u001b[0m\u001b[0m_getAssertEqualityFunc\u001b[0m\u001b[1;33m(\u001b[0m\u001b[0mfirst\u001b[0m\u001b[1;33m,\u001b[0m \u001b[0msecond\u001b[0m\u001b[1;33m)\u001b[0m\u001b[1;33m\u001b[0m\u001b[1;33m\u001b[0m\u001b[0m\n\u001b[1;32m--> 829\u001b[1;33m         \u001b[0massertion_func\u001b[0m\u001b[1;33m(\u001b[0m\u001b[0mfirst\u001b[0m\u001b[1;33m,\u001b[0m \u001b[0msecond\u001b[0m\u001b[1;33m,\u001b[0m \u001b[0mmsg\u001b[0m\u001b[1;33m=\u001b[0m\u001b[0mmsg\u001b[0m\u001b[1;33m)\u001b[0m\u001b[1;33m\u001b[0m\u001b[1;33m\u001b[0m\u001b[0m\n\u001b[0m\u001b[0;32m    830\u001b[0m \u001b[1;33m\u001b[0m\u001b[0m\n\u001b[0;32m    831\u001b[0m     \u001b[1;32mdef\u001b[0m \u001b[0massertNotEqual\u001b[0m\u001b[1;33m(\u001b[0m\u001b[0mself\u001b[0m\u001b[1;33m,\u001b[0m \u001b[0mfirst\u001b[0m\u001b[1;33m,\u001b[0m \u001b[0msecond\u001b[0m\u001b[1;33m,\u001b[0m \u001b[0mmsg\u001b[0m\u001b[1;33m=\u001b[0m\u001b[1;32mNone\u001b[0m\u001b[1;33m)\u001b[0m\u001b[1;33m:\u001b[0m\u001b[1;33m\u001b[0m\u001b[1;33m\u001b[0m\u001b[0m\n",
      "\u001b[1;32m~\\anaconda3\\envs\\PyML\\lib\\unittest\\case.py\u001b[0m in \u001b[0;36massertSetEqual\u001b[1;34m(self, set1, set2, msg)\u001b[0m\n\u001b[0;32m   1087\u001b[0m \u001b[1;33m\u001b[0m\u001b[0m\n\u001b[0;32m   1088\u001b[0m         \u001b[0mstandardMsg\u001b[0m \u001b[1;33m=\u001b[0m \u001b[1;34m'\\n'\u001b[0m\u001b[1;33m.\u001b[0m\u001b[0mjoin\u001b[0m\u001b[1;33m(\u001b[0m\u001b[0mlines\u001b[0m\u001b[1;33m)\u001b[0m\u001b[1;33m\u001b[0m\u001b[1;33m\u001b[0m\u001b[0m\n\u001b[1;32m-> 1089\u001b[1;33m         \u001b[0mself\u001b[0m\u001b[1;33m.\u001b[0m\u001b[0mfail\u001b[0m\u001b[1;33m(\u001b[0m\u001b[0mself\u001b[0m\u001b[1;33m.\u001b[0m\u001b[0m_formatMessage\u001b[0m\u001b[1;33m(\u001b[0m\u001b[0mmsg\u001b[0m\u001b[1;33m,\u001b[0m \u001b[0mstandardMsg\u001b[0m\u001b[1;33m)\u001b[0m\u001b[1;33m)\u001b[0m\u001b[1;33m\u001b[0m\u001b[1;33m\u001b[0m\u001b[0m\n\u001b[0m\u001b[0;32m   1090\u001b[0m \u001b[1;33m\u001b[0m\u001b[0m\n\u001b[0;32m   1091\u001b[0m     \u001b[1;32mdef\u001b[0m \u001b[0massertIn\u001b[0m\u001b[1;33m(\u001b[0m\u001b[0mself\u001b[0m\u001b[1;33m,\u001b[0m \u001b[0mmember\u001b[0m\u001b[1;33m,\u001b[0m \u001b[0mcontainer\u001b[0m\u001b[1;33m,\u001b[0m \u001b[0mmsg\u001b[0m\u001b[1;33m=\u001b[0m\u001b[1;32mNone\u001b[0m\u001b[1;33m)\u001b[0m\u001b[1;33m:\u001b[0m\u001b[1;33m\u001b[0m\u001b[1;33m\u001b[0m\u001b[0m\n",
      "\u001b[1;32m~\\anaconda3\\envs\\PyML\\lib\\unittest\\case.py\u001b[0m in \u001b[0;36mfail\u001b[1;34m(self, msg)\u001b[0m\n\u001b[0;32m    666\u001b[0m     \u001b[1;32mdef\u001b[0m \u001b[0mfail\u001b[0m\u001b[1;33m(\u001b[0m\u001b[0mself\u001b[0m\u001b[1;33m,\u001b[0m \u001b[0mmsg\u001b[0m\u001b[1;33m=\u001b[0m\u001b[1;32mNone\u001b[0m\u001b[1;33m)\u001b[0m\u001b[1;33m:\u001b[0m\u001b[1;33m\u001b[0m\u001b[1;33m\u001b[0m\u001b[0m\n\u001b[0;32m    667\u001b[0m         \u001b[1;34m\"\"\"Fail immediately, with the given message.\"\"\"\u001b[0m\u001b[1;33m\u001b[0m\u001b[1;33m\u001b[0m\u001b[0m\n\u001b[1;32m--> 668\u001b[1;33m         \u001b[1;32mraise\u001b[0m \u001b[0mself\u001b[0m\u001b[1;33m.\u001b[0m\u001b[0mfailureException\u001b[0m\u001b[1;33m(\u001b[0m\u001b[0mmsg\u001b[0m\u001b[1;33m)\u001b[0m\u001b[1;33m\u001b[0m\u001b[1;33m\u001b[0m\u001b[0m\n\u001b[0m\u001b[0;32m    669\u001b[0m \u001b[1;33m\u001b[0m\u001b[0m\n\u001b[0;32m    670\u001b[0m     \u001b[1;32mdef\u001b[0m \u001b[0massertFalse\u001b[0m\u001b[1;33m(\u001b[0m\u001b[0mself\u001b[0m\u001b[1;33m,\u001b[0m \u001b[0mexpr\u001b[0m\u001b[1;33m,\u001b[0m \u001b[0mmsg\u001b[0m\u001b[1;33m=\u001b[0m\u001b[1;32mNone\u001b[0m\u001b[1;33m)\u001b[0m\u001b[1;33m:\u001b[0m\u001b[1;33m\u001b[0m\u001b[1;33m\u001b[0m\u001b[0m\n",
      "\u001b[1;31mAssertionError\u001b[0m: Items in the first set but not the second:\n'data_module'"
     ]
    }
   ],
   "source": [
    "boston, description = load_data()\n",
    "\n",
    "t.assertIsInstance(boston, dict)\n",
    "t.assertIsInstance(description, str)\n",
    "\n",
    "t.assertEqual(\n",
    "    set(boston.keys()), {\"data\", \"target\", \"feature_names\", \"DESCR\", \"filename\"}\n",
    ")\n",
    "\n",
    "for key, value in boston.items():\n",
    "    t.assertIsInstance(key, str)\n",
    "    # the value is either a string or an array\n",
    "    t.assertIsInstance(value, (str, np.ndarray))\n",
    "\n",
    "t.assertIn(\"Boston house prices dataset\", description)\n"
   ]
  },
  {
   "cell_type": "code",
   "execution_count": 10,
   "metadata": {
    "deletable": false,
    "editable": false,
    "nbgrader": {
     "cell_type": "code",
     "checksum": "25f7803c61b7ddd0e979185cde4e52e5",
     "grade": false,
     "grade_id": "cell-33ecd7c4866f9826",
     "locked": true,
     "schema_version": 3,
     "solution": false,
     "task": false
    }
   },
   "outputs": [],
   "source": [
    "from overwrite import exercise_1_1\n",
    "\n",
    "boston, description = exercise_1_1()"
   ]
  },
  {
   "cell_type": "markdown",
   "metadata": {
    "deletable": false,
    "editable": false,
    "nbgrader": {
     "cell_type": "markdown",
     "checksum": "7f580087d73a17bd6bd45db3b4206281",
     "grade": false,
     "grade_id": "cell-89646838889cbb29",
     "locked": true,
     "schema_version": 3,
     "solution": false,
     "task": false
    }
   },
   "source": [
    "* Take a deeper look at the description and check it if you are unsure which attribute to use in the following tasks."
   ]
  },
  {
   "cell_type": "code",
   "execution_count": 11,
   "metadata": {
    "deletable": false,
    "editable": false,
    "nbgrader": {
     "cell_type": "code",
     "checksum": "da79170e036363af803f0325a7d34ad7",
     "grade": false,
     "grade_id": "cell-f94cb0b603221e11",
     "locked": true,
     "schema_version": 3,
     "solution": false,
     "task": false
    }
   },
   "outputs": [
    {
     "name": "stdout",
     "output_type": "stream",
     "text": [
      ".. _boston_dataset:\n",
      "\n",
      "Boston house prices dataset\n",
      "---------------------------\n",
      "\n",
      "**Data Set Characteristics:**  \n",
      "\n",
      "    :Number of Instances: 506 \n",
      "\n",
      "    :Number of Attributes: 13 numeric/categorical predictive. Median Value (attribute 14) is usually the target.\n",
      "\n",
      "    :Attribute Information (in order):\n",
      "        - CRIM     per capita crime rate by town\n",
      "        - ZN       proportion of residential land zoned for lots over 25,000 sq.ft.\n",
      "        - INDUS    proportion of non-retail business acres per town\n",
      "        - CHAS     Charles River dummy variable (= 1 if tract bounds river; 0 otherwise)\n",
      "        - NOX      nitric oxides concentration (parts per 10 million)\n",
      "        - RM       average number of rooms per dwelling\n",
      "        - AGE      proportion of owner-occupied units built prior to 1940\n",
      "        - DIS      weighted distances to five Boston employment centres\n",
      "        - RAD      index of accessibility to radial highways\n",
      "        - TAX      full-value property-tax rate per $10,000\n",
      "        - PTRATIO  pupil-teacher ratio by town\n",
      "        - B        1000(Bk - 0.63)^2 where Bk is the proportion of blacks by town\n",
      "        - LSTAT    % lower status of the population\n",
      "        - MEDV     Median value of owner-occupied homes in $1000's\n",
      "\n",
      "    :Missing Attribute Values: None\n",
      "\n",
      "    :Creator: Harrison, D. and Rubinfeld, D.L.\n",
      "\n",
      "This is a copy of UCI ML housing dataset.\n",
      "https://archive.ics.uci.edu/ml/machine-learning-databases/housing/\n",
      "\n",
      "\n",
      "This dataset was taken from the StatLib library which is maintained at Carnegie Mellon University.\n",
      "\n",
      "The Boston house-price data of Harrison, D. and Rubinfeld, D.L. 'Hedonic\n",
      "prices and the demand for clean air', J. Environ. Economics & Management,\n",
      "vol.5, 81-102, 1978.   Used in Belsley, Kuh & Welsch, 'Regression diagnostics\n",
      "...', Wiley, 1980.   N.B. Various transformations are used in the table on\n",
      "pages 244-261 of the latter.\n",
      "\n",
      "The Boston house-price data has been used in many machine learning papers that address regression\n",
      "problems.   \n",
      "     \n",
      ".. topic:: References\n",
      "\n",
      "   - Belsley, Kuh & Welsch, 'Regression diagnostics: Identifying Influential Data and Sources of Collinearity', Wiley, 1980. 244-261.\n",
      "   - Quinlan,R. (1993). Combining Instance-Based and Model-Based Learning. In Proceedings on the Tenth International Conference of Machine Learning, 236-243, University of Massachusetts, Amherst. Morgan Kaufmann.\n",
      "\n"
     ]
    }
   ],
   "source": [
    "print(description)"
   ]
  },
  {
   "cell_type": "markdown",
   "metadata": {
    "deletable": false,
    "editable": false,
    "nbgrader": {
     "cell_type": "markdown",
     "checksum": "f93328b75293370c8c423f9e024f16ae",
     "grade": false,
     "grade_id": "cell-16269392b8c8db96",
     "locked": true,
     "schema_version": 3,
     "solution": false,
     "task": false
    }
   },
   "source": [
    "### Exercise 1.2: Create $\\textit{Pandas}$ data frame ( 10 points ) \n",
    "\n",
    "<hr>\n",
    "\n",
    "Now you want to store the data in a $\\textit{Pandas}$ dataframe. Since `MEDV` (see description above) is used as the target data, you need to add it manually as a column and assign the targets to it. The function _create_dataframe()_ returns the pandas dataframe and the mean `MEDV` value.\n",
    "\n",
    "* Create Pandas data frame object with all boston data including the target values. Use 'MEDV' as a column name for the target values.\n",
    "\n",
    "* Cast the `CHAS` column to `int.32`.\n",
    "\n",
    "* Compute and return the mean 'MEDV' value.\n",
    "\n",
    "* Return the boston dataframe.\n",
    "\n",
    "\n",
    "* Loops allowed in this excercise: 0"
   ]
  },
  {
   "cell_type": "code",
   "execution_count": 12,
   "metadata": {
    "deletable": false,
    "nbgrader": {
     "cell_type": "code",
     "checksum": "6c82af06f79b81e4b373c58066201ac5",
     "grade": false,
     "grade_id": "cell-3abca2d92e50e2c1",
     "locked": false,
     "schema_version": 3,
     "solution": true,
     "task": false
    }
   },
   "outputs": [],
   "source": [
    "@max_allowed_loops(0)\n",
    "@no_imports\n",
    "def create_dataframe(\n",
    "    boston: Mapping[str, Union[np.ndarray, str]]\n",
    ") -> Tuple[pd.DataFrame, float]:\n",
    "    \"\"\"\n",
    "    Convert an sklearn bunch object into a dataframe.\n",
    "    The function collects the data, targets, feature names and packs\n",
    "    them into a single dataframe, where the data and target columns\n",
    "    are concatenated and each column is named according to the feature names.\n",
    "    The column containing the target values is named `MEDV`. The `CHAS` column\n",
    "    is converted to an np.int32 type from float, as it is an indicator variable.\n",
    "\n",
    "    Args:\n",
    "        boston (Mapping[str, Union[np.ndarray, str]]): The sklearn bunch\n",
    "        we want to convert.\n",
    "    Returns:\n",
    "        Tuple[pd.DataFrame, float]: The created dataframe and the mean of\n",
    "        the target variable.\n",
    "    \"\"\"\n",
    "    # YOUR CODE HERE\n",
    "    data_dict = boston['data']\n",
    "    features = boston['feature_names']\n",
    "    boston_df = pd.DataFrame(data_dict, columns=features) \n",
    "    boston_df['MEDV'] = boston['target']\n",
    "    boston_df['CHAS'] = boston_df['CHAS'].astype(np.int32)\n",
    "    mean_medv = np.mean(boston_df['MEDV'])\n",
    "    \n",
    "    \n",
    "    \n",
    "    \n",
    "    # YOUR CODE HERE\n",
    "    \n",
    "\n",
    "    return boston_df, mean_medv"
   ]
  },
  {
   "cell_type": "code",
   "execution_count": 13,
   "metadata": {
    "deletable": false,
    "editable": false,
    "nbgrader": {
     "cell_type": "code",
     "checksum": "e1d9bd9faff70a4d42439616db49a623",
     "grade": true,
     "grade_id": "cell-ee8a4873cd3f209e",
     "locked": true,
     "points": 10,
     "schema_version": 3,
     "solution": false,
     "task": false
    }
   },
   "outputs": [
    {
     "name": "stdout",
     "output_type": "stream",
     "text": [
      "MEDV mean: 22.532806324110698\n"
     ]
    }
   ],
   "source": [
    "boston_df, mean_medv = create_dataframe(boston)\n",
    "print(f\"MEDV mean: {mean_medv}\")\n",
    "\n",
    "t.assertIsInstance(boston_df, pd.DataFrame)\n",
    "t.assertEqual(boston_df.shape, (506, 14))\n",
    "t.assertEqual(boston_df.CHAS.dtype, np.int32)\n",
    "t.assertIsInstance(mean_medv, float)\n",
    "t.assertTrue(22 < mean_medv < 23, \"The mean of the MEDV feature is between 22 and 23\")\n"
   ]
  },
  {
   "cell_type": "code",
   "execution_count": 14,
   "metadata": {
    "deletable": false,
    "editable": false,
    "nbgrader": {
     "cell_type": "code",
     "checksum": "f1e5047a4adbbc4d98af864bc54b3841",
     "grade": false,
     "grade_id": "cell-5d3130d3bacedda4",
     "locked": true,
     "schema_version": 3,
     "solution": false,
     "task": false
    }
   },
   "outputs": [],
   "source": [
    "from overwrite import exercise_1_2\n",
    "\n",
    "boston_df, mean_medv = exercise_1_2()"
   ]
  },
  {
   "cell_type": "code",
   "execution_count": 15,
   "metadata": {
    "deletable": false,
    "editable": false,
    "nbgrader": {
     "cell_type": "code",
     "checksum": "9bc8cef8f8cf400152c44b8a9b8b195c",
     "grade": false,
     "grade_id": "cell-e19a9cf945f3d6a0",
     "locked": true,
     "schema_version": 3,
     "solution": false,
     "task": false
    }
   },
   "outputs": [
    {
     "data": {
      "text/html": [
       "<div>\n",
       "<style scoped>\n",
       "    .dataframe tbody tr th:only-of-type {\n",
       "        vertical-align: middle;\n",
       "    }\n",
       "\n",
       "    .dataframe tbody tr th {\n",
       "        vertical-align: top;\n",
       "    }\n",
       "\n",
       "    .dataframe thead th {\n",
       "        text-align: right;\n",
       "    }\n",
       "</style>\n",
       "<table border=\"1\" class=\"dataframe\">\n",
       "  <thead>\n",
       "    <tr style=\"text-align: right;\">\n",
       "      <th></th>\n",
       "      <th>CRIM</th>\n",
       "      <th>ZN</th>\n",
       "      <th>INDUS</th>\n",
       "      <th>CHAS</th>\n",
       "      <th>NOX</th>\n",
       "      <th>RM</th>\n",
       "      <th>AGE</th>\n",
       "      <th>DIS</th>\n",
       "      <th>RAD</th>\n",
       "      <th>TAX</th>\n",
       "      <th>PTRATIO</th>\n",
       "      <th>B</th>\n",
       "      <th>LSTAT</th>\n",
       "      <th>MEDV</th>\n",
       "    </tr>\n",
       "  </thead>\n",
       "  <tbody>\n",
       "    <tr>\n",
       "      <th>310</th>\n",
       "      <td>2.63548</td>\n",
       "      <td>0.0</td>\n",
       "      <td>9.90</td>\n",
       "      <td>0</td>\n",
       "      <td>0.544</td>\n",
       "      <td>4.973</td>\n",
       "      <td>37.8</td>\n",
       "      <td>2.5194</td>\n",
       "      <td>4.0</td>\n",
       "      <td>304.0</td>\n",
       "      <td>18.4</td>\n",
       "      <td>350.45</td>\n",
       "      <td>12.64</td>\n",
       "      <td>16.1</td>\n",
       "    </tr>\n",
       "    <tr>\n",
       "      <th>426</th>\n",
       "      <td>12.24720</td>\n",
       "      <td>0.0</td>\n",
       "      <td>18.10</td>\n",
       "      <td>0</td>\n",
       "      <td>0.584</td>\n",
       "      <td>5.837</td>\n",
       "      <td>59.7</td>\n",
       "      <td>1.9976</td>\n",
       "      <td>24.0</td>\n",
       "      <td>666.0</td>\n",
       "      <td>20.2</td>\n",
       "      <td>24.65</td>\n",
       "      <td>15.69</td>\n",
       "      <td>10.2</td>\n",
       "    </tr>\n",
       "    <tr>\n",
       "      <th>98</th>\n",
       "      <td>0.08187</td>\n",
       "      <td>0.0</td>\n",
       "      <td>2.89</td>\n",
       "      <td>0</td>\n",
       "      <td>0.445</td>\n",
       "      <td>7.820</td>\n",
       "      <td>36.9</td>\n",
       "      <td>3.4952</td>\n",
       "      <td>2.0</td>\n",
       "      <td>276.0</td>\n",
       "      <td>18.0</td>\n",
       "      <td>393.53</td>\n",
       "      <td>3.57</td>\n",
       "      <td>43.8</td>\n",
       "    </tr>\n",
       "    <tr>\n",
       "      <th>180</th>\n",
       "      <td>0.06588</td>\n",
       "      <td>0.0</td>\n",
       "      <td>2.46</td>\n",
       "      <td>0</td>\n",
       "      <td>0.488</td>\n",
       "      <td>7.765</td>\n",
       "      <td>83.3</td>\n",
       "      <td>2.7410</td>\n",
       "      <td>3.0</td>\n",
       "      <td>193.0</td>\n",
       "      <td>17.8</td>\n",
       "      <td>395.56</td>\n",
       "      <td>7.56</td>\n",
       "      <td>39.8</td>\n",
       "    </tr>\n",
       "    <tr>\n",
       "      <th>200</th>\n",
       "      <td>0.01778</td>\n",
       "      <td>95.0</td>\n",
       "      <td>1.47</td>\n",
       "      <td>0</td>\n",
       "      <td>0.403</td>\n",
       "      <td>7.135</td>\n",
       "      <td>13.9</td>\n",
       "      <td>7.6534</td>\n",
       "      <td>3.0</td>\n",
       "      <td>402.0</td>\n",
       "      <td>17.0</td>\n",
       "      <td>384.30</td>\n",
       "      <td>4.45</td>\n",
       "      <td>32.9</td>\n",
       "    </tr>\n",
       "    <tr>\n",
       "      <th>100</th>\n",
       "      <td>0.14866</td>\n",
       "      <td>0.0</td>\n",
       "      <td>8.56</td>\n",
       "      <td>0</td>\n",
       "      <td>0.520</td>\n",
       "      <td>6.727</td>\n",
       "      <td>79.9</td>\n",
       "      <td>2.7778</td>\n",
       "      <td>5.0</td>\n",
       "      <td>384.0</td>\n",
       "      <td>20.9</td>\n",
       "      <td>394.76</td>\n",
       "      <td>9.42</td>\n",
       "      <td>27.5</td>\n",
       "    </tr>\n",
       "    <tr>\n",
       "      <th>238</th>\n",
       "      <td>0.08244</td>\n",
       "      <td>30.0</td>\n",
       "      <td>4.93</td>\n",
       "      <td>0</td>\n",
       "      <td>0.428</td>\n",
       "      <td>6.481</td>\n",
       "      <td>18.5</td>\n",
       "      <td>6.1899</td>\n",
       "      <td>6.0</td>\n",
       "      <td>300.0</td>\n",
       "      <td>16.6</td>\n",
       "      <td>379.41</td>\n",
       "      <td>6.36</td>\n",
       "      <td>23.7</td>\n",
       "    </tr>\n",
       "    <tr>\n",
       "      <th>65</th>\n",
       "      <td>0.03584</td>\n",
       "      <td>80.0</td>\n",
       "      <td>3.37</td>\n",
       "      <td>0</td>\n",
       "      <td>0.398</td>\n",
       "      <td>6.290</td>\n",
       "      <td>17.8</td>\n",
       "      <td>6.6115</td>\n",
       "      <td>4.0</td>\n",
       "      <td>337.0</td>\n",
       "      <td>16.1</td>\n",
       "      <td>396.90</td>\n",
       "      <td>4.67</td>\n",
       "      <td>23.5</td>\n",
       "    </tr>\n",
       "    <tr>\n",
       "      <th>213</th>\n",
       "      <td>0.14052</td>\n",
       "      <td>0.0</td>\n",
       "      <td>10.59</td>\n",
       "      <td>0</td>\n",
       "      <td>0.489</td>\n",
       "      <td>6.375</td>\n",
       "      <td>32.3</td>\n",
       "      <td>3.9454</td>\n",
       "      <td>4.0</td>\n",
       "      <td>277.0</td>\n",
       "      <td>18.6</td>\n",
       "      <td>385.81</td>\n",
       "      <td>9.38</td>\n",
       "      <td>28.1</td>\n",
       "    </tr>\n",
       "    <tr>\n",
       "      <th>294</th>\n",
       "      <td>0.08199</td>\n",
       "      <td>0.0</td>\n",
       "      <td>13.92</td>\n",
       "      <td>0</td>\n",
       "      <td>0.437</td>\n",
       "      <td>6.009</td>\n",
       "      <td>42.3</td>\n",
       "      <td>5.5027</td>\n",
       "      <td>4.0</td>\n",
       "      <td>289.0</td>\n",
       "      <td>16.0</td>\n",
       "      <td>396.90</td>\n",
       "      <td>10.40</td>\n",
       "      <td>21.7</td>\n",
       "    </tr>\n",
       "  </tbody>\n",
       "</table>\n",
       "</div>"
      ],
      "text/plain": [
       "         CRIM    ZN  INDUS  CHAS    NOX     RM   AGE     DIS   RAD    TAX  \\\n",
       "310   2.63548   0.0   9.90     0  0.544  4.973  37.8  2.5194   4.0  304.0   \n",
       "426  12.24720   0.0  18.10     0  0.584  5.837  59.7  1.9976  24.0  666.0   \n",
       "98    0.08187   0.0   2.89     0  0.445  7.820  36.9  3.4952   2.0  276.0   \n",
       "180   0.06588   0.0   2.46     0  0.488  7.765  83.3  2.7410   3.0  193.0   \n",
       "200   0.01778  95.0   1.47     0  0.403  7.135  13.9  7.6534   3.0  402.0   \n",
       "100   0.14866   0.0   8.56     0  0.520  6.727  79.9  2.7778   5.0  384.0   \n",
       "238   0.08244  30.0   4.93     0  0.428  6.481  18.5  6.1899   6.0  300.0   \n",
       "65    0.03584  80.0   3.37     0  0.398  6.290  17.8  6.6115   4.0  337.0   \n",
       "213   0.14052   0.0  10.59     0  0.489  6.375  32.3  3.9454   4.0  277.0   \n",
       "294   0.08199   0.0  13.92     0  0.437  6.009  42.3  5.5027   4.0  289.0   \n",
       "\n",
       "     PTRATIO       B  LSTAT  MEDV  \n",
       "310     18.4  350.45  12.64  16.1  \n",
       "426     20.2   24.65  15.69  10.2  \n",
       "98      18.0  393.53   3.57  43.8  \n",
       "180     17.8  395.56   7.56  39.8  \n",
       "200     17.0  384.30   4.45  32.9  \n",
       "100     20.9  394.76   9.42  27.5  \n",
       "238     16.6  379.41   6.36  23.7  \n",
       "65      16.1  396.90   4.67  23.5  \n",
       "213     18.6  385.81   9.38  28.1  \n",
       "294     16.0  396.90  10.40  21.7  "
      ]
     },
     "execution_count": 15,
     "metadata": {},
     "output_type": "execute_result"
    }
   ],
   "source": [
    "boston_df.sample(10)"
   ]
  },
  {
   "cell_type": "markdown",
   "metadata": {
    "deletable": false,
    "editable": false,
    "nbgrader": {
     "cell_type": "markdown",
     "checksum": "a9c2ce215e8f155d82a4ccc95c814341",
     "grade": false,
     "grade_id": "cell-9b1523a2a4fb7447",
     "locked": true,
     "schema_version": 3,
     "solution": false,
     "task": false
    }
   },
   "source": [
    "### Exercise 1.3: Crime rates ( 5 points ) \n",
    "\n",
    "<hr>\n",
    "\n",
    "Let's take a closer look at the data and what you can do with it. As an example you will look at the difference between the crime rates in housing areas depending on being near a river or not. If you take a look at the description again you can find the crime rates under the keyword `CRIM` (per capita crime rate by town) and the river variable under the keyword `CHAS`.\n",
    "\n",
    "* Compute the average crime rates (`CRIM`) grouped by the river bounds variable (`CHAS`) which is either 0 or 1.\n",
    "* The function _crime_rates_river()_ returns the mean crime rate without a river (`no_river_mean_crim`) and the mean crime rate with a river (`with_river_mean_crim`).\n",
    "\n",
    "\n",
    "* Loops allowed in this excercise: 0"
   ]
  },
  {
   "cell_type": "code",
   "execution_count": 16,
   "metadata": {
    "deletable": false,
    "nbgrader": {
     "cell_type": "code",
     "checksum": "9d92a13522f28ed0290d5ebeeada6801",
     "grade": false,
     "grade_id": "cell-544f0ba8b7d1d8be",
     "locked": false,
     "schema_version": 3,
     "solution": true,
     "task": false
    }
   },
   "outputs": [],
   "source": [
    "@max_allowed_loops(0)\n",
    "@no_imports\n",
    "def crime_rates_river(boston_df: pd.DataFrame) -> Tuple[float, float]:\n",
    "    \"\"\"\n",
    "    Calculte the average crime rate for houses that are not close to\n",
    "    a river and those that are.\n",
    "\n",
    "    Args:\n",
    "        boston_df (pd.DataFrame): The boston dataset as a dataframe.\n",
    "\n",
    "    Returns:\n",
    "        Tuple[float, float]: The average crime rate for houses that are not\n",
    "        close to a river and those that are.\n",
    "    \"\"\"\n",
    "    # YOUR CODE HERE\n",
    "    water_indices = boston_df.CHAS > 0.5\n",
    "    nowater_indices = boston_df.CHAS < 0.5\n",
    "    \n",
    "    no_river_mean_crime = np.mean(boston_df.CRIM[nowater_indices])\n",
    "    with_river_mean_crime = np.mean(boston_df.CRIM[water_indices])\n",
    "    # YOUR CODE HERE\n",
    "    \n",
    "\n",
    "    return no_river_mean_crime, with_river_mean_crime"
   ]
  },
  {
   "cell_type": "code",
   "execution_count": 17,
   "metadata": {
    "deletable": false,
    "editable": false,
    "nbgrader": {
     "cell_type": "code",
     "checksum": "0403fb2d82cca8ea17808835d463fda9",
     "grade": true,
     "grade_id": "cell-009817598144f668",
     "locked": true,
     "points": 5,
     "schema_version": 3,
     "solution": false,
     "task": false
    }
   },
   "outputs": [
    {
     "name": "stdout",
     "output_type": "stream",
     "text": [
      "No river bounds avg crime rate: 3.744\n",
      "With river bounds avg crime rate: 1.852\n"
     ]
    }
   ],
   "source": [
    "no_river_mean_crime, with_river_mean_crime = crime_rates_river(boston_df)\n",
    "print(f\"No river bounds avg crime rate: {no_river_mean_crime:0.3f}\")\n",
    "print(f\"With river bounds avg crime rate: {with_river_mean_crime:0.3f}\")\n",
    "\n",
    "t.assertLess(no_river_mean_crime, 4)\n",
    "t.assertGreater(no_river_mean_crime, 3)\n",
    "\n",
    "t.assertLess(with_river_mean_crime, 2)\n",
    "t.assertGreater(with_river_mean_crime, 1)\n"
   ]
  },
  {
   "cell_type": "code",
   "execution_count": 18,
   "metadata": {
    "deletable": false,
    "editable": false,
    "nbgrader": {
     "cell_type": "code",
     "checksum": "1107660e335bf45a76c546259063a5e3",
     "grade": false,
     "grade_id": "cell-6917868dd4e89f57",
     "locked": true,
     "schema_version": 3,
     "solution": false,
     "task": false
    }
   },
   "outputs": [
    {
     "name": "stdout",
     "output_type": "stream",
     "text": [
      "3.744446836518047 1.851670285714286\n"
     ]
    }
   ],
   "source": [
    "from overwrite import exercise_1_3\n",
    "\n",
    "no_river_mean_crime, with_river_mean_crime = exercise_1_3()\n",
    "\n",
    "print(no_river_mean_crime, with_river_mean_crime)"
   ]
  },
  {
   "cell_type": "markdown",
   "metadata": {
    "deletable": false,
    "editable": false,
    "nbgrader": {
     "cell_type": "markdown",
     "checksum": "39151b2c3774808a3c886881c09a84a3",
     "grade": false,
     "grade_id": "cell-ee6d254467e3662e",
     "locked": true,
     "schema_version": 3,
     "solution": false,
     "task": false
    }
   },
   "source": [
    "### Exercise 1.4: Low Crime Rates ( 11 points ) \n",
    "\n",
    "<hr>\n",
    "To break down this analysis further you will extract only the data points that match certain criteria and compare their crime rates to the overall crime rates.\n",
    "\n",
    "\n",
    "* Implement the function _lower_than_mean()_ which returns all data where the given feature value (`name`) is lower than the given mean.\n",
    "\n",
    "\n",
    "* Implement the function _equal_value()_ which returns all data where the given feature value (`name`) is equal to a passed value.\n",
    "\n",
    "\n",
    "* Implement the function _avg_feature()_ which returns the average value of a given feature (`name`).\n",
    "\n",
    "\n",
    "* Implement the function _compare_means()_ which uses the proportion rule to compute the percentage of how a specific mean is different from the overall mean.\n",
    "\n",
    "We apply all the functions you implemented to find out the percentage of how much a property close to a river and with a low crime rates costs compared to the average one.\n",
    "\n",
    "\n",
    "* Loops allowed in this excercise: 0"
   ]
  },
  {
   "cell_type": "code",
   "execution_count": 19,
   "metadata": {
    "deletable": false,
    "nbgrader": {
     "cell_type": "code",
     "checksum": "ad2657eea2aa761735685cee93b6ee5a",
     "grade": false,
     "grade_id": "cell-92fc46b31760b338",
     "locked": false,
     "schema_version": 3,
     "solution": true,
     "task": false
    }
   },
   "outputs": [],
   "source": [
    "@max_allowed_loops(0)\n",
    "@no_imports\n",
    "def lower_than(df: pd.DataFrame, name: str, value: float) -> pd.DataFrame:\n",
    "    \"\"\"\n",
    "    Given a dataframe a column name and a value return\n",
    "    a dataframe containing only the rows where the column with\n",
    "    the provided name is less than the value.\n",
    "\n",
    "    Args:\n",
    "        df (pd.DataFrame): The provided dataframe to filter.\n",
    "        name (str): The name of the column to filter.\n",
    "        value (float): The value to filter by.\n",
    "\n",
    "    Returns:\n",
    "        pd.DataFrame: The filtered dataframe.\n",
    "    \"\"\"\n",
    "    # YOUR CODE HERE\n",
    "    mask = df[name] < value\n",
    "    data_lower_than = df[mask]\n",
    "    \n",
    "    # YOUR CODE HERE\n",
    "    \n",
    "\n",
    "    return data_lower_than"
   ]
  },
  {
   "cell_type": "code",
   "execution_count": 20,
   "metadata": {
    "deletable": false,
    "editable": false,
    "nbgrader": {
     "cell_type": "code",
     "checksum": "092cc60c62f28138c4935becc4edc9a6",
     "grade": true,
     "grade_id": "cell-8068e349ffd8673e",
     "locked": true,
     "points": 2,
     "schema_version": 3,
     "solution": false,
     "task": false
    }
   },
   "outputs": [],
   "source": [
    "lower_df = lower_than(boston_df, \"CRIM\", with_river_mean_crime)\n",
    "t.assertIsInstance(lower_df, pd.DataFrame)\n",
    "\n",
    "t.assertIsNot(boston_df, lower_df)\n",
    "t.assertTrue(354 < lower_df.shape[0] < 357)\n",
    "np.testing.assert_array_equal(lower_df[\"CRIM\"] < with_river_mean_crime, 1)\n",
    "\n"
   ]
  },
  {
   "cell_type": "code",
   "execution_count": 21,
   "metadata": {
    "deletable": false,
    "editable": false,
    "nbgrader": {
     "cell_type": "code",
     "checksum": "933d5eed1614b918e49f9e24b3359aba",
     "grade": false,
     "grade_id": "cell-5620fd005da58a96",
     "locked": true,
     "schema_version": 3,
     "solution": false,
     "task": false
    }
   },
   "outputs": [
    {
     "data": {
      "text/html": [
       "<div>\n",
       "<style scoped>\n",
       "    .dataframe tbody tr th:only-of-type {\n",
       "        vertical-align: middle;\n",
       "    }\n",
       "\n",
       "    .dataframe tbody tr th {\n",
       "        vertical-align: top;\n",
       "    }\n",
       "\n",
       "    .dataframe thead th {\n",
       "        text-align: right;\n",
       "    }\n",
       "</style>\n",
       "<table border=\"1\" class=\"dataframe\">\n",
       "  <thead>\n",
       "    <tr style=\"text-align: right;\">\n",
       "      <th></th>\n",
       "      <th>CRIM</th>\n",
       "      <th>ZN</th>\n",
       "      <th>INDUS</th>\n",
       "      <th>CHAS</th>\n",
       "      <th>NOX</th>\n",
       "      <th>RM</th>\n",
       "      <th>AGE</th>\n",
       "      <th>DIS</th>\n",
       "      <th>RAD</th>\n",
       "      <th>TAX</th>\n",
       "      <th>PTRATIO</th>\n",
       "      <th>B</th>\n",
       "      <th>LSTAT</th>\n",
       "      <th>MEDV</th>\n",
       "    </tr>\n",
       "  </thead>\n",
       "  <tbody>\n",
       "    <tr>\n",
       "      <th>73</th>\n",
       "      <td>0.19539</td>\n",
       "      <td>0.0</td>\n",
       "      <td>10.81</td>\n",
       "      <td>0</td>\n",
       "      <td>0.413</td>\n",
       "      <td>6.245</td>\n",
       "      <td>6.2</td>\n",
       "      <td>5.2873</td>\n",
       "      <td>4.0</td>\n",
       "      <td>305.0</td>\n",
       "      <td>19.2</td>\n",
       "      <td>377.17</td>\n",
       "      <td>7.54</td>\n",
       "      <td>23.4</td>\n",
       "    </tr>\n",
       "    <tr>\n",
       "      <th>117</th>\n",
       "      <td>0.15098</td>\n",
       "      <td>0.0</td>\n",
       "      <td>10.01</td>\n",
       "      <td>0</td>\n",
       "      <td>0.547</td>\n",
       "      <td>6.021</td>\n",
       "      <td>82.6</td>\n",
       "      <td>2.7474</td>\n",
       "      <td>6.0</td>\n",
       "      <td>432.0</td>\n",
       "      <td>17.8</td>\n",
       "      <td>394.51</td>\n",
       "      <td>10.30</td>\n",
       "      <td>19.2</td>\n",
       "    </tr>\n",
       "    <tr>\n",
       "      <th>18</th>\n",
       "      <td>0.80271</td>\n",
       "      <td>0.0</td>\n",
       "      <td>8.14</td>\n",
       "      <td>0</td>\n",
       "      <td>0.538</td>\n",
       "      <td>5.456</td>\n",
       "      <td>36.6</td>\n",
       "      <td>3.7965</td>\n",
       "      <td>4.0</td>\n",
       "      <td>307.0</td>\n",
       "      <td>21.0</td>\n",
       "      <td>288.99</td>\n",
       "      <td>11.69</td>\n",
       "      <td>20.2</td>\n",
       "    </tr>\n",
       "    <tr>\n",
       "      <th>154</th>\n",
       "      <td>1.41385</td>\n",
       "      <td>0.0</td>\n",
       "      <td>19.58</td>\n",
       "      <td>1</td>\n",
       "      <td>0.871</td>\n",
       "      <td>6.129</td>\n",
       "      <td>96.0</td>\n",
       "      <td>1.7494</td>\n",
       "      <td>5.0</td>\n",
       "      <td>403.0</td>\n",
       "      <td>14.7</td>\n",
       "      <td>321.02</td>\n",
       "      <td>15.12</td>\n",
       "      <td>17.0</td>\n",
       "    </tr>\n",
       "    <tr>\n",
       "      <th>137</th>\n",
       "      <td>0.35233</td>\n",
       "      <td>0.0</td>\n",
       "      <td>21.89</td>\n",
       "      <td>0</td>\n",
       "      <td>0.624</td>\n",
       "      <td>6.454</td>\n",
       "      <td>98.4</td>\n",
       "      <td>1.8498</td>\n",
       "      <td>4.0</td>\n",
       "      <td>437.0</td>\n",
       "      <td>21.2</td>\n",
       "      <td>394.08</td>\n",
       "      <td>14.59</td>\n",
       "      <td>17.1</td>\n",
       "    </tr>\n",
       "  </tbody>\n",
       "</table>\n",
       "</div>"
      ],
      "text/plain": [
       "        CRIM   ZN  INDUS  CHAS    NOX     RM   AGE     DIS  RAD    TAX  \\\n",
       "73   0.19539  0.0  10.81     0  0.413  6.245   6.2  5.2873  4.0  305.0   \n",
       "117  0.15098  0.0  10.01     0  0.547  6.021  82.6  2.7474  6.0  432.0   \n",
       "18   0.80271  0.0   8.14     0  0.538  5.456  36.6  3.7965  4.0  307.0   \n",
       "154  1.41385  0.0  19.58     1  0.871  6.129  96.0  1.7494  5.0  403.0   \n",
       "137  0.35233  0.0  21.89     0  0.624  6.454  98.4  1.8498  4.0  437.0   \n",
       "\n",
       "     PTRATIO       B  LSTAT  MEDV  \n",
       "73      19.2  377.17   7.54  23.4  \n",
       "117     17.8  394.51  10.30  19.2  \n",
       "18      21.0  288.99  11.69  20.2  \n",
       "154     14.7  321.02  15.12  17.0  \n",
       "137     21.2  394.08  14.59  17.1  "
      ]
     },
     "execution_count": 21,
     "metadata": {},
     "output_type": "execute_result"
    }
   ],
   "source": [
    "from overwrite import exercise_1_4_1\n",
    "\n",
    "lower_df = exercise_1_4_1()\n",
    "lower_df.sample(5)"
   ]
  },
  {
   "cell_type": "code",
   "execution_count": 22,
   "metadata": {
    "deletable": false,
    "nbgrader": {
     "cell_type": "code",
     "checksum": "8bda9af6dcb9cf22428c63ff4775f8be",
     "grade": false,
     "grade_id": "cell-099dd46cc80aaf68",
     "locked": false,
     "schema_version": 3,
     "solution": true,
     "task": false
    }
   },
   "outputs": [],
   "source": [
    "@max_allowed_loops(0)\n",
    "@no_imports\n",
    "def equal_value(df: pd.DataFrame, name: str, val: float) -> pd.DataFrame:\n",
    "    \"\"\"\n",
    "    Given a dataframe a column name and a value return\n",
    "    a dataframe containing only the rows where the column with\n",
    "    the provided name is equal to the value.\n",
    "\n",
    "    Args:\n",
    "        df (pd.DataFrame): The provided dataframe to filter.\n",
    "        name (str): The name of the column to filter.\n",
    "        value (float): The value to compare with.\n",
    "\n",
    "    Returns:\n",
    "        pd.DataFrame: The filtered dataframe.\n",
    "    \"\"\"\n",
    "    # YOUR CODE HERE\n",
    "    mask = df[name] == val\n",
    "    data_equal_to_value = df[mask]\n",
    "    # YOUR CODE HERE\n",
    "    \n",
    "\n",
    "    return data_equal_to_value"
   ]
  },
  {
   "cell_type": "code",
   "execution_count": 23,
   "metadata": {
    "deletable": false,
    "editable": false,
    "nbgrader": {
     "cell_type": "code",
     "checksum": "80c00d94948611b4a54f21f3c5a381ea",
     "grade": true,
     "grade_id": "cell-f08f2b95f9529916",
     "locked": true,
     "points": 2,
     "schema_version": 3,
     "solution": false,
     "task": false
    }
   },
   "outputs": [],
   "source": [
    "# notice how the input is the `lower_df` dataframe\n",
    "lower_eq_df = equal_value(lower_df, \"CHAS\", 1)\n",
    "\n",
    "t.assertIsNot(lower_eq_df, lower_df)\n",
    "t.assertIsInstance(lower_eq_df, pd.DataFrame)\n",
    "\n",
    "t.assertTrue(22 < lower_eq_df.shape[0] < 27)\n",
    "np.testing.assert_array_equal(lower_eq_df[\"CHAS\"], 1)\n"
   ]
  },
  {
   "cell_type": "code",
   "execution_count": 24,
   "metadata": {
    "deletable": false,
    "editable": false,
    "nbgrader": {
     "cell_type": "code",
     "checksum": "e821e039881520660d4ed1ea076e2b54",
     "grade": false,
     "grade_id": "cell-324583c21d5dc89e",
     "locked": true,
     "schema_version": 3,
     "solution": false,
     "task": false
    }
   },
   "outputs": [
    {
     "data": {
      "text/html": [
       "<div>\n",
       "<style scoped>\n",
       "    .dataframe tbody tr th:only-of-type {\n",
       "        vertical-align: middle;\n",
       "    }\n",
       "\n",
       "    .dataframe tbody tr th {\n",
       "        vertical-align: top;\n",
       "    }\n",
       "\n",
       "    .dataframe thead th {\n",
       "        text-align: right;\n",
       "    }\n",
       "</style>\n",
       "<table border=\"1\" class=\"dataframe\">\n",
       "  <thead>\n",
       "    <tr style=\"text-align: right;\">\n",
       "      <th></th>\n",
       "      <th>CRIM</th>\n",
       "      <th>ZN</th>\n",
       "      <th>INDUS</th>\n",
       "      <th>CHAS</th>\n",
       "      <th>NOX</th>\n",
       "      <th>RM</th>\n",
       "      <th>AGE</th>\n",
       "      <th>DIS</th>\n",
       "      <th>RAD</th>\n",
       "      <th>TAX</th>\n",
       "      <th>PTRATIO</th>\n",
       "      <th>B</th>\n",
       "      <th>LSTAT</th>\n",
       "      <th>MEDV</th>\n",
       "    </tr>\n",
       "  </thead>\n",
       "  <tbody>\n",
       "    <tr>\n",
       "      <th>222</th>\n",
       "      <td>0.62356</td>\n",
       "      <td>0.0</td>\n",
       "      <td>6.20</td>\n",
       "      <td>1</td>\n",
       "      <td>0.507</td>\n",
       "      <td>6.879</td>\n",
       "      <td>77.7</td>\n",
       "      <td>3.2721</td>\n",
       "      <td>8.0</td>\n",
       "      <td>307.0</td>\n",
       "      <td>17.4</td>\n",
       "      <td>390.39</td>\n",
       "      <td>9.93</td>\n",
       "      <td>27.5</td>\n",
       "    </tr>\n",
       "    <tr>\n",
       "      <th>234</th>\n",
       "      <td>0.44791</td>\n",
       "      <td>0.0</td>\n",
       "      <td>6.20</td>\n",
       "      <td>1</td>\n",
       "      <td>0.507</td>\n",
       "      <td>6.726</td>\n",
       "      <td>66.5</td>\n",
       "      <td>3.6519</td>\n",
       "      <td>8.0</td>\n",
       "      <td>307.0</td>\n",
       "      <td>17.4</td>\n",
       "      <td>360.20</td>\n",
       "      <td>8.05</td>\n",
       "      <td>29.0</td>\n",
       "    </tr>\n",
       "    <tr>\n",
       "      <th>216</th>\n",
       "      <td>0.04560</td>\n",
       "      <td>0.0</td>\n",
       "      <td>13.89</td>\n",
       "      <td>1</td>\n",
       "      <td>0.550</td>\n",
       "      <td>5.888</td>\n",
       "      <td>56.0</td>\n",
       "      <td>3.1121</td>\n",
       "      <td>5.0</td>\n",
       "      <td>276.0</td>\n",
       "      <td>16.4</td>\n",
       "      <td>392.80</td>\n",
       "      <td>13.51</td>\n",
       "      <td>23.3</td>\n",
       "    </tr>\n",
       "    <tr>\n",
       "      <th>152</th>\n",
       "      <td>1.12658</td>\n",
       "      <td>0.0</td>\n",
       "      <td>19.58</td>\n",
       "      <td>1</td>\n",
       "      <td>0.871</td>\n",
       "      <td>5.012</td>\n",
       "      <td>88.0</td>\n",
       "      <td>1.6102</td>\n",
       "      <td>5.0</td>\n",
       "      <td>403.0</td>\n",
       "      <td>14.7</td>\n",
       "      <td>343.28</td>\n",
       "      <td>12.12</td>\n",
       "      <td>15.3</td>\n",
       "    </tr>\n",
       "    <tr>\n",
       "      <th>209</th>\n",
       "      <td>0.43571</td>\n",
       "      <td>0.0</td>\n",
       "      <td>10.59</td>\n",
       "      <td>1</td>\n",
       "      <td>0.489</td>\n",
       "      <td>5.344</td>\n",
       "      <td>100.0</td>\n",
       "      <td>3.8750</td>\n",
       "      <td>4.0</td>\n",
       "      <td>277.0</td>\n",
       "      <td>18.6</td>\n",
       "      <td>396.90</td>\n",
       "      <td>23.09</td>\n",
       "      <td>20.0</td>\n",
       "    </tr>\n",
       "  </tbody>\n",
       "</table>\n",
       "</div>"
      ],
      "text/plain": [
       "        CRIM   ZN  INDUS  CHAS    NOX     RM    AGE     DIS  RAD    TAX  \\\n",
       "222  0.62356  0.0   6.20     1  0.507  6.879   77.7  3.2721  8.0  307.0   \n",
       "234  0.44791  0.0   6.20     1  0.507  6.726   66.5  3.6519  8.0  307.0   \n",
       "216  0.04560  0.0  13.89     1  0.550  5.888   56.0  3.1121  5.0  276.0   \n",
       "152  1.12658  0.0  19.58     1  0.871  5.012   88.0  1.6102  5.0  403.0   \n",
       "209  0.43571  0.0  10.59     1  0.489  5.344  100.0  3.8750  4.0  277.0   \n",
       "\n",
       "     PTRATIO       B  LSTAT  MEDV  \n",
       "222     17.4  390.39   9.93  27.5  \n",
       "234     17.4  360.20   8.05  29.0  \n",
       "216     16.4  392.80  13.51  23.3  \n",
       "152     14.7  343.28  12.12  15.3  \n",
       "209     18.6  396.90  23.09  20.0  "
      ]
     },
     "execution_count": 24,
     "metadata": {},
     "output_type": "execute_result"
    }
   ],
   "source": [
    "from overwrite import exercise_1_4_2\n",
    "\n",
    "lower_eq_df = exercise_1_4_2()\n",
    "lower_eq_df.sample(5)"
   ]
  },
  {
   "cell_type": "code",
   "execution_count": 25,
   "metadata": {
    "deletable": false,
    "nbgrader": {
     "cell_type": "code",
     "checksum": "30fd24f9c64ea3ca7dc05fb36993dad0",
     "grade": false,
     "grade_id": "cell-7247ece529fe261a",
     "locked": false,
     "schema_version": 3,
     "solution": true,
     "task": false
    }
   },
   "outputs": [],
   "source": [
    "@max_allowed_loops(0)\n",
    "@no_imports\n",
    "def avg_feature(df: pd.DataFrame, name: str) -> float:\n",
    "    \"\"\"\n",
    "    Given a dataframe and a column name calculate the mean of that\n",
    "    column name\n",
    "\n",
    "    Args:\n",
    "        df (pd.DataFrame): The provided dataframe.\n",
    "        name (str): The name of the column to calculate the mean of.\n",
    "\n",
    "    Returns:\n",
    "        float: The mean of the feature.\n",
    "    \"\"\"\n",
    "    # YOUR CODE HERE\n",
    "    average_value_of_feature = np.mean(df[name])\n",
    "    # YOUR CODE HERE\n",
    "    \n",
    "\n",
    "    return average_value_of_feature"
   ]
  },
  {
   "cell_type": "code",
   "execution_count": 26,
   "metadata": {
    "deletable": false,
    "editable": false,
    "nbgrader": {
     "cell_type": "code",
     "checksum": "8fec67743e45ca0d7ac927411a031c7b",
     "grade": true,
     "grade_id": "cell-627c5b2f03e722ae",
     "locked": true,
     "points": 2,
     "schema_version": 3,
     "solution": false,
     "task": false
    }
   },
   "outputs": [],
   "source": [
    "low_crime_with_river_mean = avg_feature(lower_eq_df, \"MEDV\")\n",
    "t.assertAlmostEqual(low_crime_with_river_mean, 28.62)\n",
    "\n",
    "small_df = pd.DataFrame({\"x\": [1, 2, 3], \"y\": [4, 5, 6]})\n",
    "t.assertAlmostEqual(avg_feature(small_df, \"x\"), 2.0)"
   ]
  },
  {
   "cell_type": "code",
   "execution_count": 27,
   "metadata": {
    "deletable": false,
    "editable": false,
    "nbgrader": {
     "cell_type": "code",
     "checksum": "0991fd76e38fe7bb27cc649e1e5bba28",
     "grade": false,
     "grade_id": "cell-f911ee4f3e9dbe8c",
     "locked": true,
     "schema_version": 3,
     "solution": false,
     "task": false
    }
   },
   "outputs": [],
   "source": [
    "low_crime_with_river_mean = 28.62"
   ]
  },
  {
   "cell_type": "code",
   "execution_count": 28,
   "metadata": {
    "deletable": false,
    "nbgrader": {
     "cell_type": "code",
     "checksum": "56e0c5d23c4b1406571c45e1ef4e7986",
     "grade": false,
     "grade_id": "cell-4df46ed710679871",
     "locked": false,
     "schema_version": 3,
     "solution": true,
     "task": false
    }
   },
   "outputs": [],
   "source": [
    "@max_allowed_loops(0)\n",
    "@no_imports\n",
    "def compare_means(specific_mean, overall_mean):\n",
    "    \"\"\"\n",
    "    Calculate the percetange difference between two mean values.\n",
    "\n",
    "    Args:\n",
    "        specific_mean (float): The specific mean (of some filtered df).\n",
    "        overall_mean (float): The mean of the original df.\n",
    "\n",
    "    Returns:\n",
    "        float: The percentage of the difference normalized.\n",
    "\n",
    "    Examples:\n",
    "    >>> compare_means(10, 1)\n",
    "    >>> 900.0\n",
    "    >>> compare_means(3, 2)\n",
    "    >>> 50.0\n",
    "    >>> compare_means(100, 100)\n",
    "    >>> 0.0\n",
    "    \"\"\"\n",
    "    # YOUR CODE HERE\n",
    "    means = np.array([specific_mean, overall_mean])\n",
    "    percentage_mean_compared_to_overall_mean = ((np.max(means) - np.min(means))/np.min(means))*100.0\n",
    "    # YOUR CODE HERE\n",
    "    \n",
    "    return percentage_mean_compared_to_overall_mean"
   ]
  },
  {
   "cell_type": "code",
   "execution_count": 29,
   "metadata": {
    "deletable": false,
    "editable": false,
    "nbgrader": {
     "cell_type": "code",
     "checksum": "f2799947b84e52e6bf2d20019a7ebe1c",
     "grade": true,
     "grade_id": "cell-d138ebe9274e62e7",
     "locked": true,
     "points": 5,
     "schema_version": 3,
     "solution": false,
     "task": false
    }
   },
   "outputs": [
    {
     "name": "stdout",
     "output_type": "stream",
     "text": [
      "Properties with low crime rate and close to a river cost in avg. 27.0% more.\n"
     ]
    }
   ],
   "source": [
    "more_medv = compare_means(low_crime_with_river_mean, mean_medv)\n",
    "print(\n",
    "    f\"Properties with low crime rate and close to a river cost in avg. {more_medv:0.1f}% more.\"\n",
    ")\n",
    "t.assertAlmostEqual(compare_means(10, 1), 900.0)\n",
    "t.assertAlmostEqual(compare_means(-1, 1), -200.0)"
   ]
  },
  {
   "cell_type": "markdown",
   "metadata": {
    "deletable": false,
    "editable": false,
    "nbgrader": {
     "cell_type": "markdown",
     "checksum": "ee0568b28cddb57135106f8d57cf2a9f",
     "grade": false,
     "grade_id": "cell-38a7f1845cf70986",
     "locked": true,
     "schema_version": 3,
     "solution": false,
     "task": false
    }
   },
   "source": [
    "# $\\textbf{Exercise 2: } \\text{Normalization And Visualization (25 Points})$\n",
    " \n",
    "In the second exercise you will process and visualize the data.\n",
    "\n",
    "<hr>\n",
    "\n",
    "### Exercise 2.1: Normalize the data ( 5 points ) \n",
    "\n",
    "<hr>\n",
    "\n",
    "You begin by normalizing the data.\n",
    "\n",
    "* Give the house pricing data zero-mean and a standard deviation equal to one.\n",
    "* Remember to copy the data first as to not overwrite the original data.\n",
    "\n",
    "\n",
    "* Loops allowed in this excercise: 0"
   ]
  },
  {
   "cell_type": "code",
   "execution_count": 30,
   "metadata": {
    "deletable": false,
    "nbgrader": {
     "cell_type": "code",
     "checksum": "44f0b3a89624781b2350d6f77d373707",
     "grade": false,
     "grade_id": "cell-cde52e95ef6417d7",
     "locked": false,
     "schema_version": 3,
     "solution": true,
     "task": false
    }
   },
   "outputs": [],
   "source": [
    "@max_allowed_loops(0)\n",
    "@no_imports\n",
    "def normalize_(data: np.ndarray, axis: int = 0) -> np.ndarray:\n",
    "    \"\"\"\n",
    "    Normalizes a dataset along an axis to a standard normal\n",
    "    distribiution, i.e. the mean of the dataset is 0 and the\n",
    "    standard deviation is 1.\n",
    "\n",
    "    Args:\n",
    "        data (np.ndarray): The dataset to normalize.\n",
    "        axis (int): The axis along to normalize.\n",
    "\n",
    "    Returns:\n",
    "        np.ndarray: The normalized dataset.\n",
    "    \"\"\"\n",
    "    # YOUR CODE HERE\n",
    "    data = data - np.mean(data, axis=axis)\n",
    "    data = data / np.std(data, axis=axis)\n",
    "    \n",
    "    \n",
    "    return data\n",
    "    # YOUR CODE HERE\n",
    "    \n",
    "    "
   ]
  },
  {
   "cell_type": "code",
   "execution_count": 31,
   "metadata": {
    "deletable": false,
    "editable": false,
    "nbgrader": {
     "cell_type": "code",
     "checksum": "218344a609a4623902840322a24b4fdf",
     "grade": true,
     "grade_id": "cell-8df6867dabfbeb38",
     "locked": true,
     "points": 5,
     "schema_version": 3,
     "solution": false,
     "task": false
    }
   },
   "outputs": [],
   "source": [
    "data = boston[\"data\"]\n",
    "targets = boston[\"target\"]\n",
    "data_norm = normalize_(data)\n",
    "\n",
    "t.assertIsNot(data, data_norm)\n",
    "\n",
    "t.assertEqual(data_norm.shape, (targets.shape[0], 13))\n",
    "np.testing.assert_allclose(data_norm.mean(0), 0, atol=1e-3)\n",
    "np.testing.assert_allclose(data_norm.std(0), 1)\n",
    "\n",
    "small_data = np.random.rand(2, 100)\n",
    "small_data_norm = normalize_(small_data, axis=0)\n",
    "\n",
    "t.assertEqual(small_data.shape, small_data_norm.shape)\n",
    "np.testing.assert_allclose(small_data_norm.mean(0), 0, atol=1e-3)\n",
    "np.testing.assert_allclose(small_data_norm.std(0), 1)\n"
   ]
  },
  {
   "cell_type": "code",
   "execution_count": 32,
   "metadata": {
    "deletable": false,
    "editable": false,
    "nbgrader": {
     "cell_type": "code",
     "checksum": "86f896c17dc6da4e9892b900f88b378c",
     "grade": false,
     "grade_id": "cell-c9ff96489cae506c",
     "locked": true,
     "schema_version": 3,
     "solution": false,
     "task": false
    }
   },
   "outputs": [
    {
     "data": {
      "text/plain": [
       "(array([-1.54740660e-11, -4.30830583e-10, -3.72726821e-10,  8.49803563e-11,\n",
       "         2.77470952e-10, -2.92687001e-11,  4.82490112e-10,  1.20063233e-10,\n",
       "        -1.00197640e-09,  1.26877085e-10, -1.62252801e-10,  1.66795063e-11,\n",
       "         2.59879794e-11]),\n",
       " array([1., 1., 1., 1., 1., 1., 1., 1., 1., 1., 1., 1., 1.]))"
      ]
     },
     "execution_count": 32,
     "metadata": {},
     "output_type": "execute_result"
    }
   ],
   "source": [
    "from overwrite import exercise_2_1\n",
    "\n",
    "data_norm = exercise_2_1()\n",
    "\n",
    "data_norm.mean(0), data_norm.std(0)"
   ]
  },
  {
   "cell_type": "markdown",
   "metadata": {
    "deletable": false,
    "editable": false,
    "nbgrader": {
     "cell_type": "markdown",
     "checksum": "ac2a8246762584430069181de259c746",
     "grade": false,
     "grade_id": "cell-c49cfc80b6f6b5d6",
     "locked": true,
     "schema_version": 3,
     "solution": false,
     "task": false
    }
   },
   "source": [
    "### Exercise 2.2: Dimensionality Reduction ( 5 points ) \n",
    "\n",
    "<hr>\n",
    "\n",
    "Since it is not possible to simply visualize data with a dimensionality bigger than three, a common visualization method is to reduce the dimensionality by finding the most relevant directions of the data and projecting the data onto them (PCA).\n",
    "\n",
    "* Perform dimensionality reduction with PCA from the sklearn package.\n",
    "* _fit_pca()_ returns the pca and the projected data `X_proj`.\n",
    "\n",
    "\n",
    "* Loops allowed in this excercise: 0"
   ]
  },
  {
   "cell_type": "code",
   "execution_count": 33,
   "metadata": {
    "deletable": false,
    "nbgrader": {
     "cell_type": "code",
     "checksum": "add283cbe401aaa904ff23ec0b0d7e3c",
     "grade": false,
     "grade_id": "cell-1fb138c755316454",
     "locked": false,
     "schema_version": 3,
     "solution": true,
     "task": false
    }
   },
   "outputs": [],
   "source": [
    "from sklearn.decomposition import PCA\n",
    "\n",
    "\n",
    "@max_allowed_loops(0)\n",
    "@no_imports\n",
    "def fit_pca(data: np.ndarray, n_components: int) -> Tuple[PCA, np.ndarray]:\n",
    "    \"\"\"\n",
    "    Apply PCA on a given dataset and keep `n_components` components after\n",
    "    the transform.\n",
    "\n",
    "    Args:\n",
    "        data (np.ndarray): The data to tranform.\n",
    "        n_components (int): The number of components to keep.\n",
    "\n",
    "    Returns:\n",
    "        Tuple[PCA, np.ndarray]: The fitted PCA instance, as well as the\n",
    "        transformed dataset.\n",
    "    \"\"\"\n",
    "    # YOUR CODE HERE\n",
    "    pca = PCA(n_components=n_components)\n",
    "    pca.fit(data)\n",
    "    \n",
    "    return pca, pca.transform(data)\n",
    "    # YOUR CODE HERE\n",
    "    "
   ]
  },
  {
   "cell_type": "code",
   "execution_count": 34,
   "metadata": {
    "deletable": false,
    "editable": false,
    "nbgrader": {
     "cell_type": "code",
     "checksum": "987768cbd280a0b091b837aafb10fe6f",
     "grade": true,
     "grade_id": "cell-e034d597a38b05fa",
     "locked": true,
     "points": 5,
     "schema_version": 3,
     "solution": false,
     "task": false
    }
   },
   "outputs": [],
   "source": [
    "pca, X_proj = fit_pca(data_norm, 2)\n",
    "t.assertIsInstance(pca, PCA)\n",
    "t.assertIsInstance(X_proj, np.ndarray)\n",
    "\n",
    "t.assertEqual(X_proj.shape, (data_norm.shape[0], 2))\n",
    "t.assertEqual(pca.components_.shape, (2, data_norm.shape[1]))\n"
   ]
  },
  {
   "cell_type": "code",
   "execution_count": 35,
   "metadata": {},
   "outputs": [],
   "source": [
    "from overwrite import exercise_2_2\n",
    "\n",
    "# we don't need the pca instance for the\n",
    "# rest of the exercises\n",
    "X_proj = exercise_2_2()"
   ]
  },
  {
   "cell_type": "markdown",
   "metadata": {},
   "source": [
    "### Exercise 2.3: Visualize The Projected Data ( 15 points ) \n",
    "\n",
    "<hr>\n",
    "\n",
    "Now you want to visualize the projected data. You will use a scatter plot and color every datapoint according to its target.\n",
    "\n",
    "* Create a scatter plot of the data.\n",
    "* Plot the data onto the given `ax` object of the subplot. Do not create a new plot.\n",
    "* Color every datapoint according to its target.\n",
    "* Use `jet` as the colormap for the scatter plot.\n",
    "\n",
    "* Turn the display of the x- and y-axis off.\n",
    "\n",
    "* Set the title to `Projected data visualization`.\n",
    "* Give the title a font size of 20.\n",
    "\n",
    "\n",
    "\n",
    "* Loops allowed in this excercise: 0"
   ]
  },
  {
   "cell_type": "code",
   "execution_count": 36,
   "metadata": {
    "deletable": false,
    "nbgrader": {
     "cell_type": "code",
     "checksum": "cdfcd73013c22e8737d4254a2050fda3",
     "grade": true,
     "grade_id": "cell-4b6be28fd5aa3a8c",
     "locked": false,
     "points": 15,
     "schema_version": 3,
     "solution": true,
     "task": false
    }
   },
   "outputs": [],
   "source": [
    "from mpl_toolkits.axes_grid1 import make_axes_locatable\n",
    "\n",
    "\n",
    "@max_allowed_loops(0)\n",
    "@no_imports\n",
    "def plot_projected_data(X_proj, targets):\n",
    "\n",
    "    fig, ax = plt.subplots(figsize=(14, 8))\n",
    "    divider = make_axes_locatable(ax)\n",
    "    cax = divider.append_axes(\"right\", size=\"3%\", pad=1)\n",
    "\n",
    "    # YOUR CODE HERE\n",
    "    im = ax.scatter(*X_proj.T, cmap=\"jet\", c=targets)\n",
    "    ax.axis(\"off\")\n",
    "    ax.set_title(\"Projected data visualization\", fontsize=20)\n",
    "    # YOUR CODE HERE\n",
    "    \n",
    "\n",
    "    cbar = fig.colorbar(im, cax=cax)\n",
    "    cbar.set_label(\"Median value of owner-occupied homes in $1000\")"
   ]
  },
  {
   "cell_type": "code",
   "execution_count": 37,
   "metadata": {
    "deletable": false,
    "editable": false,
    "nbgrader": {
     "cell_type": "code",
     "checksum": "9e3bd6004dc2cce2977e78bdc885bb3b",
     "grade": false,
     "grade_id": "cell-51e62474d4433e3c",
     "locked": true,
     "schema_version": 3,
     "solution": false,
     "task": false
    }
   },
   "outputs": [
    {
     "data": {
      "image/png": "[encoded data removed]",
      "text/plain": [
       "<Figure size 1008x576 with 2 Axes>"
      ]
     },
     "metadata": {
      "needs_background": "light"
     },
     "output_type": "display_data"
    }
   ],
   "source": [
    "plot_projected_data(X_proj, targets)"
   ]
  },
  {
   "cell_type": "markdown",
   "metadata": {},
   "source": [
    "Below you will find a reference plot\n",
    "![plot1](images/plot_1.png)"
   ]
  },
  {
   "cell_type": "markdown",
   "metadata": {
    "deletable": false,
    "editable": false,
    "nbgrader": {
     "cell_type": "markdown",
     "checksum": "bc7ade9fdb69354a595e066e6eb7caf4",
     "grade": false,
     "grade_id": "cell-87c20bc5cf6e2d76",
     "locked": true,
     "schema_version": 3,
     "solution": false,
     "task": false
    }
   },
   "source": [
    "# $\\textbf{Exercise 3: } \\text{Boston House Price Data And Kernel Ridge Regression (45 Points})$\n",
    " \n",
    "In the second exercise you will apply regression to the data, optimize the results and try to predict its behavior on unseen data.\n",
    "\n",
    "<hr>\n",
    "\n",
    "### Exercise 3.1: Splitting The Data ( 5 points ) \n",
    "\n",
    "<hr>\n",
    "\n",
    "First you want to split the dataset into three. Put aside the test data first and split the remaining data into train and validation set.\n",
    "\n",
    "* Split data into train and test sets using the _train_test_split_ function from the __sklearn__ package.\n",
    "\n",
    "* The test set should contain 10% of the data.\n",
    "\n",
    "* Split the remaining data into train and validation set.\n",
    "\n",
    "* The validation set contains 10% of the remaining data and the rest will be used for training.\n",
    "\n",
    "\n",
    "* Loops allowed in this excercise: 0"
   ]
  },
  {
   "cell_type": "code",
   "execution_count": 38,
   "metadata": {
    "deletable": false,
    "editable": false,
    "nbgrader": {
     "cell_type": "code",
     "checksum": "d2bc45f7a45848b266f919b08fef841b",
     "grade": false,
     "grade_id": "cell-d175fa9b83ca4381",
     "locked": true,
     "schema_version": 3,
     "solution": false,
     "task": false
    }
   },
   "outputs": [],
   "source": [
    "from sklearn.model_selection import train_test_split"
   ]
  },
  {
   "cell_type": "code",
   "execution_count": 39,
   "metadata": {
    "deletable": false,
    "nbgrader": {
     "cell_type": "code",
     "checksum": "3ec4292dad6b9ead56f917b98780c0e6",
     "grade": false,
     "grade_id": "cell-f7dcb1b05ce68e33",
     "locked": false,
     "schema_version": 3,
     "solution": true,
     "task": false
    }
   },
   "outputs": [],
   "source": [
    "@max_allowed_loops(0)\n",
    "@no_imports\n",
    "def get_train_test_val_sets(\n",
    "    data: np.ndarray, targets: np.ndarray\n",
    ") -> Tuple[np.ndarray, np.ndarray, np.ndarray, np.ndarray, np.ndarray, np.ndarray,]:\n",
    "    \"\"\"\n",
    "    Splits a given dataset of data and targets into train, test and\n",
    "    valiation sets. The test set consists of 10% of the data. The\n",
    "    rest of the data is again split such that the size of the validation\n",
    "    set is 10% of the train set size.\n",
    "\n",
    "    Args:\n",
    "        data (np.ndarray): The data values of the dataset\n",
    "        target (np.ndarray): The target values of the dataset\n",
    "\n",
    "    Returns:\n",
    "        Tuple[np.ndarray, np.ndarray, np.ndarray,\n",
    "        np.ndarray, np.ndarray, np.ndarray,]: The test, train and validation\n",
    "        data, and the test, train and validation targets\n",
    "    \"\"\"\n",
    "\n",
    "    # YOUR CODE HERE\n",
    "    X_remain, X_te, y_remain, y_te  = train_test_split(data,targets, test_size=0.1)\n",
    "    print(X_te.shape, X_remain.shape, y_remain.shape, y_te.shape)\n",
    "    X_tr, X_val, y_tr, y_val = train_test_split(X_remain, y_remain, test_size=0.1, train_size=0.9)\n",
    "    # YOUR CODE HERE\n",
    "    \n",
    "\n",
    "    return X_te, X_tr, X_val, y_te, y_tr, y_val"
   ]
  },
  {
   "cell_type": "code",
   "execution_count": 40,
   "metadata": {
    "deletable": false,
    "editable": false,
    "nbgrader": {
     "cell_type": "code",
     "checksum": "2d79352cdfbda597351d9ac5bb5564ad",
     "grade": true,
     "grade_id": "cell-c680454f32b5ec6a",
     "locked": true,
     "points": 5,
     "schema_version": 3,
     "solution": false,
     "task": false
    }
   },
   "outputs": [
    {
     "name": "stdout",
     "output_type": "stream",
     "text": [
      "(51, 13) (455, 13) (455,) (51,)\n",
      "(10, 2) (90, 2) (90,) (10,)\n"
     ]
    }
   ],
   "source": [
    "X_te, X_tr, X_val, y_te, y_tr, y_val = get_train_test_val_sets(data_norm, targets)\n",
    "for v in (X_te, X_tr, X_val, y_te, y_tr, y_val):\n",
    "    t.assertIsInstance(v, np.ndarray)\n",
    "\n",
    "t.assertEqual(len(X_te) + len(X_tr) + len(X_val), len(data_norm))\n",
    "t.assertTrue(len(X_val) < len(X_te) < len(X_tr))\n",
    "\n",
    "small_data = np.random.rand(100, 2)\n",
    "small_targets = np.random.rand(100)\n",
    "Xte, Xtr, Xvl, yte, ytr, yvl = get_train_test_val_sets(small_data, small_targets)\n",
    "t.assertEqual(len(Xte), 10)\n",
    "t.assertEqual(len(Xte), len(yte))\n",
    "t.assertEqual(len(Xtr), 81)\n",
    "t.assertEqual(len(Xtr), len(ytr))\n",
    "t.assertEqual(len(Xvl), 9)\n",
    "t.assertEqual(len(Xvl), len(yvl))"
   ]
  },
  {
   "cell_type": "code",
   "execution_count": 41,
   "metadata": {
    "deletable": false,
    "editable": false,
    "nbgrader": {
     "cell_type": "code",
     "checksum": "76c195a8a191e6be1228cd5012a44909",
     "grade": false,
     "grade_id": "cell-5cf45cb851116ab1",
     "locked": true,
     "schema_version": 3,
     "solution": false,
     "task": false
    }
   },
   "outputs": [],
   "source": [
    "from overwrite import exercise_3_1\n",
    "\n",
    "X_te, X_tr, X_val, y_te, y_tr, y_val = exercise_3_1()"
   ]
  },
  {
   "cell_type": "markdown",
   "metadata": {
    "deletable": false,
    "editable": false,
    "nbgrader": {
     "cell_type": "markdown",
     "checksum": "933d9508ebb0e6616a5163adbad79433",
     "grade": false,
     "grade_id": "cell-8e726ce42a0184fc",
     "locked": true,
     "schema_version": 3,
     "solution": false,
     "task": false
    }
   },
   "source": [
    "### Exercise 3.2: Target Value Distribution Plot ( 10 points ) \n",
    "\n",
    "<hr>\n",
    "\n",
    "Now you visualize how the target values of the data are distributed using a histogram plot.\n",
    "\n",
    "* Plot the passed `y` values in a histogram plot.\n",
    "* Assign the passed number of `bins`, and give them a relative width of `0.8`.\n",
    "* Color the histogram green and give it an alpha value of `0.7`.\n",
    "* Normalize the area under the histogram to one, that can be done ticking the correct parameter.\n",
    "* Set the label of the histogram to $p(y)$.\n",
    "\n",
    "\n",
    "* Compute the mean of the target data and plot it as a vertical, dashed, red line.\n",
    "* Give the mean the dynamic label: `mean val: {insert mean target value here}`\n",
    "* Round the mean value for the label to display only one decimal after the decimal separator.\n",
    "\n",
    "\n",
    "* Set the x_label to the passed `target_name` with a font size of `15`.\n",
    "* Give the legend a fontsize of `15`.\n",
    "* Set the title of the plot to the passed `title` with a font size of `25`.\n",
    "* Set the x-ticks to go from the smallest `y`-value to the biggest `y`-value in a step size of one.\n",
    "\n",
    "\n",
    "* Loops allowed in this excercise: 0"
   ]
  },
  {
   "cell_type": "code",
   "execution_count": 42,
   "metadata": {
    "deletable": false,
    "nbgrader": {
     "cell_type": "code",
     "checksum": "7e2139d9bb2d55e6605d66a06137c30d",
     "grade": true,
     "grade_id": "cell-07b2ec5139516b81",
     "locked": false,
     "points": 10,
     "schema_version": 3,
     "solution": true,
     "task": false
    }
   },
   "outputs": [],
   "source": [
    "@max_allowed_loops(0)\n",
    "@no_imports\n",
    "def plot_target_dist(y, bins=30, title=\"\", target_name=\"MEDV\"):\n",
    "\n",
    "    plt.figure(figsize=(14, 6))\n",
    "\n",
    "    ax = plt.gca()\n",
    "\n",
    "    # YOUR CODE HERE\n",
    "    ax.hist(y, bins=bins, rwidth=0.8, alpha=0.7, label='p(y)', density=True, color='green') \n",
    "    ax.axvline(y.mean(), ls='--', c='r', label='mean val:'+f'{y.mean():0.1f}')\n",
    "    ax.set_xlabel(f'{target_name}', fontsize=15)\n",
    "    ax.legend(fontsize=15)\n",
    "    ax.set_title(f\"{title}\", fontsize=25)\n",
    "    print(np.min(y))\n",
    "    x_ticks = range(np.min(y).astype(int), np.max(y).astype(int))\n",
    "    ax.set_xticks(x_ticks)\n",
    "    \n",
    "    # YOUR CODE HERE\n",
    "    \n",
    "\n",
    "    return ax"
   ]
  },
  {
   "cell_type": "code",
   "execution_count": 43,
   "metadata": {},
   "outputs": [
    {
     "name": "stdout",
     "output_type": "stream",
     "text": [
      "5.0\n"
     ]
    },
    {
     "data": {
      "text/plain": [
       "<AxesSubplot:title={'center':'Target value distribution'}, xlabel='MEDV'>"
      ]
     },
     "execution_count": 43,
     "metadata": {},
     "output_type": "execute_result"
    },
    {
     "data": {
      "image/png": "[encoded data removed]",
      "text/plain": [
       "<Figure size 1008x432 with 1 Axes>"
      ]
     },
     "metadata": {
      "needs_background": "light"
     },
     "output_type": "display_data"
    }
   ],
   "source": [
    "plot_target_dist(y_tr, title=\"Target value distribution\")"
   ]
  },
  {
   "cell_type": "markdown",
   "metadata": {},
   "source": [
    "Below you will find a reference plot\n",
    "![](images/plot_2.png)"
   ]
  },
  {
   "cell_type": "code",
   "execution_count": null,
   "metadata": {
    "deletable": false,
    "editable": false,
    "nbgrader": {
     "cell_type": "code",
     "checksum": "a59b5b938cfb6a0ba4a74fad25edc391",
     "grade": true,
     "grade_id": "cell-729da6999c2690a4",
     "locked": true,
     "points": 0,
     "schema_version": 3,
     "solution": false,
     "task": false
    }
   },
   "outputs": [],
   "source": []
  },
  {
   "cell_type": "markdown",
   "metadata": {
    "deletable": false,
    "editable": false,
    "nbgrader": {
     "cell_type": "markdown",
     "checksum": "36cc08ca4abd975275e2e1c71181f998",
     "grade": false,
     "grade_id": "cell-c0449185d9806297",
     "locked": true,
     "schema_version": 3,
     "solution": false,
     "task": false
    }
   },
   "source": [
    "### Exercise 3.3: Gaussian Kernel ( 10 points ) \n",
    "\n",
    "<hr>\n",
    "\n",
    "To project the data into augmented space you have to define the kernel.\n",
    "\n",
    "\n",
    "* Implement the gaussian kernel as follows:\n",
    "\n",
    "$$\\Large{\n",
    "    K(A_i, B_j) = \\exp(-\\gamma^2 \\sum_{d=1}^D (A_{id} - B_{jd})^2)},$$ \n",
    "\n",
    "$$\\text{where} \\quad A \\in \\mathbb{R}^{(N,D)}, \\quad B \\in \\mathbb{R}^{(M,D)}, \\quad K(A,B) \\in \\mathbb{R}^{(N,M)}$$\n",
    "\n",
    "* $\\gamma$ is the `gamma` which is passed to the function.\n",
    "\n",
    "\n",
    "* Loops allowed in this excercise: 0"
   ]
  },
  {
   "cell_type": "code",
   "execution_count": 67,
   "metadata": {
    "deletable": false,
    "nbgrader": {
     "cell_type": "code",
     "checksum": "ffc9f1d7fd990cf837e43c764e3b11ae",
     "grade": false,
     "grade_id": "cell-8965904d56294f9e",
     "locked": false,
     "schema_version": 3,
     "solution": true,
     "task": false
    }
   },
   "outputs": [],
   "source": [
    "@max_allowed_loops(0)\n",
    "@no_imports\n",
    "def gaussian_kernel(Xi: np.ndarray, Xj: np.ndarray, gamma: float = 1e-1) -> np.ndarray:\n",
    "    \"\"\"\n",
    "    Calculate gaussian kernel given two datasets and a gamma value.\n",
    "\n",
    "    Args:\n",
    "        Xi, Xj (np.ndarray): The two datasets for which we want to\n",
    "        produce the gaussian kernel.\n",
    "        gamma (float): The kernel parameter.\n",
    "\n",
    "    Returns:\n",
    "        np.ndarray: The computed kernel.\n",
    "    \"\"\"\n",
    "    # YOUR CODE HERE\n",
    "    print(Xi[:,None].shape, Xj[None].shape, (Xi[:,None]-Xj[None]).shape)\n",
    "    K = np.exp(-gamma**2 * np.sum((Xi[:,None]-Xj[None])**2, axis=2))\n",
    "\n",
    "    # YOUR CODE HERE\n",
    "    \n",
    "    return K"
   ]
  },
  {
   "cell_type": "code",
   "execution_count": 68,
   "metadata": {
    "deletable": false,
    "editable": false,
    "nbgrader": {
     "cell_type": "code",
     "checksum": "6113ac7a65dd90f738412388199d435c",
     "grade": true,
     "grade_id": "cell-ae984b62984fa4fb",
     "locked": true,
     "points": 10,
     "schema_version": 3,
     "solution": false,
     "task": false
    }
   },
   "outputs": [
    {
     "name": "stdout",
     "output_type": "stream",
     "text": [
      "(409, 1, 13) (1, 409, 13) (409, 409, 13)\n"
     ]
    }
   ],
   "source": [
    "K_tr = gaussian_kernel(X_tr, X_tr)\n",
    "t.assertEqual(K_tr.shape, (409, 409))\n",
    "np.testing.assert_array_equal(K_tr <= 1, True)\n",
    "np.testing.assert_array_equal(K_tr > 0.1, True)\n"
   ]
  },
  {
   "cell_type": "code",
   "execution_count": 69,
   "metadata": {
    "deletable": false,
    "editable": false,
    "nbgrader": {
     "cell_type": "code",
     "checksum": "71875d80579b322c2940deaf05cb6b4c",
     "grade": false,
     "grade_id": "cell-79a4c3042ec914f6",
     "locked": true,
     "schema_version": 3,
     "solution": false,
     "task": false
    }
   },
   "outputs": [],
   "source": [
    "from overwrite import exercise_3_2\n",
    "\n",
    "K_tr = exercise_3_2()"
   ]
  },
  {
   "cell_type": "markdown",
   "metadata": {
    "deletable": false,
    "editable": false,
    "nbgrader": {
     "cell_type": "markdown",
     "checksum": "21596ddff9a1f6f86f7ba538f3d8d9d8",
     "grade": false,
     "grade_id": "cell-d085be133b9980e9",
     "locked": true,
     "schema_version": 3,
     "solution": false,
     "task": false
    }
   },
   "source": [
    "### Exercise 3.4: Kernel Ridge Regression ( 10 points ) \n",
    "\n",
    "<hr>\n",
    "Implement the prediction step of the kernel ridge regression algorithm.\n",
    "\n",
    "- Implement a function called _alpha()_ which computes the regression weights.\n",
    "- Implement a function called _make_prediction()_ which computes the predicted target values.\n",
    "- Implement a function called _root_mean_square_error()_ which calculated the rmse between two vectors.\n",
    "\n",
    "\n",
    "$$\\text{Given } (y_{tr}, X_{tr}) \\text{ and } (y, X)$$\n",
    "\n",
    "$$\\Large{\n",
    "    \\hat y = \\underbrace{y_{tr}  (K_{tr} + \\lambda^2 \\mathbb{I})^{-1}}_{\\alpha} \\mathcal{K}(X), \\quad }$$ \n",
    "    \n",
    "$$\\text{ where } \\alpha \\in \\mathbb{R}^{N} \\quad K_{tr} = K(X_{tr}, X_{tr}) \\in \\mathbb{R}^{(N,N)} \\quad \\mathcal{K}(X) = K(X_{tr}, X)$$ \n",
    "\n",
    "<br>\n",
    "\n",
    "* Loops allowed in this excercise: 0"
   ]
  },
  {
   "cell_type": "code",
   "execution_count": 70,
   "metadata": {
    "deletable": false,
    "nbgrader": {
     "cell_type": "code",
     "checksum": "d645d4e577c818dfafe7013e03eb15f2",
     "grade": false,
     "grade_id": "cell-bdfe3fb0d1631b61",
     "locked": false,
     "schema_version": 3,
     "solution": true,
     "task": false
    }
   },
   "outputs": [],
   "source": [
    "@max_allowed_loops(0)\n",
    "@no_imports\n",
    "def alpha(K: np.ndarray, y: np.ndarray, lambd: float = 1e-2) -> np.ndarray:\n",
    "    \"\"\"\n",
    "    Calculate the alpha term of the prediction.\n",
    "\n",
    "    Args:\n",
    "        K (np.ndarray): The kernel derived from the training data.\n",
    "        y (np.ndarray): The targets.\n",
    "        lambd (float): The regularization parameter.\n",
    "\n",
    "    Returns:\n",
    "        np.ndarray: The alpha term.\n",
    "    \"\"\"\n",
    "    # YOUR CODE HERE\n",
    "    alpha = y @ np.linalg.inv((K + lambd**2 * np.identity(K.shape[0])))\n",
    "    return alpha\n",
    "    # YOUR CODE HERE\n",
    "    "
   ]
  },
  {
   "cell_type": "code",
   "execution_count": 71,
   "metadata": {
    "deletable": false,
    "editable": false,
    "nbgrader": {
     "cell_type": "code",
     "checksum": "a0b31179dc6588da24484d5ed0904fe1",
     "grade": true,
     "grade_id": "cell-7cf247a90b659131",
     "locked": true,
     "points": 3,
     "schema_version": 3,
     "solution": false,
     "task": false
    }
   },
   "outputs": [
    {
     "name": "stdout",
     "output_type": "stream",
     "text": [
      "-59157.34238591413 119913.60757139386\n"
     ]
    }
   ],
   "source": [
    "alph = alpha(K_tr, y_tr)\n",
    "t.assertEqual(alph.shape, (409,))\n",
    "print(alph.min(), alph.max())\n",
    "np.testing.assert_array_less(-60000, alph)\n",
    "np.testing.assert_array_equal(alph < 120000, True)\n"
   ]
  },
  {
   "cell_type": "code",
   "execution_count": 72,
   "metadata": {
    "deletable": false,
    "editable": false,
    "nbgrader": {
     "cell_type": "code",
     "checksum": "9f5ca6395038274560654a74a9eedcb3",
     "grade": false,
     "grade_id": "cell-3a71a1e1f24ef81c",
     "locked": true,
     "schema_version": 3,
     "solution": false,
     "task": false
    }
   },
   "outputs": [],
   "source": [
    "from overwrite import exercise_3_3_1\n",
    "\n",
    "alph = exercise_3_3_1()"
   ]
  },
  {
   "cell_type": "code",
   "execution_count": 86,
   "metadata": {
    "deletable": false,
    "nbgrader": {
     "cell_type": "code",
     "checksum": "2727530e78023b5c6ece6c4a9501d79f",
     "grade": false,
     "grade_id": "cell-2f2ca08c34e16146",
     "locked": false,
     "schema_version": 3,
     "solution": true,
     "task": false
    }
   },
   "outputs": [],
   "source": [
    "@max_allowed_loops(0)\n",
    "@no_imports\n",
    "def make_prediction(X: np.ndarray) -> np.ndarray:\n",
    "    \"\"\"\n",
    "    Calculate the gaussian kernel and apply the above formula\n",
    "    to make predictions on given data (using the precalculated alph term).\n",
    "\n",
    "    Args:\n",
    "        X (np.ndarray): The data for which we want predictions.\n",
    "\n",
    "    Returns:\n",
    "        np.ndarray: The predicitons for `X`.\n",
    "    \"\"\"\n",
    "    # YOUR CODE HERE\n",
    "    print(alph.shape)\n",
    "    predicts = alph @ gaussian_kernel(X_tr, X)\n",
    "    return predicts.T\n",
    "    # YOUR CODE HERE\n",
    "    "
   ]
  },
  {
   "cell_type": "code",
   "execution_count": 87,
   "metadata": {
    "deletable": false,
    "editable": false,
    "nbgrader": {
     "cell_type": "code",
     "checksum": "075969c4361610644f92e207504a4426",
     "grade": true,
     "grade_id": "cell-0eb1bd688c95cc3f",
     "locked": true,
     "points": 4,
     "schema_version": 3,
     "solution": false,
     "task": false
    }
   },
   "outputs": [
    {
     "name": "stdout",
     "output_type": "stream",
     "text": [
      "(409,)\n",
      "(409, 1, 13) (1, 409, 13) (409, 409, 13)\n",
      "(409,)\n",
      "(409, 1, 13) (1, 51, 13) (409, 51, 13)\n",
      "(409,)\n",
      "(409, 1, 13) (1, 46, 13) (409, 46, 13)\n"
     ]
    }
   ],
   "source": [
    "y_tr_hat = make_prediction(X_tr)\n",
    "t.assertEqual(y_tr_hat.shape, (409,))\n",
    "np.testing.assert_array_equal(y_tr_hat > 4, True)\n",
    "np.testing.assert_array_equal(y_tr_hat < 52, True)\n",
    "\n",
    "\n",
    "y_te_hat = make_prediction(X_te)\n",
    "t.assertEqual(y_te_hat.shape, (51,))\n",
    "np.testing.assert_array_equal(y_te_hat > 6, True)\n",
    "np.testing.assert_array_equal(y_te_hat < 54, True)\n",
    "\n",
    "y_val_hat = make_prediction(X_val)\n",
    "t.assertEqual(y_val_hat.shape, (46,))\n",
    "np.testing.assert_array_equal(y_val_hat > 9, True)\n",
    "np.testing.assert_array_equal(y_val_hat < 57, True)"
   ]
  },
  {
   "cell_type": "code",
   "execution_count": 88,
   "metadata": {
    "deletable": false,
    "editable": false,
    "nbgrader": {
     "cell_type": "code",
     "checksum": "d5a3af87ab43b3ce3e88ac482feee091",
     "grade": false,
     "grade_id": "cell-c2a424cd5e6f777f",
     "locked": true,
     "schema_version": 3,
     "solution": false,
     "task": false
    }
   },
   "outputs": [],
   "source": [
    "from overwrite import exercise_3_3_2\n",
    "\n",
    "y_tr_hat, y_te_hat, y_val_hat = exercise_3_3_2()"
   ]
  },
  {
   "cell_type": "code",
   "execution_count": 89,
   "metadata": {
    "deletable": false,
    "nbgrader": {
     "cell_type": "code",
     "checksum": "caf842d9589fa02698a18ed31bd9a1b5",
     "grade": false,
     "grade_id": "cell-aa601572c593f515",
     "locked": false,
     "schema_version": 3,
     "solution": true,
     "task": false
    }
   },
   "outputs": [],
   "source": [
    "@max_allowed_loops(0)\n",
    "def root_mean_square_error(y: np.ndarray, y_hat: np.ndarray) -> float:\n",
    "    \"\"\"\n",
    "    Calculate the root mean square error between two vectors.\n",
    "    \"\"\"\n",
    "    # YOUR CODE HERE\n",
    "    return np.sqrt(((y_hat - y) ** 2).mean())\n",
    "    # YOUR CODE HERE\n",
    "    "
   ]
  },
  {
   "cell_type": "code",
   "execution_count": 90,
   "metadata": {
    "deletable": false,
    "editable": false,
    "nbgrader": {
     "cell_type": "code",
     "checksum": "f45dc82bc3ad2fb94b85186111d99ad4",
     "grade": true,
     "grade_id": "cell-d86f4cc9e375c8e8",
     "locked": true,
     "points": 3,
     "schema_version": 3,
     "solution": false,
     "task": false
    }
   },
   "outputs": [
    {
     "name": "stdout",
     "output_type": "stream",
     "text": [
      "Train RMSE: 1.5848222206485052\n",
      "Validation RMSE: 3.3208961436341293\n",
      "Test RMSE: 2.699517571744587\n"
     ]
    }
   ],
   "source": [
    "train_rmse = root_mean_square_error(y_tr, y_tr_hat)\n",
    "val_rmse = root_mean_square_error(y_val, y_val_hat)\n",
    "te_rmse = root_mean_square_error(y_te, y_te_hat)\n",
    "\n",
    "print(\n",
    "    f\"Train RMSE: {train_rmse}\",\n",
    "    f\"Validation RMSE: {val_rmse}\",\n",
    "    f\"Test RMSE: {te_rmse}\",\n",
    "    sep=\"\\n\",\n",
    ")\n",
    "\n",
    "t.assertAlmostEqual(train_rmse, 1.5848, places=4)\n",
    "t.assertAlmostEqual(val_rmse, 3.3209, places=4)\n",
    "t.assertAlmostEqual(te_rmse, 2.69951, places=4)"
   ]
  },
  {
   "cell_type": "markdown",
   "metadata": {
    "deletable": false,
    "editable": false,
    "nbgrader": {
     "cell_type": "markdown",
     "checksum": "9958a86243d05e192f5630f61982a9b2",
     "grade": false,
     "grade_id": "cell-1cf73d919daa39ee",
     "locked": true,
     "schema_version": 3,
     "solution": false,
     "task": false
    }
   },
   "source": [
    "### Exercise 3.5: Predicted Target Distribution Plot ( 10 points ) \n",
    "\n",
    "<hr>\n",
    "\n",
    "This task compares the actual target values `y` of the train set and those that were predicted in `y_hat`.\n",
    "\n",
    "* Plot the `y_hat` values as a histogram in the same plot that _plot_target_dist()_ returns. \n",
    "* The histogram plot should have the same settings as _plot_target_dist()_ in Exercise 3.2 has.\n",
    "* The label of this plot should be: $p(\\hat{y})$\n",
    "* It is important that both plots have the same range. Set the range of the histogram plot to `y.min()` and `y.max()`.\n",
    "\n",
    "\n",
    "* The y-label of the plot should be dynamic and display the rmse value. You can use the _root_mean_square_error()_ function to calculate it. Display only one decimal after the decimal separator: `RMSE: {insert rmse value here}`\n",
    "* Set the fontsize of the legend to `20`.\n",
    "\n",
    "\n",
    "* Loops allowed in this excercise: 0"
   ]
  },
  {
   "cell_type": "code",
   "execution_count": 91,
   "metadata": {
    "deletable": false,
    "nbgrader": {
     "cell_type": "code",
     "checksum": "e7e6124e4715d12285cd38abe862ff22",
     "grade": true,
     "grade_id": "cell-d63ce9b24ec1965a",
     "locked": false,
     "points": 10,
     "schema_version": 3,
     "solution": true,
     "task": false
    }
   },
   "outputs": [],
   "source": [
    "@max_allowed_loops(0)\n",
    "@no_imports\n",
    "def plot_dist(y: np.ndarray, y_hat: np.ndarray, title: Optional[str] = None) -> None:\n",
    "\n",
    "    ax = plot_target_dist(y, title=title)\n",
    "\n",
    "    try:\n",
    "        rmse = root_mean_square_error(y, y_hat)\n",
    "        assert isinstance(rmse, float)\n",
    "    except Excpetion:\n",
    "        rmse = 0.11  # placeholder value in case the function\n",
    "        # has not been implemented\n",
    "\n",
    "    # YOUR CODE HERE\n",
    "    ax.hist(y_hat, bins=30, rwidth=0.8, alpha=0.7, label='$p(\\haty)$', density=True, color='lightblue', range=(y.min(),y.max())) \n",
    "    rmse = root_mean_square_error(y_hat, y)\n",
    "    ax.set_ylabel(f'RMSE: {rmse:0.1f}', fontsize=15)\n",
    "    ax.legend(fontsize=20)\n",
    "    ax.set_title(f\"{title}\", fontsize=25)\n",
    "    x_ticks = range(np.min(y).astype(int), np.max(y).astype(int))\n",
    "    ax.set_xticks(x_ticks)\n",
    "    # YOUR CODE HERE\n",
    "    "
   ]
  },
  {
   "cell_type": "code",
   "execution_count": 92,
   "metadata": {
    "deletable": false,
    "editable": false,
    "nbgrader": {
     "cell_type": "code",
     "checksum": "fd1bb073c4512a826159900f8d5824c7",
     "grade": false,
     "grade_id": "cell-c719aab455eb8119",
     "locked": true,
     "schema_version": 3,
     "solution": false,
     "task": false
    }
   },
   "outputs": [
    {
     "name": "stdout",
     "output_type": "stream",
     "text": [
      "5.0\n"
     ]
    },
    {
     "data": {
      "image/png": "[encoded data removed]",
      "text/plain": [
       "<Figure size 1008x432 with 1 Axes>"
      ]
     },
     "metadata": {
      "needs_background": "light"
     },
     "output_type": "display_data"
    }
   ],
   "source": [
    "plot_dist(y_tr, y_tr_hat, \"Train target vs. predicted value distribution\")"
   ]
  },
  {
   "cell_type": "markdown",
   "metadata": {},
   "source": [
    "Below you will find a reference plot\n",
    "![](images/plot_3.png)"
   ]
  },
  {
   "cell_type": "code",
   "execution_count": null,
   "metadata": {
    "deletable": false,
    "editable": false,
    "nbgrader": {
     "cell_type": "code",
     "checksum": "714932292617438caf0f94ff9f29dea3",
     "grade": false,
     "grade_id": "cell-a706e95dcd554b72",
     "locked": true,
     "schema_version": 3,
     "solution": false,
     "task": false
    }
   },
   "outputs": [],
   "source": [
    "plot_dist(y_val, y_val_hat, \"Valid target vs. predicted value distribution\")"
   ]
  },
  {
   "cell_type": "code",
   "execution_count": null,
   "metadata": {},
   "outputs": [],
   "source": []
  }
 ],
 "metadata": {
  "kernelspec": {
   "display_name": "Python 3 (ipykernel)",
   "language": "python",
   "name": "python3"
  },
  "language_info": {
   "codemirror_mode": {
    "name": "ipython",
    "version": 3
   },
   "file_extension": ".py",
   "mimetype": "text/x-python",
   "name": "python",
   "nbconvert_exporter": "python",
   "pygments_lexer": "ipython3",
   "version": "3.9.7"
  }
 },
 "nbformat": 4,
 "nbformat_minor": 4
}
