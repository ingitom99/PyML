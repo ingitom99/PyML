{
 "cells": [
  {
   "cell_type": "markdown",
   "metadata": {},
   "source": [
    "## Before you start working on the exercise\n",
    "\n",
    "- Use Python version 3.7 up to 3.9. Make sure not to use Python 3.10\n",
    "- It is highly recommended to create a virtual environment for this course. You can find resources on how to create a virtual environment on the ISIS page of the course.\n",
    "- Make sure that no assertions fail or exceptions occur, otherwise points will be subtracted.\n",
    "- Use all the variables given to a function unless explicitly stated otherwise. If you are not using a variable you are doing something wrong.\n",
    "- Read the **whole** task description before starting with your solution.\n",
    "- After you submit the notebook more tests will be run on your code. The fact that no assertions fail on your computer locally does not guarantee that you completed the exercise correctly.\n",
    "- Please submit only the notebook file with its original name. If you do not submit an `ipynb` file you will fail the exercise.\n",
    "- Edit only between YOUR CODE HERE and END YOUR CODE.\n",
    "- Verify that no syntax errors are present in the file.\n",
    "- Before uploading your submission, make sure everything runs as expected. First, restart the kernel (in the menubar, select Kernel\\Restart) and then run all cells (in the menubar, select Cell\\Run All)."
   ]
  },
  {
   "cell_type": "code",
   "execution_count": 5,
   "metadata": {},
   "outputs": [
    {
     "name": "stdout",
     "output_type": "stream",
     "text": [
      "Correct Python version\n"
     ]
    }
   ],
   "source": [
    "import sys\n",
    "\n",
    "if (3,7) <= sys.version_info[:2] <= (3, 9):\n",
    "    print(\"Correct Python version\")\n",
    "else:\n",
    "    print(f\"You are using a wrong version of Python: {'.'.join(map(str,sys.version_info[:3]))}\")"
   ]
  },
  {
   "cell_type": "markdown",
   "metadata": {
    "deletable": false,
    "editable": false,
    "nbgrader": {
     "cell_type": "markdown",
     "checksum": "b0ddcf04e08a5ed7bba991d1030a3a95",
     "grade": false,
     "grade_id": "cell-fa7773face2607ae",
     "locked": true,
     "schema_version": 3,
     "solution": false,
     "task": false
    }
   },
   "source": [
    "# Exercise Sheet 4: Sampling, Simulation"
   ]
  },
  {
   "cell_type": "markdown",
   "metadata": {
    "deletable": false,
    "editable": false,
    "nbgrader": {
     "cell_type": "markdown",
     "checksum": "331fb394c6fc759027d3a0766f1d0b37",
     "grade": false,
     "grade_id": "cell-edfd6cd4afbab25d",
     "locked": true,
     "schema_version": 3,
     "solution": false,
     "task": false
    }
   },
   "source": [
    "In this exercise sheet, we will simulate a Markov chain. In the first part, we will consider a pure Python based implementation where a single particle jumps from one position to another of the lattice, where all transitions to neighboring states have the same probability. Then, we will add probabilities for the transitions. Finally, the implementation will be parallelized to run many chains in parallel.\n",
    "\n",
    "Keep in mind that you can get the documentation of modules and functions using the `help()` function."
   ]
  },
  {
   "cell_type": "code",
   "execution_count": 6,
   "metadata": {
    "deletable": false,
    "editable": false,
    "nbgrader": {
     "cell_type": "code",
     "checksum": "62ada782c1d9e410b566949a5f9255ec",
     "grade": true,
     "grade_id": "cell-4fad0ccdfaff95fb",
     "locked": true,
     "points": 0,
     "schema_version": 3,
     "solution": false,
     "task": false
    }
   },
   "outputs": [],
   "source": [
    "# This cell is for grading. DO NOT remove it\n",
    "import utils\n",
    "from typing import Dict, List\n",
    "\n",
    "from minified import max_allowed_loops, no_imports\n",
    "\n",
    "# Use unittest asserts\n",
    "import unittest\n",
    "\n",
    "t = unittest.TestCase()\n"
   ]
  },
  {
   "cell_type": "markdown",
   "metadata": {
    "collapsed": true
   },
   "source": [
    "## Exercise 1: Random moves in a lattice (20 P)\n",
    "\n",
    "In this exercise, we will simulate the propagation of particles in a graph composed of 8 states (denoted by letters A-H) and stored in the variable `S` defined in the cell below. The lattice is the following:\n",
    "\n",
    "![](lattice.png)\n",
    "\n",
    "The particle starts in state `A` and then jumps randomly from its current state to one of its neighbors, all with same probability. Note that it cannot stay at the current position. The dictionary `T` defined in the cell below encode such transition behavior."
   ]
  },
  {
   "cell_type": "code",
   "execution_count": 7,
   "metadata": {},
   "outputs": [
    {
     "name": "stdout",
     "output_type": "stream",
     "text": [
      "States: ['A', 'B', 'C', 'D', 'E', 'F', 'G', 'H']\n",
      "Transitions: {'A': 'BE', 'B': 'AFC', 'C': 'BGD', 'D': 'CH', 'E': 'AF', 'F': 'EBG', 'G': 'FCH', 'H': 'GD'}\n"
     ]
    }
   ],
   "source": [
    "# List of states\n",
    "S = list(\"ABCDEFGH\")\n",
    "\n",
    "# Dictionary of transitions\n",
    "T = {\n",
    "    \"A\": \"BE\",\n",
    "    \"B\": \"AFC\",\n",
    "    \"C\": \"BGD\",\n",
    "    \"D\": \"CH\",\n",
    "    \"E\": \"AF\",\n",
    "    \"F\": \"EBG\",\n",
    "    \"G\": \"FCH\",\n",
    "    \"H\": \"GD\",\n",
    "}\n",
    "print(f\"States: {S}\")\n",
    "print(f\"Transitions: {T}\")"
   ]
  },
  {
   "cell_type": "markdown",
   "metadata": {},
   "source": [
    "Using pure Python (i.e. no `numpy` functions), set the initial state to `A` and run it for 1999 iterations. Return the sequence of states visited by the particle as a list. Set the random seed of the module `random` to value `123` using the function `random.seed` before starting the simulation in order to produce deterministic results."
   ]
  },
  {
   "cell_type": "code",
   "execution_count": 8,
   "metadata": {
    "deletable": false,
    "editable": false,
    "nbgrader": {
     "cell_type": "code",
     "checksum": "0812fd65b1a5c790e87dddbddce595ec",
     "grade": false,
     "grade_id": "cell-75d8822ab2667085",
     "locked": true,
     "schema_version": 3,
     "solution": false,
     "task": false
    }
   },
   "outputs": [],
   "source": [
    "import random"
   ]
  },
  {
   "cell_type": "code",
   "execution_count": 9,
   "metadata": {
    "deletable": false,
    "nbgrader": {
     "cell_type": "code",
     "checksum": "cedf3f6c91e1dbbb9bbc04616987aac0",
     "grade": false,
     "grade_id": "cell-be8591ff18527982",
     "locked": false,
     "schema_version": 3,
     "solution": true
    }
   },
   "outputs": [],
   "source": [
    "@max_allowed_loops(1)\n",
    "@no_imports\n",
    "def simulate(transitions: Dict[str, str]) -> List[str]:\n",
    "    \"\"\"\n",
    "    Simulates a markov chain defined by the above transitions.\n",
    "    This function always sets the random seed to `123`. All simulations start with\n",
    "    initial state `A`. It always simulates 2000 steps including the initial state.\n",
    "    Args:\n",
    "        transitions (Dict[str, str]): A dictionary with eight keys [A-H]. For each key a string is\n",
    "        mapped as its value. Each of those strings can only contain the letters [A-H] each\n",
    "        letter can only appear once. `'A': 'BE'` means that from state `A` we can reach\n",
    "        the states `B` and `E` and no other state.\n",
    "    Returns:\n",
    "        List[str]: A list of states (a string containing one of the letters [A-H])\n",
    "        that were visited during the simulation.\n",
    "    \"\"\"\n",
    "    # YOUR CODE HERE\n",
    "    random.seed(123)\n",
    "    state = 'A'\n",
    "    states = []\n",
    "    for i in range(2000):\n",
    "        states.append(state)\n",
    "        state = random.choice(transitions[state])\n",
    "    return states\n",
    "\n",
    "        \n",
    "        \n",
    "        \n",
    "        \n",
    "    # YOUR CODE HERE\n",
    "    "
   ]
  },
  {
   "cell_type": "code",
   "execution_count": 10,
   "metadata": {
    "deletable": false,
    "editable": false,
    "nbgrader": {
     "cell_type": "code",
     "checksum": "dd367fc0b361cae7339c643155674465",
     "grade": true,
     "grade_id": "cell-e189a7a547cbdcbc",
     "locked": true,
     "points": 5,
     "schema_version": 3,
     "solution": false
    }
   },
   "outputs": [
    {
     "name": "stdout",
     "output_type": "stream",
     "text": [
      "First 10 visited states --> ['A', 'B', 'F', 'E', 'F', 'B', 'A', 'B', 'F', 'G']\n"
     ]
    }
   ],
   "source": [
    "# Tests\n",
    "X = simulate(T)\n",
    "\n",
    "# Print the first 10 states\n",
    "print(f\"First 10 visited states --> {X[:10]}\")\n",
    "t.assertIsInstance(X, List, \"The state sequence must be a list\")\n",
    "t.assertEqual(len(X), 2000)\n",
    "t.assertIsInstance(X[0], str, \"The state sequence must only contain strings\")\n",
    "t.assertEqual(X[0], \"A\", \"The state sequence must start with A\")\n",
    "t.assertTrue(all(x in S for x in X), \"Your state sequence containes an invalid state\")\n",
    "t.assertEqual(set(S), set(X), \"Your list should contain each state at least once\")\n"
   ]
  },
  {
   "cell_type": "code",
   "execution_count": 11,
   "metadata": {
    "deletable": false,
    "editable": false,
    "nbgrader": {
     "cell_type": "code",
     "checksum": "c680f76f8d733ca946496b9716eda022",
     "grade": true,
     "grade_id": "cell-5749c0c7ceef3507",
     "locked": true,
     "points": 0,
     "schema_version": 3,
     "solution": false,
     "task": false
    }
   },
   "outputs": [],
   "source": [
    "# This cell is for grading. DO NOT remove it"
   ]
  },
  {
   "cell_type": "markdown",
   "metadata": {},
   "source": [
    "Implement a function that returns a list of the relative frequencies of each state."
   ]
  },
  {
   "cell_type": "code",
   "execution_count": 12,
   "metadata": {
    "deletable": false,
    "nbgrader": {
     "cell_type": "code",
     "checksum": "a7db333ac8f5e9f325c611bd8db414be",
     "grade": false,
     "grade_id": "cell-d2abc424da288db8",
     "locked": false,
     "schema_version": 3,
     "solution": true
    }
   },
   "outputs": [],
   "source": [
    "@max_allowed_loops(1)\n",
    "@no_imports\n",
    "def compute_histogram(\n",
    "    valid_states: List[str], state_sequence: List[str]\n",
    ") -> List[float]:\n",
    "    \"\"\"\n",
    "    Returns a list of percentages relating as to how many times each state\n",
    "    has been visited according to the `state_sequence` list\n",
    "\n",
    "    Args:\n",
    "        valid_states (List[str]): A list of all valid states\n",
    "        state_sequence (List[str]): A sequence of states for which we\n",
    "            want to calculate the frequencies\n",
    "    Returns:\n",
    "        List[float]: A list of length 8. Contains the percentage `[0-1]` of occurances of each state\n",
    "        in the `state_sequence`.\n",
    "    \"\"\"\n",
    "    # YOUR CODE HERE\n",
    "    prob_list = []\n",
    "    for i in valid_states:\n",
    "        hits = state_sequence.count(i)\n",
    "        prob_list.append(hits/len(state_sequence))\n",
    "    return prob_list\n",
    "        \n",
    "        \n",
    "    # YOUR CODE HERE\n",
    "    "
   ]
  },
  {
   "cell_type": "code",
   "execution_count": 13,
   "metadata": {
    "deletable": false,
    "editable": false,
    "nbgrader": {
     "cell_type": "code",
     "checksum": "4c5970f05dc687932fafdb7664687bd8",
     "grade": true,
     "grade_id": "cell-a083af994b2e82c2",
     "locked": true,
     "points": 10,
     "schema_version": 3,
     "solution": false
    }
   },
   "outputs": [
    {
     "name": "stdout",
     "output_type": "stream",
     "text": [
      "frequencies -> [0.099, 0.1485, 0.152, 0.1045, 0.1015, 0.15, 0.1455, 0.099]\n",
      "sum -> 1.0\n"
     ]
    }
   ],
   "source": [
    "h = compute_histogram(S, X)\n",
    "print(f\"frequencies -> {h}\")\n",
    "t.assertIsInstance(h, list)\n",
    "# Check if the histogram is a valid probability distribution\n",
    "print(f\"sum -> {sum(h)}\")\n",
    "t.assertAlmostEqual(sum(h), 1.0)\n",
    "\n",
    "t.assertTrue(all(f < 0.2 for f in h))"
   ]
  },
  {
   "cell_type": "code",
   "execution_count": 14,
   "metadata": {
    "deletable": false,
    "editable": false,
    "nbgrader": {
     "cell_type": "code",
     "checksum": "06e40f32647e3d3fa54c023a3dc7390a",
     "grade": true,
     "grade_id": "cell-5c1b03dc60626965",
     "locked": true,
     "points": 0,
     "schema_version": 3,
     "solution": false,
     "task": false
    }
   },
   "outputs": [
    {
     "data": {
      "text/plain": [
       "'This cell is for grading.DO NOT remove it'"
      ]
     },
     "execution_count": 14,
     "metadata": {},
     "output_type": "execute_result"
    }
   ],
   "source": [
    "\"\"\"This cell is for grading.DO NOT remove it\"\"\""
   ]
  },
  {
   "cell_type": "markdown",
   "metadata": {},
   "source": [
    "Using the above `compute_histogram` function, produce a bar plot using `matplotlib` (`matplotlib.pyplot.bar`) showing the fraction of the time the particle is found in a given state, averaged over the whole simulation. Do **not** call plt.show in the function (it is automatically called because of `%matplotlib inline`"
   ]
  },
  {
   "cell_type": "code",
   "execution_count": 15,
   "metadata": {},
   "outputs": [],
   "source": [
    "import matplotlib.pyplot as plt\n",
    "\n",
    "%matplotlib inline"
   ]
  },
  {
   "cell_type": "code",
   "execution_count": 18,
   "metadata": {
    "deletable": false,
    "nbgrader": {
     "cell_type": "code",
     "checksum": "2e7e0b8e83e4b522ad110925dec5a978",
     "grade": true,
     "grade_id": "cell-4e935488f89005fd",
     "locked": false,
     "points": 5,
     "schema_version": 3,
     "solution": true,
     "task": false
    }
   },
   "outputs": [],
   "source": [
    "@max_allowed_loops(0)\n",
    "@no_imports\n",
    "def plot_histogram(valid_states: List[str], frequencies: List[float]) -> None:\n",
    "    \"\"\"\n",
    "    Plots a bar graph of a provided histogram.\n",
    "\n",
    "    Args:\n",
    "        valid_states (List[str]): The list of states\n",
    "        frequencies (List[float]): The frequency of each state\n",
    "    \"\"\"\n",
    "    # YOUR CODE HERE\n",
    "    plt.figure(figsize=(12,12))\n",
    "    plt.bar(range(len(valid_states)), frequencies)\n",
    "    plt.xlabel('Index of valid state')\n",
    "    plt.ylabel('Fraction time spent in state')\n",
    "    \n",
    "    # YOUR CODE HERE\n",
    "    "
   ]
  },
  {
   "cell_type": "code",
   "execution_count": 19,
   "metadata": {
    "deletable": false,
    "editable": false,
    "nbgrader": {
     "cell_type": "code",
     "checksum": "f183b43f8df2273ecd6ad9480ef4327a",
     "grade": true,
     "grade_id": "cell-8adc44a487ec126c",
     "locked": true,
     "points": 0,
     "schema_version": 3,
     "solution": false,
     "task": false
    }
   },
   "outputs": [
    {
     "data": {
      "image/png": "[encoded data removed]",
      "text/plain": [
       "<Figure size 864x864 with 1 Axes>"
      ]
     },
     "metadata": {
      "needs_background": "light"
     },
     "output_type": "display_data"
    }
   ],
   "source": [
    "# Plot the histogram of the above defined sequence X\n",
    "h = compute_histogram(S, X)\n",
    "plot_histogram(S, h)"
   ]
  },
  {
   "cell_type": "markdown",
   "metadata": {
    "collapsed": true
   },
   "source": [
    "## Exercise 2: Adding a special state (10 P)\n",
    "\n",
    "Suppose now that the rule (defined by the transition dictionary) is modified such that everytime the particle is in state `F`, it always moves to `E` in the next step.\n",
    "\n",
    "* Modify the code to handle this special case, and create a bar plot for the new states distribution. Make sure to not modify the original transition dictionary. To achieve this, you can have a look at the `copy` module, but every working solution is accepted."
   ]
  },
  {
   "cell_type": "code",
   "execution_count": 20,
   "metadata": {
    "deletable": false,
    "nbgrader": {
     "cell_type": "code",
     "checksum": "40570bb94c69e25c7316efc04431517f",
     "grade": false,
     "grade_id": "cell-b23ac9c3c7d18076",
     "locked": false,
     "schema_version": 3,
     "solution": true
    }
   },
   "outputs": [],
   "source": [
    "@max_allowed_loops(0)\n",
    "@no_imports\n",
    "def modify_transitions(transitions: Dict[str, str]) -> Dict[str, str]:\n",
    "    \"\"\"\n",
    "    Creates a modified transition dictionary without modifing the provided one.\n",
    "\n",
    "    This function creates a new transition dictionary such that from state `F` the only\n",
    "    possible following state is `E`.\n",
    "\n",
    "    Args:\n",
    "        transitions (dict): A dictionary that describes the possible transitions from each state\n",
    "    Returns:\n",
    "        dict: A modified transition dict where from state `F` only state `E` can follow\n",
    "    \"\"\"\n",
    "    # YOUR CODE HERE\n",
    "    copy = transitions.copy()\n",
    "    copy['F'] = 'E'\n",
    "    return copy\n",
    "    # YOUR CODE HERE\n",
    "    "
   ]
  },
  {
   "cell_type": "code",
   "execution_count": 21,
   "metadata": {
    "deletable": false,
    "editable": false,
    "nbgrader": {
     "cell_type": "code",
     "checksum": "b70b8cce7dc81aec5071818185b138a0",
     "grade": true,
     "grade_id": "cell-4c8eda5748d2ac39",
     "locked": true,
     "points": 10,
     "schema_version": 3,
     "solution": false
    }
   },
   "outputs": [
    {
     "name": "stdout",
     "output_type": "stream",
     "text": [
      "new_T['F'] = E\n",
      "T['F'] = EBG\n"
     ]
    }
   ],
   "source": [
    "# Tests\n",
    "new_T = modify_transitions(T)\n",
    "print(f\"new_T['F'] = {new_T['F']}\")\n",
    "print(f\"T['F'] = {T['F']}\")\n",
    "t.assertIsInstance(new_T, Dict)\n",
    "t.assertIsNot(T, new_T, \"T and new_T should not be the same instance\")"
   ]
  },
  {
   "cell_type": "code",
   "execution_count": 22,
   "metadata": {
    "deletable": false,
    "editable": false,
    "nbgrader": {
     "cell_type": "code",
     "checksum": "50ba47dc2f6599dde0a4f61285ccd573",
     "grade": true,
     "grade_id": "cell-8034873fab5ed4dd",
     "locked": true,
     "points": 0,
     "schema_version": 3,
     "solution": false,
     "task": false
    }
   },
   "outputs": [
    {
     "data": {
      "image/png": "[encoded data removed]",
      "text/plain": [
       "<Figure size 864x864 with 1 Axes>"
      ]
     },
     "metadata": {
      "needs_background": "light"
     },
     "output_type": "display_data"
    }
   ],
   "source": [
    "new_T = modify_transitions(T)\n",
    "new_X = simulate(new_T)\n",
    "h = compute_histogram(S, new_X)\n",
    "plot_histogram(S, h)"
   ]
  },
  {
   "cell_type": "code",
   "execution_count": null,
   "metadata": {
    "deletable": false,
    "editable": false,
    "nbgrader": {
     "cell_type": "code",
     "checksum": "07e78afa48568326723453f02cedd511",
     "grade": true,
     "grade_id": "cell-fa7cbd75082da6f4",
     "locked": true,
     "points": 0,
     "schema_version": 3,
     "solution": false,
     "task": false
    }
   },
   "outputs": [],
   "source": []
  },
  {
   "cell_type": "markdown",
   "metadata": {
    "deletable": false,
    "editable": false,
    "nbgrader": {
     "cell_type": "markdown",
     "checksum": "9610e0e78c8d26e5a8fae003cb4ccfc2",
     "grade": false,
     "grade_id": "cell-b22d058ecb8c0369",
     "locked": true,
     "schema_version": 3,
     "solution": false,
     "task": false
    }
   },
   "source": [
    "## Exercise 3: Exact solution to the previous exercise (15 P)\n",
    "\n",
    "For simple Markov chains, a number of statistics can be obtained analytically from the structure of the transition model, in particular, by analysis of the transition matrix.\n",
    "\n",
    "* Implement a function that converts a string state id to an integer. 'A' maps to 0 and so on. The `ord` function can be very useful for tasks like this\n",
    "* Compute the transition matrices associated to the models of exercise 1 and 2 (make sure that each row in these matrices sums to 1).\n",
    "* Give the transition matrices as argument to the function `utils.getstationary(P)` and return their result.\n",
    "\n",
    "This last function computes in closed form the stationary distribution associated to a given transition matrix `P` (i.e. the one we would get if running the simulation with such transition matrix for infinitely many time steps and looking at state frequencies)."
   ]
  },
  {
   "cell_type": "markdown",
   "metadata": {
    "deletable": false,
    "editable": false,
    "nbgrader": {
     "cell_type": "markdown",
     "checksum": "90c45a4f279904db2be0794f12ecc668",
     "grade": false,
     "grade_id": "cell-a8a5c4311d24c353",
     "locked": true,
     "schema_version": 3,
     "solution": false,
     "task": false
    }
   },
   "source": [
    "Build a function that converts the string state into a numeric index"
   ]
  },
  {
   "cell_type": "code",
   "execution_count": 23,
   "metadata": {
    "deletable": false,
    "nbgrader": {
     "cell_type": "code",
     "checksum": "7345e60270f5e30d976beed04550f875",
     "grade": false,
     "grade_id": "cell-ed06d04f24b9db06",
     "locked": false,
     "schema_version": 3,
     "solution": true,
     "task": false
    }
   },
   "outputs": [],
   "source": [
    "def state_string_to_index(state: str) -> int:\n",
    "    \"\"\"\n",
    "    Converts the state string into a numerical index, where:\n",
    "    'A' -> 0\n",
    "    'B' -> 1\n",
    "    ...\n",
    "    'H' -> 7\n",
    "    'I' -> 8\n",
    "    ...\n",
    "\n",
    "    Args:\n",
    "        state (str): A state string in with len(state) == 1\n",
    "    Returns:\n",
    "        int: The index of the state\n",
    "    \"\"\"\n",
    "    # YOUR CODE HERE\n",
    "    import string\n",
    "    uppers = string.ascii_uppercase\n",
    "    return uppers.index(state)\n",
    "    # YOUR CODE HERE\n",
    "    "
   ]
  },
  {
   "cell_type": "code",
   "execution_count": 24,
   "metadata": {
    "deletable": false,
    "editable": false,
    "nbgrader": {
     "cell_type": "code",
     "checksum": "2463bcb3b936c89250d4cc985c3047f6",
     "grade": true,
     "grade_id": "cell-d5a69e2ff33dde8a",
     "locked": true,
     "points": 5,
     "schema_version": 3,
     "solution": false,
     "task": false
    }
   },
   "outputs": [],
   "source": [
    "# Test state_string_to_index\n",
    "A_idx = state_string_to_index(\"A\")\n",
    "t.assertNotIsInstance(A_idx, float)\n",
    "t.assertEqual(A_idx, 0)"
   ]
  },
  {
   "cell_type": "code",
   "execution_count": 25,
   "metadata": {
    "deletable": false,
    "editable": false,
    "nbgrader": {
     "cell_type": "code",
     "checksum": "c4f8dca2674c07f3ae1dd04378fb1b94",
     "grade": true,
     "grade_id": "cell-f8a4376a239ee7e1",
     "locked": true,
     "points": 0,
     "schema_version": 3,
     "solution": false,
     "task": false
    }
   },
   "outputs": [],
   "source": [
    "# This cell is for grading. DO NOT remove it"
   ]
  },
  {
   "cell_type": "code",
   "execution_count": 26,
   "metadata": {
    "deletable": false,
    "editable": false,
    "nbgrader": {
     "cell_type": "code",
     "checksum": "2323235e679a088ad12d0a491d406077",
     "grade": false,
     "grade_id": "cell-b7b7ded2d26a3259",
     "locked": true,
     "schema_version": 3,
     "solution": false,
     "task": false
    }
   },
   "outputs": [],
   "source": [
    "import numpy as np"
   ]
  },
  {
   "cell_type": "code",
   "execution_count": 27,
   "metadata": {
    "deletable": false,
    "nbgrader": {
     "cell_type": "code",
     "checksum": "97860401a099f7d9995ff864de5ff8d1",
     "grade": false,
     "grade_id": "cell-e04eeaf399e5473f",
     "locked": false,
     "schema_version": 3,
     "solution": true
    }
   },
   "outputs": [],
   "source": [
    "@max_allowed_loops(3)\n",
    "@no_imports\n",
    "def to_matrix(transition: Dict[str, str]) -> np.ndarray:\n",
    "    \"\"\"\n",
    "    Converts a transition dictionary into a transition matrix. The first row\n",
    "    represents the propability of moving from the first state to every state.\n",
    "\n",
    "    If the state dict is irreflexive (we cannot go from one state to the same\n",
    "    state) the sum of the diagonal is 0.\n",
    "\n",
    "    The sum of each row should be 1.\n",
    "\n",
    "    All the elements in the matrix are values in [0-1].\n",
    "\n",
    "    Args:\n",
    "        transition (Dict[str, str]): A dictionary describing the possible\n",
    "            transitions from each state.\n",
    "\n",
    "    Returns:\n",
    "        np.ndarray: The transition matrix (ndim=2) that represents the same\n",
    "        (uniform) transitions as the transition dict\n",
    "    \"\"\"\n",
    "    # YOUR CODE HERE\n",
    "    \n",
    "    transition_matrix = np.zeros((len(transition), len(transition)))\n",
    "    \n",
    "    for i in transition:\n",
    "        prob = 1 / float(len(transition[i]))\n",
    "        i_index = state_string_to_index(i)\n",
    "        \n",
    "        for j in transition[i]:\n",
    "            j_index = state_string_to_index(j)\n",
    "            transition_matrix[i_index][j_index] = prob\n",
    "    return transition_matrix\n",
    "            \n",
    "            \n",
    "        \n",
    "    # YOUR CODE HERE\n",
    "    "
   ]
  },
  {
   "cell_type": "code",
   "execution_count": 28,
   "metadata": {
    "deletable": false,
    "editable": false,
    "nbgrader": {
     "cell_type": "code",
     "checksum": "afe177ff1929d2a75fc0076c2590ec44",
     "grade": true,
     "grade_id": "cell-c56cbb51974a1435",
     "locked": true,
     "points": 15,
     "schema_version": 3,
     "solution": false
    }
   },
   "outputs": [
    {
     "name": "stdout",
     "output_type": "stream",
     "text": [
      "[[0.   0.5  0.   0.   0.5  0.   0.   0.  ]\n",
      " [0.33 0.   0.33 0.   0.   0.33 0.   0.  ]\n",
      " [0.   0.33 0.   0.33 0.   0.   0.33 0.  ]\n",
      " [0.   0.   0.5  0.   0.   0.   0.   0.5 ]\n",
      " [0.5  0.   0.   0.   0.   0.5  0.   0.  ]\n",
      " [0.   0.33 0.   0.   0.33 0.   0.33 0.  ]\n",
      " [0.   0.   0.33 0.   0.   0.33 0.   0.33]\n",
      " [0.   0.   0.   0.5  0.   0.   0.5  0.  ]]\n"
     ]
    }
   ],
   "source": [
    "matrix_T = to_matrix(T)\n",
    "print(matrix_T.round(2))\n",
    "\n",
    "t.assertIsInstance(matrix_T, np.ndarray)\n",
    "np.testing.assert_allclose(np.sum(matrix_T, axis=1), 1.0)\n"
   ]
  },
  {
   "cell_type": "code",
   "execution_count": 29,
   "metadata": {
    "deletable": false,
    "editable": false,
    "nbgrader": {
     "cell_type": "code",
     "checksum": "102a1ed14708c6ed1e0071f3f988af8d",
     "grade": true,
     "grade_id": "cell-b7872f409809f378",
     "locked": true,
     "points": 0,
     "schema_version": 3,
     "solution": false,
     "task": false
    }
   },
   "outputs": [],
   "source": [
    "# This cell is for grading. DO NOT remove it"
   ]
  },
  {
   "cell_type": "markdown",
   "metadata": {},
   "source": [
    "## Exercise 4: Adding non-uniform transition probabilities (25 P)\n",
    "\n",
    "We consider the original lattice defined by the variable `T`. We set transition probabilities for each state to be such that:\n",
    "\n",
    "1. The probability of moving vertically is the same as the probability of moving horizontally for states that have only two connections.\n",
    "2. For states with 3 connections the probability of moving vertically is 0.5 while the probability of moving left is always twice the probability of moving right.\n",
    "\n",
    "**Hints**: You can notice that for each state, the transitions towards other states are always listed from left to right in the dictionary `T`. Also note that characters A-H can be mapped to integer values using the Python function `ord()`, thus, giving a direct relation between state names and indices of the transition matrix."
   ]
  },
  {
   "cell_type": "markdown",
   "metadata": {},
   "source": [
    "**b**) Now implement the `build_transition_matrix` according to the rules defined above."
   ]
  },
  {
   "cell_type": "code",
   "execution_count": 30,
   "metadata": {
    "deletable": false,
    "nbgrader": {
     "cell_type": "code",
     "checksum": "c9ef857bec3440de655b83cf0440e348",
     "grade": false,
     "grade_id": "cell-1560bb06a55de020",
     "locked": false,
     "schema_version": 3,
     "solution": true
    }
   },
   "outputs": [],
   "source": [
    "@max_allowed_loops(3)\n",
    "@no_imports\n",
    "def build_transition_matrix(transition: Dict[str, str]) -> np.ndarray:\n",
    "    \"\"\"\n",
    "    Builds a transition matrix from a transition dictionary, similarly to\n",
    "    `to_matrix` function. However, this function does not create a uniform\n",
    "    distribution among the following states.\n",
    "\n",
    "    If the the next valid states are two then the distribution is uniform.\n",
    "\n",
    "    If the the next valid states are three, then moving vertically should have a\n",
    "    50% chance and moving left twice as much as moving right.\n",
    "\n",
    "    Like in the `to_matrix` function the sum of each row should be 1.\n",
    "\n",
    "    Args:\n",
    "        transition (Dict[str,str]) A dictionary describing the possible\n",
    "            transitions from each state.\n",
    "    Returns:\n",
    "        np.ndarray: A transition matrix\n",
    "    \"\"\"\n",
    "    # YOUR CODE HERE\n",
    "    transition_matrix = np.zeros((len(transition), len(transition)))\n",
    "    prob_corners = 1 / 2\n",
    "    prob_vert = 1/2\n",
    "    prob_left = 1/3\n",
    "    prob_right = 1/6\n",
    "            \n",
    "    for i in transition:\n",
    "            \n",
    "        i_index = state_string_to_index(i)\n",
    "        \n",
    "        for a,j in enumerate(transition[i]):\n",
    "            j_index = state_string_to_index(j)\n",
    "            if len(transition[i]) == 2:\n",
    "                transition_matrix[i_index][j_index] = prob_corners\n",
    "            else:\n",
    "                if a == 0:\n",
    "                    transition_matrix[i_index][j_index] = prob_left\n",
    "                elif a == 1:\n",
    "                    transition_matrix[i_index][j_index] = prob_vert\n",
    "                else:\n",
    "                    transition_matrix[i_index][j_index] = prob_right\n",
    "                    \n",
    "    return transition_matrix\n",
    "            \n",
    "    # YOUR CODE HERE\n",
    "    "
   ]
  },
  {
   "cell_type": "code",
   "execution_count": 31,
   "metadata": {
    "deletable": false,
    "editable": false,
    "nbgrader": {
     "cell_type": "code",
     "checksum": "04242a1aef1c495c357e34544ef84c5b",
     "grade": true,
     "grade_id": "cell-cceb43e3ed998bfe",
     "locked": true,
     "points": 20,
     "schema_version": 3,
     "solution": false
    }
   },
   "outputs": [
    {
     "name": "stdout",
     "output_type": "stream",
     "text": [
      "[[0.    0.5   0.    0.    0.5   0.    0.    0.   ]\n",
      " [0.333 0.    0.167 0.    0.    0.5   0.    0.   ]\n",
      " [0.    0.333 0.    0.167 0.    0.    0.5   0.   ]\n",
      " [0.    0.    0.5   0.    0.    0.    0.    0.5  ]\n",
      " [0.5   0.    0.    0.    0.    0.5   0.    0.   ]\n",
      " [0.    0.5   0.    0.    0.333 0.    0.167 0.   ]\n",
      " [0.    0.    0.5   0.    0.    0.333 0.    0.167]\n",
      " [0.    0.    0.    0.5   0.    0.    0.5   0.   ]]\n"
     ]
    }
   ],
   "source": [
    "# Test build_transition_matrix\n",
    "P = build_transition_matrix(T)\n",
    "print(P.round(3))\n",
    "\n",
    "t.assertIsInstance(P, np.ndarray)\n",
    "np.testing.assert_allclose(P.sum(axis=1), 1.0)\n",
    "np.testing.assert_allclose(P[1, 2], 0.16666667)"
   ]
  },
  {
   "cell_type": "code",
   "execution_count": 32,
   "metadata": {
    "deletable": false,
    "editable": false,
    "nbgrader": {
     "cell_type": "code",
     "checksum": "894493637e177a8a077c7cb1aa11ea8b",
     "grade": true,
     "grade_id": "cell-f8d9ce6430c2dbb4",
     "locked": true,
     "points": 0,
     "schema_version": 3,
     "solution": false,
     "task": false
    }
   },
   "outputs": [],
   "source": [
    "# This cell is for grading. DO NOT remove it"
   ]
  },
  {
   "cell_type": "markdown",
   "metadata": {},
   "source": [
    "## Exercise 5: Simulation for multiple particles (30 P)\n",
    "\n",
    "In this exercise we want to accelerate the simulation of particles in a markov chain. Our motivation is to approximate the stationary distribution of a given markov chain.\n",
    "\n",
    "We let 1000 particles evolve simultaneously in the system described in Exercise 4. The initial state of these particles is pseudo-random and given by the function `utils.getinitialstate()`.\n",
    "\n",
    "* Using the function `utils.mcstep()` that was introduced during the lecture, simulate this system for 500 time steps.\n",
    "* The `mcstep` function is similar to the one shown in the lecture.\n",
    "\n",
    "For reproducibility, give seed values to the function utils.mcstep corresponding to the current time step of the simulation (i.e. from 0 to 499)."
   ]
  },
  {
   "cell_type": "code",
   "execution_count": 33,
   "metadata": {
    "deletable": false,
    "nbgrader": {
     "cell_type": "code",
     "checksum": "7624d514e6d805bca718b42bfec365f9",
     "grade": false,
     "grade_id": "cell-2af098b516309a41",
     "locked": false,
     "schema_version": 3,
     "solution": true
    }
   },
   "outputs": [],
   "source": [
    "@max_allowed_loops(1)\n",
    "@no_imports\n",
    "def simulate_1000(transition: Dict[str, str]) -> np.ndarray:\n",
    "    \"\"\"\n",
    "    Simulates 1000 particles for 500 time steps, in order to approximate\n",
    "    the stationary distribution.\n",
    "\n",
    "    Args:\n",
    "        transition (Dict[str, str]): A transition dict, that will be\n",
    "        converted into a transition matrix using the\n",
    "        `build_transition_matrix` function.\n",
    "    Returns:\n",
    "        np.ndarray: The estimated stationary distribution vector (ndim=1)\n",
    "\n",
    "    \"\"\"\n",
    "    # YOUR CODE HERE\n",
    "    T = build_transition_matrix(transition)\n",
    "    pad_shape = ( (0, 0), (1, 0) ) \n",
    "    P = np.pad(T, pad_shape, mode='constant', constant_values=0) \n",
    "    for i in range(500):\n",
    "        X = utils.mcstep(utils.getinitialstate(), P, seedval=i)\n",
    "    return X.mean(axis=0)\n",
    "    \n",
    "    # YOUR CODE HERE\n",
    "    "
   ]
  },
  {
   "cell_type": "code",
   "execution_count": 34,
   "metadata": {
    "deletable": false,
    "editable": false,
    "nbgrader": {
     "cell_type": "code",
     "checksum": "5180949b1c3ad99f0feabb501ecc240f",
     "grade": false,
     "grade_id": "cell-0230474b27291943",
     "locked": true,
     "schema_version": 3,
     "solution": false,
     "task": false
    }
   },
   "outputs": [
    {
     "name": "stdout",
     "output_type": "stream",
     "text": [
      "[0.1429 0.2143 0.1071 0.0357 0.1429 0.2143 0.1071 0.0357]\n"
     ]
    }
   ],
   "source": [
    "# For reference this is the actual stationary distribution\n",
    "print(utils.getstationary(build_transition_matrix(T)).round(4))"
   ]
  },
  {
   "cell_type": "code",
   "execution_count": 35,
   "metadata": {
    "deletable": false,
    "editable": false,
    "nbgrader": {
     "cell_type": "code",
     "checksum": "14a4408fb7d225fddb3c09f402d28f59",
     "grade": true,
     "grade_id": "cell-621b6e15bfc77266",
     "locked": true,
     "points": 30,
     "schema_version": 3,
     "solution": false
    }
   },
   "outputs": [
    {
     "name": "stdout",
     "output_type": "stream",
     "text": [
      "[0.108 0.141 0.16  0.1   0.105 0.167 0.151 0.068]\n"
     ]
    }
   ],
   "source": [
    "# Tests\n",
    "stationary_distribution = simulate_1000(T)\n",
    "print(stationary_distribution)\n",
    "t.assertIsInstance(stationary_distribution, np.ndarray)\n",
    "t.assertEqual(stationary_distribution.shape, (8,))\n",
    "np.testing.assert_allclose(np.sum(stationary_distribution), 1)\n"
   ]
  },
  {
   "cell_type": "code",
   "execution_count": null,
   "metadata": {},
   "outputs": [],
   "source": []
  }
 ],
 "metadata": {
  "kernelspec": {
   "display_name": "Python 3 (ipykernel)",
   "language": "python",
   "name": "python3"
  },
  "language_info": {
   "codemirror_mode": {
    "name": "ipython",
    "version": 3
   },
   "file_extension": ".py",
   "mimetype": "text/x-python",
   "name": "python",
   "nbconvert_exporter": "python",
   "pygments_lexer": "ipython3",
   "version": "3.9.7"
  }
 },
 "nbformat": 4,
 "nbformat_minor": 1
}
