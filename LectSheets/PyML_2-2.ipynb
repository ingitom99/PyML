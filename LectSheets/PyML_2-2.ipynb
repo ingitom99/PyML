{
 "cells": [
  {
   "cell_type": "markdown",
   "metadata": {
    "slideshow": {
     "slide_type": "skip"
    }
   },
   "source": [
    "$\n",
    "\\newcommand{\\nc}{\\newcommand} \n",
    "\\nc{\\t}{\\text}\n",
    "\\nc{\\tb}{\\textbf}\n",
    "\\nc{\\ti}{\\textit}\n",
    "\\nc{\\x}{\\boldsymbol{x}}\n",
    "\\nc{\\y}{\\boldsymbol{y}}\n",
    "\\nc{\\z}{\\boldsymbol{z}}\n",
    "$"
   ]
  },
  {
   "cell_type": "markdown",
   "metadata": {
    "slideshow": {
     "slide_type": "slide"
    }
   },
   "source": [
    "# $$\\textbf{Python Programming for Machine Learning} $$ \n",
    "\n",
    "#### $$\\text{Winter Semester 2021/2022}$$\n",
    "\n",
    "#### $$\\text{Sergej Dogadov and Panagiotis Tomer Karagianis}$$\n",
    "\n",
    "<center>\n",
    "<img src='images/pyt.png' width=450>"
   ]
  },
  {
   "cell_type": "markdown",
   "metadata": {
    "slideshow": {
     "slide_type": "slide"
    }
   },
   "source": [
    "<center>\n",
    "<img src='images/inh.png' width=450>"
   ]
  },
  {
   "cell_type": "markdown",
   "metadata": {
    "slideshow": {
     "slide_type": "slide"
    }
   },
   "source": [
    "## $$\\textbf{Parent class}$$\n",
    "<hr>"
   ]
  },
  {
   "cell_type": "markdown",
   "metadata": {
    "slideshow": {
     "slide_type": "-"
    }
   },
   "source": [
    "* $\\textbf{Inheritance} \\text{ is when a class uses a code written within another class.}$"
   ]
  },
  {
   "cell_type": "code",
   "execution_count": 1,
   "metadata": {
    "slideshow": {
     "slide_type": "-"
    }
   },
   "outputs": [],
   "source": [
    "# First we need to define a Parent class\n",
    "class Person: \n",
    "    \n",
    "    def __init__(self, first_name, last_name): # constructor\n",
    "        \n",
    "        self.first_name = first_name\n",
    "        self.last_name = last_name\n",
    "        \n",
    "    def __repr__(self): # object representation\n",
    "        return f'Person: {self.first_name} {self.last_name}'\n",
    "    \n",
    "    def __call__(self):\n",
    "        #function to be called by default on object call\n",
    "        return self.talk()\n",
    "        #print(super())\n",
    "    \n",
    "    def talk(self): # method\n",
    "        return f'Hello. My name is {self.first_name} {self.last_name}. '"
   ]
  },
  {
   "cell_type": "code",
   "execution_count": 2,
   "metadata": {
    "slideshow": {
     "slide_type": "fragment"
    }
   },
   "outputs": [],
   "source": [
    "me = Person('Sergej', 'Dogadov')\n",
    "\n",
    "# __repr__ function is called\n",
    "me"
   ]
  },
  {
   "cell_type": "code",
   "execution_count": 3,
   "metadata": {
    "slideshow": {
     "slide_type": "fragment"
    }
   },
   "outputs": [],
   "source": [
    "# Calling the object as a function\n",
    "me() \n",
    "\n",
    "# or me.talk() explicit call"
   ]
  },
  {
   "cell_type": "markdown",
   "metadata": {
    "slideshow": {
     "slide_type": "slide"
    }
   },
   "source": [
    "## $$\\textbf{Child class}$$\n",
    "<hr>"
   ]
  },
  {
   "cell_type": "code",
   "execution_count": 4,
   "metadata": {
    "slideshow": {
     "slide_type": "fragment"
    }
   },
   "outputs": [],
   "source": [
    "class Student(Person): # Child class\n",
    "    \n",
    "    def __init__(self, first_name, last_name, mat_number, university):\n",
    "        \n",
    "        Person.__init__(self, first_name, last_name) # Parent constructor\n",
    "        \n",
    "        self.mat_number = mat_number\n",
    "        self.university = university\n",
    "        \n",
    "        self.modules = []\n",
    "        self.credits = 0 # ECTS\n",
    "        self.notes = [] # [3, 4, 1, 2, 2]\n",
    "        \n",
    "    def __repr__(self):\n",
    "        info = f'{self.first_name} {self.last_name}\\nStudent at {self.university} {self.mat_number}'\n",
    "        \n",
    "        if len(self.modules) > 0:      \n",
    "            classes = ', '.join(self.modules)\n",
    "            info += f'\\nCredits: {self.credits} ECTS in {classes} avg note: {sum(self.notes)/len(self.notes)}'\n",
    "            \n",
    "        return  info\n",
    "        \n",
    "    def talk(self):\n",
    "        # parent's method call\n",
    "        return super().talk() + f\"I'm studying at {self.university}. \" + \\\n",
    "            f\"My matriculation number is {self.mat_number}\"\n",
    "    \n",
    "    def exam(self, module_name: str, credit: int, note: float) -> None:\n",
    "        \"\"\"\n",
    "            Adds exam info\n",
    "            \n",
    "        \"\"\"\n",
    "        self.modules += [module_name]\n",
    "        self.credits += credit\n",
    "        self.notes += [note]"
   ]
  },
  {
   "cell_type": "markdown",
   "metadata": {
    "slideshow": {
     "slide_type": "slide"
    }
   },
   "source": [
    "## $$\\textbf{Student class usage}$$\n",
    "<hr>"
   ]
  },
  {
   "cell_type": "code",
   "execution_count": 5,
   "metadata": {
    "slideshow": {
     "slide_type": "fragment"
    }
   },
   "outputs": [
    {
     "name": "stdout",
     "output_type": "stream",
     "text": [
      "Hello. My name is Anna Mustermann. I'm studying at TU Berlin. My matriculation number is 4345325\n"
     ]
    }
   ],
   "source": [
    "#object creation\n",
    "me = Student('Anna', 'Mustermann', 4345325, 'TU Berlin')\n",
    "\n",
    "# function talk is invoked\n",
    "print(me.talk()) # or just me()\n",
    "\n",
    "#Person(anna)"
   ]
  },
  {
   "cell_type": "code",
   "execution_count": 6,
   "metadata": {
    "slideshow": {
     "slide_type": "fragment"
    }
   },
   "outputs": [
    {
     "name": "stdout",
     "output_type": "stream",
     "text": [
      "Anna Mustermann\n",
      "Student at TU Berlin 4345325\n",
      "Credits: 18 ECTS in CS, BIO avg note: 2.0\n"
     ]
    }
   ],
   "source": [
    "me.exam('CS', 6, 1.7)\n",
    "me.exam('BIO', 12, 2.3)\n",
    "\n",
    "print(me)"
   ]
  },
  {
   "cell_type": "markdown",
   "metadata": {
    "slideshow": {
     "slide_type": "slide"
    }
   },
   "source": [
    "## $$\\textbf{Multiple class inheritance}$$\n",
    "<hr>"
   ]
  },
  {
   "cell_type": "code",
   "execution_count": 7,
   "metadata": {
    "slideshow": {
     "slide_type": "fragment"
    }
   },
   "outputs": [],
   "source": [
    "class Employee:\n",
    "    \n",
    "    def __init__(self, company, position, salary):\n",
    "        \n",
    "        self.company = company\n",
    "        self.position = position\n",
    "        self.salary = salary\n",
    "        \n",
    "    def __repr__(self):\n",
    "        return f\"Employe at {self.company} as {self.position}\""
   ]
  },
  {
   "cell_type": "code",
   "execution_count": 8,
   "metadata": {
    "slideshow": {
     "slide_type": "fragment"
    }
   },
   "outputs": [],
   "source": [
    "class HiWi(Student, Employee):\n",
    "\n",
    "    def __init__(self, first_name, last_name, mat_number, university, salary):\n",
    "        \n",
    "        Student.__init__(self, first_name, last_name, mat_number, university)\n",
    "        Employee.__init__(self, university, 'HiWi', salary)\n",
    "        \n",
    "    def __repr__(self):\n",
    "        \n",
    "        info = super().__repr__() # first inherited class is beeing called \n",
    "        info += f'\\nPosition: {self.position} with salary {self.salary}$'\n",
    "        return info"
   ]
  },
  {
   "cell_type": "code",
   "execution_count": 9,
   "metadata": {
    "slideshow": {
     "slide_type": "fragment"
    }
   },
   "outputs": [
    {
     "data": {
      "text/plain": [
       "Sergej Dogadov\n",
       "Student at TU Berlin 123456\n",
       "Credits: 9 ECTS in BIO, PyML avg note: 2.2\n",
       "Position: HiWi with salary 1000$"
      ]
     },
     "execution_count": 9,
     "metadata": {},
     "output_type": "execute_result"
    }
   ],
   "source": [
    "me = HiWi('Sergej','Dogadov', 123456, 'TU Berlin', 1000)\n",
    "me.exam('BIO', 6, 2.7)\n",
    "me.exam('PyML', 3, 1.7)\n",
    "me"
   ]
  },
  {
   "cell_type": "markdown",
   "metadata": {
    "slideshow": {
     "slide_type": "slide"
    }
   },
   "source": [
    "## $$\\textbf{Advanced Python}$$\n",
    "<hr>  \n",
    "\n",
    "\n",
    "<center>\n",
    "<img src='images/apyt.png' width=350>"
   ]
  },
  {
   "cell_type": "markdown",
   "metadata": {
    "slideshow": {
     "slide_type": "slide"
    }
   },
   "source": [
    "### $\\textbf{Generators}$\n",
    "<hr>  \n",
    "\n",
    "$\\t{Generators are special functions which execution you can stop and rerun.} $"
   ]
  },
  {
   "cell_type": "code",
   "execution_count": 10,
   "metadata": {
    "slideshow": {
     "slide_type": "fragment"
    }
   },
   "outputs": [],
   "source": [
    "# Infinite counter as a generator\n",
    "def counter():\n",
    "    \n",
    "    print('Conter initialized')\n",
    "    \n",
    "    n = 0\n",
    "    while True:\n",
    "        \n",
    "        yield n # similar to return \n",
    "        n += 1"
   ]
  },
  {
   "cell_type": "code",
   "execution_count": 11,
   "metadata": {
    "slideshow": {
     "slide_type": "fragment"
    }
   },
   "outputs": [
    {
     "data": {
      "text/plain": [
       "<generator object counter at 0x7f2088595660>"
      ]
     },
     "execution_count": 11,
     "metadata": {},
     "output_type": "execute_result"
    }
   ],
   "source": [
    "# generator type is returned\n",
    "counter()"
   ]
  },
  {
   "cell_type": "code",
   "execution_count": 12,
   "metadata": {
    "slideshow": {
     "slide_type": "fragment"
    }
   },
   "outputs": [
    {
     "data": {
      "text/plain": [
       "112"
      ]
     },
     "execution_count": 12,
     "metadata": {},
     "output_type": "execute_result"
    }
   ],
   "source": [
    "import sys\n",
    "sys.getsizeof(counter()) # it may generate infinitly long number list"
   ]
  },
  {
   "cell_type": "markdown",
   "metadata": {
    "slideshow": {
     "slide_type": "slide"
    }
   },
   "source": [
    "### $\\textbf{Generators cont'd}$\n",
    "<hr>  \n"
   ]
  },
  {
   "cell_type": "markdown",
   "metadata": {
    "slideshow": {
     "slide_type": "fragment"
    }
   },
   "source": [
    "* $\\t{Getting a next element}$"
   ]
  },
  {
   "cell_type": "code",
   "execution_count": 13,
   "metadata": {
    "slideshow": {
     "slide_type": "-"
    }
   },
   "outputs": [
    {
     "name": "stdout",
     "output_type": "stream",
     "text": [
      "Conter initialized\n"
     ]
    },
    {
     "data": {
      "text/plain": [
       "0"
      ]
     },
     "execution_count": 13,
     "metadata": {},
     "output_type": "execute_result"
    }
   ],
   "source": [
    "cnt_gen = counter()\n",
    "next(cnt_gen)"
   ]
  },
  {
   "cell_type": "code",
   "execution_count": 14,
   "metadata": {
    "slideshow": {
     "slide_type": "fragment"
    }
   },
   "outputs": [
    {
     "data": {
      "text/plain": [
       "1"
      ]
     },
     "execution_count": 14,
     "metadata": {},
     "output_type": "execute_result"
    }
   ],
   "source": [
    "next(cnt_gen)"
   ]
  },
  {
   "cell_type": "markdown",
   "metadata": {
    "slideshow": {
     "slide_type": "fragment"
    }
   },
   "source": [
    "* $\\t{Iterating over the generator object}$"
   ]
  },
  {
   "cell_type": "code",
   "execution_count": 15,
   "metadata": {
    "slideshow": {
     "slide_type": "-"
    }
   },
   "outputs": [
    {
     "name": "stdout",
     "output_type": "stream",
     "text": [
      "Conter initialized\n",
      "0\n",
      "1\n",
      "2\n",
      "3\n",
      "4\n"
     ]
    }
   ],
   "source": [
    "for i in counter():\n",
    "    if i < 5:\n",
    "        print(i)\n",
    "    else:\n",
    "        break # stop loop oterwise generator will work further"
   ]
  },
  {
   "cell_type": "markdown",
   "metadata": {
    "slideshow": {
     "slide_type": "slide"
    }
   },
   "source": [
    "### $\\textbf{Generators object as a tuple comprehansion}$\n",
    "<hr>  \n"
   ]
  },
  {
   "cell_type": "code",
   "execution_count": 16,
   "metadata": {
    "slideshow": {
     "slide_type": "fragment"
    }
   },
   "outputs": [
    {
     "data": {
      "text/plain": [
       "<generator object <genexpr> at 0x7f20885e4900>"
      ]
     },
     "execution_count": 16,
     "metadata": {},
     "output_type": "execute_result"
    }
   ],
   "source": [
    "gen_obj = (x**2 for x in range(100_000) if x % 10 == 0)\n",
    "gen_obj"
   ]
  },
  {
   "cell_type": "code",
   "execution_count": 17,
   "metadata": {
    "slideshow": {
     "slide_type": "fragment"
    }
   },
   "outputs": [
    {
     "data": {
      "text/plain": [
       "(0, 100, 400)"
      ]
     },
     "execution_count": 17,
     "metadata": {},
     "output_type": "execute_result"
    }
   ],
   "source": [
    "next(gen_obj), next(gen_obj), next(gen_obj)"
   ]
  },
  {
   "cell_type": "code",
   "execution_count": 18,
   "metadata": {
    "slideshow": {
     "slide_type": "fragment"
    }
   },
   "outputs": [],
   "source": [
    "gen_list = [x**2 for x in range(100_000) if x % 10 == 0]"
   ]
  },
  {
   "cell_type": "code",
   "execution_count": 19,
   "metadata": {
    "slideshow": {
     "slide_type": "-"
    }
   },
   "outputs": [
    {
     "data": {
      "text/plain": [
       "(112, 87616)"
      ]
     },
     "execution_count": 19,
     "metadata": {},
     "output_type": "execute_result"
    }
   ],
   "source": [
    "sys.getsizeof(gen_obj), sys.getsizeof(gen_list)"
   ]
  },
  {
   "cell_type": "markdown",
   "metadata": {
    "slideshow": {
     "slide_type": "fragment"
    }
   },
   "source": [
    "* $\\t{What the generators could be useful for?}$"
   ]
  },
  {
   "cell_type": "markdown",
   "metadata": {
    "slideshow": {
     "slide_type": "slide"
    }
   },
   "source": [
    "### $\\textbf{Decorator as a benchmark a function}$\n",
    "<hr>  "
   ]
  },
  {
   "cell_type": "code",
   "execution_count": 20,
   "metadata": {
    "slideshow": {
     "slide_type": "fragment"
    }
   },
   "outputs": [],
   "source": [
    "# Define a decorator which wrapps a custom function\n",
    "\n",
    "def benchmark(func):\n",
    "    \n",
    "    from time import time #import time to get current time\n",
    "    \n",
    "    def wrapper(*args, **kwargs):\n",
    "      \n",
    "        start = time() # start measuring time second passed since begin of UNIX time 1970 sthm\n",
    "        res = func(*args, **kwargs)\n",
    "        end = time() # end measuring time\n",
    "        \n",
    "        ms = (end - start) * 1000\n",
    "        print(f\"Elapsed time: {ms:0.6f} ms\")\n",
    "\n",
    "        return res\n",
    "    \n",
    "    return wrapper"
   ]
  },
  {
   "cell_type": "code",
   "execution_count": 21,
   "metadata": {
    "slideshow": {
     "slide_type": "fragment"
    }
   },
   "outputs": [],
   "source": [
    "@benchmark\n",
    "def sum_up(n, step=1):\n",
    "    cnt = 0\n",
    "    for i in range(n):\n",
    "        if i % step == 0:\n",
    "            cnt += i\n",
    "    return cnt "
   ]
  },
  {
   "cell_type": "code",
   "execution_count": 22,
   "metadata": {
    "slideshow": {
     "slide_type": "fragment"
    }
   },
   "outputs": [
    {
     "name": "stdout",
     "output_type": "stream",
     "text": [
      "Elapsed time: 0.769377 ms\n",
      "9995000\n"
     ]
    }
   ],
   "source": [
    "#execute the fn\n",
    "res = sum_up(10_000, step=5)\n",
    "print(res)"
   ]
  },
  {
   "cell_type": "markdown",
   "metadata": {
    "slideshow": {
     "slide_type": "slide"
    }
   },
   "source": [
    "### $\\textbf{Caching}$\n",
    "<hr>  \n",
    "\n",
    "$\\t{If a function is being executed many times and }$\n",
    "\n",
    " * $\\t{it takes a long time to return the results,}$ \n",
    "\n",
    " * $\\t{it produces the same results for the same inputs.}$"
   ]
  },
  {
   "cell_type": "markdown",
   "metadata": {
    "slideshow": {
     "slide_type": "fragment"
    }
   },
   "source": [
    "$\\t{Then  then we can cache the results.} $"
   ]
  },
  {
   "cell_type": "code",
   "execution_count": 23,
   "metadata": {
    "slideshow": {
     "slide_type": "fragment"
    }
   },
   "outputs": [],
   "source": [
    "from functools import lru_cache\n",
    "\n",
    "@lru_cache(10) # number of func returns to cache\n",
    "def sum_up(n, step=1):\n",
    "    cnt = 0\n",
    "    for i in range(n):\n",
    "        if i % step == 0:\n",
    "            cnt += i\n",
    "    return cnt "
   ]
  },
  {
   "cell_type": "code",
   "execution_count": 24,
   "metadata": {
    "slideshow": {
     "slide_type": "fragment"
    }
   },
   "outputs": [],
   "source": [
    "@benchmark\n",
    "def run(*args, **kwargs):\n",
    "    res = sum_up(*args, **kwargs)\n",
    "    print(sum_up.cache_info())\n",
    "    return res"
   ]
  },
  {
   "cell_type": "markdown",
   "metadata": {
    "slideshow": {
     "slide_type": "slide"
    }
   },
   "source": [
    "### $\\textbf{Running the cached function}$\n",
    "<hr>  "
   ]
  },
  {
   "cell_type": "code",
   "execution_count": 25,
   "metadata": {
    "slideshow": {
     "slide_type": "fragment"
    }
   },
   "outputs": [
    {
     "name": "stdout",
     "output_type": "stream",
     "text": [
      "CacheInfo(hits=0, misses=1, maxsize=10, currsize=1)\n",
      "Elapsed time: 1.041651 ms\n"
     ]
    },
    {
     "data": {
      "text/plain": [
       "2495000"
      ]
     },
     "execution_count": 25,
     "metadata": {},
     "output_type": "execute_result"
    }
   ],
   "source": [
    "run(10_000, step=20)"
   ]
  },
  {
   "cell_type": "code",
   "execution_count": 26,
   "metadata": {
    "slideshow": {
     "slide_type": "fragment"
    }
   },
   "outputs": [
    {
     "name": "stdout",
     "output_type": "stream",
     "text": [
      "CacheInfo(hits=0, misses=2, maxsize=10, currsize=2)\n",
      "Elapsed time: 0.533104 ms\n"
     ]
    },
    {
     "data": {
      "text/plain": [
       "1995000"
      ]
     },
     "execution_count": 26,
     "metadata": {},
     "output_type": "execute_result"
    }
   ],
   "source": [
    "run(10_000, step=25)"
   ]
  },
  {
   "cell_type": "markdown",
   "metadata": {
    "slideshow": {
     "slide_type": "slide"
    }
   },
   "source": [
    "### $\\textbf{Combinatorics}$\n",
    "<hr>  "
   ]
  },
  {
   "cell_type": "markdown",
   "metadata": {
    "slideshow": {
     "slide_type": "fragment"
    }
   },
   "source": [
    "* $\\t{All unique combinations}$"
   ]
  },
  {
   "cell_type": "code",
   "execution_count": 27,
   "metadata": {
    "slideshow": {
     "slide_type": "-"
    }
   },
   "outputs": [
    {
     "data": {
      "text/plain": [
       "[(1, 0), (1, 2), (0, 2)]"
      ]
     },
     "execution_count": 27,
     "metadata": {},
     "output_type": "execute_result"
    }
   ],
   "source": [
    "import itertools as it\n",
    "\n",
    "lst = [1, 0, 2]\n",
    "\n",
    "[i for i in it.combinations(lst, r=2)]"
   ]
  },
  {
   "cell_type": "markdown",
   "metadata": {
    "slideshow": {
     "slide_type": "fragment"
    }
   },
   "source": [
    "* $\\t{All possible combinations }$"
   ]
  },
  {
   "cell_type": "code",
   "execution_count": 28,
   "metadata": {
    "slideshow": {
     "slide_type": "-"
    }
   },
   "outputs": [
    {
     "data": {
      "text/plain": [
       "[(1, 1, 1),\n",
       " (1, 1, 0),\n",
       " (1, 1, 2),\n",
       " (1, 0, 0),\n",
       " (1, 0, 2),\n",
       " (1, 2, 2),\n",
       " (0, 0, 0),\n",
       " (0, 0, 2),\n",
       " (0, 2, 2),\n",
       " (2, 2, 2)]"
      ]
     },
     "execution_count": 28,
     "metadata": {},
     "output_type": "execute_result"
    }
   ],
   "source": [
    "[i for i in it.combinations_with_replacement(lst, r=3)]"
   ]
  },
  {
   "cell_type": "markdown",
   "metadata": {
    "slideshow": {
     "slide_type": "slide"
    }
   },
   "source": [
    " * $\\t{All permutations}$"
   ]
  },
  {
   "cell_type": "code",
   "execution_count": 29,
   "metadata": {},
   "outputs": [
    {
     "data": {
      "text/plain": [
       "[(1, 0, 2), (1, 2, 0), (0, 1, 2), (0, 2, 1), (2, 1, 0), (2, 0, 1)]"
      ]
     },
     "execution_count": 29,
     "metadata": {},
     "output_type": "execute_result"
    }
   ],
   "source": [
    "[ i for i in it.permutations(lst)]"
   ]
  },
  {
   "cell_type": "markdown",
   "metadata": {
    "slideshow": {
     "slide_type": "fragment"
    }
   },
   "source": [
    "* $\\t{Cartesian product A x B}$"
   ]
  },
  {
   "cell_type": "code",
   "execution_count": 30,
   "metadata": {
    "slideshow": {
     "slide_type": "-"
    }
   },
   "outputs": [
    {
     "data": {
      "text/plain": [
       "[(1, 1), (1, 0), (1, 2), (0, 1), (0, 0), (0, 2), (2, 1), (2, 0), (2, 2)]"
      ]
     },
     "execution_count": 30,
     "metadata": {},
     "output_type": "execute_result"
    }
   ],
   "source": [
    "[ i for i in it.product(lst, lst)]"
   ]
  },
  {
   "cell_type": "markdown",
   "metadata": {
    "slideshow": {
     "slide_type": "slide"
    }
   },
   "source": [
    "### $\\textbf{How to write beautiful code}$\n",
    "<hr>  "
   ]
  },
  {
   "cell_type": "code",
   "execution_count": 31,
   "metadata": {
    "scrolled": false,
    "slideshow": {
     "slide_type": "-"
    }
   },
   "outputs": [
    {
     "name": "stdout",
     "output_type": "stream",
     "text": [
      "The Zen of Python, by Tim Peters\n",
      "\n",
      "Beautiful is better than ugly.\n",
      "Explicit is better than implicit.\n",
      "Simple is better than complex.\n",
      "Complex is better than complicated.\n",
      "Flat is better than nested.\n",
      "Sparse is better than dense.\n",
      "Readability counts.\n",
      "Special cases aren't special enough to break the rules.\n",
      "Although practicality beats purity.\n",
      "Errors should never pass silently.\n",
      "Unless explicitly silenced.\n",
      "In the face of ambiguity, refuse the temptation to guess.\n",
      "There should be one-- and preferably only one --obvious way to do it.\n",
      "Although that way may not be obvious at first unless you're Dutch.\n",
      "Now is better than never.\n",
      "Although never is often better than *right* now.\n",
      "If the implementation is hard to explain, it's a bad idea.\n",
      "If the implementation is easy to explain, it may be a good idea.\n",
      "Namespaces are one honking great idea -- let's do more of those!\n"
     ]
    }
   ],
   "source": [
    "\n",
    "import this"
   ]
  },
  {
   "cell_type": "markdown",
   "metadata": {
    "slideshow": {
     "slide_type": "slide"
    }
   },
   "source": [
    "# $$ \\textbf{Thank you for your attention.}$$"
   ]
  }
 ],
 "metadata": {
  "celltoolbar": "Slideshow",
  "kernelspec": {
   "display_name": "Python 3 (ipykernel)",
   "language": "python",
   "name": "python3"
  },
  "language_info": {
   "codemirror_mode": {
    "name": "ipython",
    "version": 3
   },
   "file_extension": ".py",
   "mimetype": "text/x-python",
   "name": "python",
   "nbconvert_exporter": "python",
   "pygments_lexer": "ipython3",
   "version": "3.9.7"
  }
 },
 "nbformat": 4,
 "nbformat_minor": 4
}
