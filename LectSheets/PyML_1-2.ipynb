{
 "cells": [
  {
   "cell_type": "markdown",
   "metadata": {
    "slideshow": {
     "slide_type": "skip"
    }
   },
   "source": [
    "$\n",
    "\\newcommand{\\nc}{\\newcommand} \n",
    "\\nc{\\t}{\\text}\n",
    "\\nc{\\tb}{\\textbf}\n",
    "\\nc{\\ti}{\\textit}\n",
    "$"
   ]
  },
  {
   "cell_type": "markdown",
   "metadata": {
    "slideshow": {
     "slide_type": "slide"
    }
   },
   "source": [
    "# $$\\textbf{Python Programming for Machine Learning} $$ \n",
    "\n",
    "#### $$\\text{Winter Semester 2021/2022}$$\n",
    "\n",
    "#### $$\\text{Sergej Dogadov and Panagiotis Tomer Karagianis}$$\n",
    "\n",
    "<center>\n",
    "<img src='images/pyt.png' width=450>"
   ]
  },
  {
   "cell_type": "markdown",
   "metadata": {
    "slideshow": {
     "slide_type": "slide"
    }
   },
   "source": [
    "### $\\lambda \\textbf{-function}$\n",
    "<hr> "
   ]
  },
  {
   "cell_type": "code",
   "execution_count": 1,
   "metadata": {
    "slideshow": {
     "slide_type": "fragment"
    }
   },
   "outputs": [
    {
     "data": {
      "text/plain": [
       "5.0"
      ]
     },
     "execution_count": 1,
     "metadata": {},
     "output_type": "execute_result"
    }
   ],
   "source": [
    "# inline function definition\n",
    "\n",
    "(lambda x, y, coeff=1: coeff*(x ** 2 + y ** 2) ** 0.5) (3, 4) # definition and execution without a name"
   ]
  },
  {
   "cell_type": "markdown",
   "metadata": {
    "slideshow": {
     "slide_type": "fragment"
    }
   },
   "source": [
    "* A function can be seen as a variable"
   ]
  },
  {
   "cell_type": "code",
   "execution_count": 2,
   "metadata": {
    "slideshow": {
     "slide_type": "-"
    }
   },
   "outputs": [
    {
     "data": {
      "text/plain": [
       "5.0"
      ]
     },
     "execution_count": 2,
     "metadata": {},
     "output_type": "execute_result"
    }
   ],
   "source": [
    "g = lambda x, y, coeff=1: coeff*(x ** 2 + y ** 2) ** 0.5\n",
    "g(3, 4)"
   ]
  },
  {
   "cell_type": "code",
   "execution_count": 3,
   "metadata": {
    "slideshow": {
     "slide_type": "fragment"
    }
   },
   "outputs": [
    {
     "data": {
      "text/plain": [
       "25.0"
      ]
     },
     "execution_count": 3,
     "metadata": {},
     "output_type": "execute_result"
    }
   ],
   "source": [
    "# Reassign function to other variable\n",
    "\n",
    "my_function = g\n",
    "my_function(3, 4, 5)"
   ]
  },
  {
   "cell_type": "code",
   "execution_count": 4,
   "metadata": {
    "slideshow": {
     "slide_type": "fragment"
    }
   },
   "outputs": [
    {
     "name": "stdout",
     "output_type": "stream",
     "text": [
      "<map object at 0x0000018D6F04B2B0>\n"
     ]
    },
    {
     "data": {
      "text/plain": [
       "(None, [1, 4, 9, 16])"
      ]
     },
     "execution_count": 4,
     "metadata": {},
     "output_type": "execute_result"
    }
   ],
   "source": [
    "# In-function usage\n",
    "\n",
    "numbers = [1, 2, 3, 4]\n",
    "\n",
    "squares = map(lambda x: x**2, numbers) # map(fn, x) apply fn on x element-wise\n",
    "\n",
    "print(squares), list(squares)"
   ]
  },
  {
   "cell_type": "code",
   "execution_count": 5,
   "metadata": {
    "slideshow": {
     "slide_type": "fragment"
    }
   },
   "outputs": [
    {
     "data": {
      "text/plain": [
       "[2, 4, 6]"
      ]
     },
     "execution_count": 5,
     "metadata": {},
     "output_type": "execute_result"
    }
   ],
   "source": [
    "# filter out the odd numbers\n",
    "\n",
    "list(filter(lambda x: x % 2 == 0, [1, 2, 3, 4, 5, 6] ))"
   ]
  },
  {
   "cell_type": "markdown",
   "metadata": {
    "slideshow": {
     "slide_type": "slide"
    }
   },
   "source": [
    "### $\\textbf{Dictionaries} - \\text{(key, value) stores}$\n",
    "<hr> "
   ]
  },
  {
   "cell_type": "markdown",
   "metadata": {
    "slideshow": {
     "slide_type": "fragment"
    }
   },
   "source": [
    "* Create a data point (representing a fruit)"
   ]
  },
  {
   "cell_type": "code",
   "execution_count": 6,
   "metadata": {
    "slideshow": {
     "slide_type": "-"
    }
   },
   "outputs": [
    {
     "data": {
      "text/plain": [
       "(dict, {'color': 'green', 'taste': 'sweet', 'size 3d': [1, 3, 2]})"
      ]
     },
     "execution_count": 6,
     "metadata": {},
     "output_type": "execute_result"
    }
   ],
   "source": [
    "fruit = {\n",
    "    'color': 'green',\n",
    "    'taste': 'sweet',\n",
    "    'size 3d': [1,3,2]\n",
    "}\n",
    "\n",
    "type(fruit), fruit"
   ]
  },
  {
   "cell_type": "markdown",
   "metadata": {
    "slideshow": {
     "slide_type": "fragment"
    }
   },
   "source": [
    "* Keys, getting access to values by a key"
   ]
  },
  {
   "cell_type": "code",
   "execution_count": 7,
   "metadata": {
    "slideshow": {
     "slide_type": "-"
    }
   },
   "outputs": [
    {
     "data": {
      "text/plain": [
       "(['green', 'sweet', [1, 3, 2]], [1, 3, 2])"
      ]
     },
     "execution_count": 7,
     "metadata": {},
     "output_type": "execute_result"
    }
   ],
   "source": [
    "list(fruit.values()), fruit['size 3d']"
   ]
  },
  {
   "cell_type": "markdown",
   "metadata": {
    "slideshow": {
     "slide_type": "slide"
    }
   },
   "source": [
    "### $\\textbf{Dictionaries (cont'd)}$"
   ]
  },
  {
   "cell_type": "code",
   "execution_count": 8,
   "metadata": {
    "slideshow": {
     "slide_type": "-"
    }
   },
   "outputs": [],
   "source": [
    "# create a new dict\n",
    "\n",
    "properties = {\n",
    "    'price' : 4,\n",
    "    'best before': 7,\n",
    "    'taste' : 'sour'\n",
    "}"
   ]
  },
  {
   "cell_type": "code",
   "execution_count": 9,
   "metadata": {
    "slideshow": {
     "slide_type": "fragment"
    }
   },
   "outputs": [
    {
     "data": {
      "text/plain": [
       "{'color': 'green',\n",
       " 'taste': 'sour',\n",
       " 'size 3d': [1, 3, 2],\n",
       " 'price': 4,\n",
       " 'best before': 7}"
      ]
     },
     "execution_count": 9,
     "metadata": {},
     "output_type": "execute_result"
    }
   ],
   "source": [
    "# merge dictionaries\n",
    "\n",
    "fruit.update(properties) # values will be updated\n",
    "fruit"
   ]
  },
  {
   "cell_type": "markdown",
   "metadata": {
    "slideshow": {
     "slide_type": "slide"
    }
   },
   "source": [
    "### $\\textbf{Sets} - \\text{unique elements}$\n",
    "<hr> "
   ]
  },
  {
   "cell_type": "code",
   "execution_count": 10,
   "metadata": {
    "slideshow": {
     "slide_type": "fragment"
    }
   },
   "outputs": [
    {
     "data": {
      "text/plain": [
       "{2, 3, 4, 'text'}"
      ]
     },
     "execution_count": 10,
     "metadata": {},
     "output_type": "execute_result"
    }
   ],
   "source": [
    "lst = [2, 3, 4, 2, 4, \"text\", \"text\"]\n",
    "\n",
    "# from list\n",
    "set_one = set(lst)\n",
    "set_one"
   ]
  },
  {
   "cell_type": "code",
   "execution_count": 11,
   "metadata": {
    "slideshow": {
     "slide_type": "fragment"
    }
   },
   "outputs": [
    {
     "data": {
      "text/plain": [
       "({1, 2, 3, 4, 6}, set)"
      ]
     },
     "execution_count": 11,
     "metadata": {},
     "output_type": "execute_result"
    }
   ],
   "source": [
    "# explicit initialization\n",
    "\n",
    "set_two = {2, 3, 4, 2, 6, 2, 1}\n",
    "set_two, type(set_two)"
   ]
  },
  {
   "cell_type": "code",
   "execution_count": 12,
   "metadata": {
    "slideshow": {
     "slide_type": "fragment"
    }
   },
   "outputs": [
    {
     "data": {
      "text/plain": [
       "{1, 2, 3, 4, 6, 'text'}"
      ]
     },
     "execution_count": 12,
     "metadata": {},
     "output_type": "execute_result"
    }
   ],
   "source": [
    "# merge two sets\n",
    "\n",
    "set_one.update(set_two)\n",
    "set_one"
   ]
  },
  {
   "cell_type": "markdown",
   "metadata": {
    "slideshow": {
     "slide_type": "slide"
    }
   },
   "source": [
    "### $\\textbf{Conditional Expressions}$\n",
    "<hr> "
   ]
  },
  {
   "cell_type": "markdown",
   "metadata": {
    "slideshow": {
     "slide_type": "fragment"
    }
   },
   "source": [
    "* $\\t{Example of classifying the following fruits: }$\n",
    "\n",
    "<br><br>\n",
    "\n",
    "<center>\n",
    "    <img src='images/fruits.png' width='1200'/>"
   ]
  },
  {
   "cell_type": "markdown",
   "metadata": {
    "slideshow": {
     "slide_type": "slide"
    }
   },
   "source": [
    "### $\\textbf{Decision tree for watermelon vs. apple vs. other}$\n",
    "<hr> \n"
   ]
  },
  {
   "cell_type": "code",
   "execution_count": 13,
   "metadata": {
    "slideshow": {
     "slide_type": "fragment"
    }
   },
   "outputs": [],
   "source": [
    "def classify(x: dict) -> str:\n",
    "    \n",
    "    if x['color'] == 'green':   \n",
    "        \n",
    "        if x['size'] == 'big':\n",
    "            decision = 'watermelon'\n",
    "\n",
    "        elif x['size'] == 'medium':\n",
    "            decision = 'apple'\n",
    "\n",
    "        else:\n",
    "            decision = 'other'           \n",
    "    else:\n",
    "        \n",
    "        decision = 'other'\n",
    "    \n",
    "    return decision"
   ]
  },
  {
   "cell_type": "code",
   "execution_count": 14,
   "metadata": {
    "slideshow": {
     "slide_type": "fragment"
    }
   },
   "outputs": [
    {
     "data": {
      "text/plain": [
       "('watermelon', 'apple', 'other')"
      ]
     },
     "execution_count": 14,
     "metadata": {},
     "output_type": "execute_result"
    }
   ],
   "source": [
    "# Multiple fruits represented by dictionaries\n",
    "\n",
    "fruit_1 = {'color': 'green', 'size': 'big'}\n",
    "\n",
    "fruit_2 = {'color': 'green', 'size': 'medium'}\n",
    "\n",
    "fruit_3 = {'color': 'red', 'size': 'small'}\n",
    "\n",
    "classify(fruit_1), classify(fruit_2), classify(fruit_3)\n"
   ]
  },
  {
   "cell_type": "markdown",
   "metadata": {
    "slideshow": {
     "slide_type": "slide"
    }
   },
   "source": [
    "### $\\textbf{Ternary condition operator}$\n",
    "<hr> \n"
   ]
  },
  {
   "cell_type": "code",
   "execution_count": 15,
   "metadata": {
    "slideshow": {
     "slide_type": "fragment"
    }
   },
   "outputs": [
    {
     "data": {
      "text/plain": [
       "('different', 'same')"
      ]
     },
     "execution_count": 15,
     "metadata": {},
     "output_type": "execute_result"
    }
   ],
   "source": [
    "def compare(x: dict, y: dict) -> str: \n",
    "    \"\"\" \n",
    "        Compares two fruits either they are the same \n",
    "        \n",
    "        Args:\n",
    "            x (dict) : first fruit\n",
    "            y (dict) : second fruit\n",
    "            \n",
    "        Returns:\n",
    "            string : either 'same' or 'different'  \n",
    "    \"\"\"\n",
    "    \n",
    "    # var =  {true_case} if {cond} else {false_case} \n",
    "    \n",
    "    decision = \"same\" if x == y else \"different\" # short if-else form\n",
    "    \n",
    "    return decision\n",
    "\n",
    "compare(fruit_1, fruit_2), compare(fruit_1, fruit_1)"
   ]
  },
  {
   "cell_type": "markdown",
   "metadata": {
    "slideshow": {
     "slide_type": "slide"
    }
   },
   "source": [
    "### $\\textbf{Iterators}$\n",
    "<hr>  "
   ]
  },
  {
   "cell_type": "markdown",
   "metadata": {
    "slideshow": {
     "slide_type": "fragment"
    }
   },
   "source": [
    " * $\\t{Build-in }$ range $\\t{ function}$"
   ]
  },
  {
   "cell_type": "code",
   "execution_count": 16,
   "metadata": {},
   "outputs": [
    {
     "data": {
      "text/plain": [
       "(range(0, 10), range)"
      ]
     },
     "execution_count": 16,
     "metadata": {},
     "output_type": "execute_result"
    }
   ],
   "source": [
    "range(10), type(range(10))"
   ]
  },
  {
   "cell_type": "code",
   "execution_count": 17,
   "metadata": {
    "scrolled": true,
    "slideshow": {
     "slide_type": "fragment"
    }
   },
   "outputs": [
    {
     "name": "stdout",
     "output_type": "stream",
     "text": [
      "2\n",
      "5\n",
      "8\n",
      "11\n"
     ]
    }
   ],
   "source": [
    "for i in range(2, 13, 3): # start (opt), stop-1 (mandatory), step (opt)\n",
    "    print(i)"
   ]
  },
  {
   "cell_type": "markdown",
   "metadata": {
    "slideshow": {
     "slide_type": "fragment"
    }
   },
   "source": [
    "### $\\textbf{Emumerator}$\n",
    "<hr>  "
   ]
  },
  {
   "cell_type": "code",
   "execution_count": 18,
   "metadata": {
    "slideshow": {
     "slide_type": "-"
    }
   },
   "outputs": [
    {
     "name": "stdout",
     "output_type": "stream",
     "text": [
      "0 -> 3\n",
      "1 -> 7\n",
      "2 -> 11\n"
     ]
    }
   ],
   "source": [
    "for n, i in enumerate(range(3, 13, 4)): # start, stop-1, step\n",
    "    print(f'{n} -> {i}')"
   ]
  },
  {
   "cell_type": "markdown",
   "metadata": {
    "slideshow": {
     "slide_type": "slide"
    }
   },
   "source": [
    "#### $\\text{Iteration through list with ints, tuples, strings and operations inside}$\n",
    "<hr>  "
   ]
  },
  {
   "cell_type": "code",
   "execution_count": 19,
   "metadata": {
    "slideshow": {
     "slide_type": "fragment"
    }
   },
   "outputs": [
    {
     "name": "stdout",
     "output_type": "stream",
     "text": [
      "Full list: [5.0, (2, 3), 0.7071067811865476, '[2, 1, 4] some text', {2, 5}]\n",
      "5.0\n",
      "(2, 3)\n",
      "0.7071067811865476\n"
     ]
    }
   ],
   "source": [
    "lst = [2, 1, 4]\n",
    "\n",
    "lst = str(lst) + ' some text'\n",
    "\n",
    "lst = [5., (2,3), 2**-0.5, lst, {2, 5} ]\n",
    "\n",
    "print(f\"Full list: {lst}\")\n",
    "\n",
    "for i in lst:\n",
    "    if type(i) == str:\n",
    "        break # continue\n",
    "    print(i)"
   ]
  },
  {
   "cell_type": "markdown",
   "metadata": {
    "slideshow": {
     "slide_type": "fragment"
    }
   },
   "source": [
    "$\\text{Check memory usage of your objects}$"
   ]
  },
  {
   "cell_type": "code",
   "execution_count": 20,
   "metadata": {
    "slideshow": {
     "slide_type": "fragment"
    }
   },
   "outputs": [
    {
     "data": {
      "text/plain": [
       "(48, 800056)"
      ]
     },
     "execution_count": 20,
     "metadata": {},
     "output_type": "execute_result"
    }
   ],
   "source": [
    "import sys\n",
    "\n",
    "mylist = range(0, 100000) # generator object\n",
    "\n",
    "sys.getsizeof(mylist), sys.getsizeof(list(mylist)) # explicit casting to int "
   ]
  },
  {
   "cell_type": "code",
   "execution_count": 21,
   "metadata": {
    "slideshow": {
     "slide_type": "fragment"
    }
   },
   "outputs": [
    {
     "name": "stdout",
     "output_type": "stream",
     "text": [
      "800056\n"
     ]
    }
   ],
   "source": [
    "print(sys.getsizeof(list(mylist)))\n"
   ]
  },
  {
   "cell_type": "markdown",
   "metadata": {
    "slideshow": {
     "slide_type": "slide"
    }
   },
   "source": [
    "#### $\\textbf{Example:} \\text{ Given a data which is a list of dictionaries}$\n",
    "<hr> "
   ]
  },
  {
   "cell_type": "code",
   "execution_count": 22,
   "metadata": {
    "slideshow": {
     "slide_type": "fragment"
    }
   },
   "outputs": [
    {
     "data": {
      "text/plain": [
       "(list, dict)"
      ]
     },
     "execution_count": 22,
     "metadata": {},
     "output_type": "execute_result"
    }
   ],
   "source": [
    "data = [\n",
    "  {'color': 'green', 'size': 'big'},\n",
    "  {'color': 'yellow', 'shape': 'round', 'size': 'big'},\n",
    "  {'color': 'red', 'size': 'medium'},\n",
    "  {'color': 'green', 'size': 'big'},\n",
    "  {'color': 'red', 'size': 'small', 'taste': 'sour'},\n",
    "  {'color': 'green', 'size': 'small'}\n",
    "]\n",
    "\n",
    "type(data), type(data[0])"
   ]
  },
  {
   "cell_type": "markdown",
   "metadata": {
    "slideshow": {
     "slide_type": "slide"
    }
   },
   "source": [
    "#### $\\text{Making prediction for multiple observations}$\n",
    "<hr> "
   ]
  },
  {
   "cell_type": "code",
   "execution_count": 23,
   "metadata": {
    "scrolled": true,
    "slideshow": {
     "slide_type": "fragment"
    }
   },
   "outputs": [
    {
     "name": "stdout",
     "output_type": "stream",
     "text": [
      "Fruit: {'color': 'green', 'size': 'big'} \n",
      "Class: watermelon \n",
      "\n",
      "Fruit: {'color': 'yellow', 'shape': 'round', 'size': 'big'} \n",
      "Class: other \n",
      "\n",
      "Fruit: {'color': 'red', 'size': 'medium'} \n",
      "Class: other \n",
      "\n",
      "Fruit: {'color': 'green', 'size': 'big'} \n",
      "Class: watermelon \n",
      "\n",
      "Fruit: {'color': 'red', 'size': 'small', 'taste': 'sour'} \n",
      "Class: other \n",
      "\n",
      "Fruit: {'color': 'green', 'size': 'small'} \n",
      "Class: other \n",
      "\n"
     ]
    },
    {
     "data": {
      "text/plain": [
       "('All:', ['watermelon', 'other', 'other', 'watermelon', 'other', 'other'])"
      ]
     },
     "execution_count": 23,
     "metadata": {},
     "output_type": "execute_result"
    }
   ],
   "source": [
    "results = list()\n",
    "\n",
    "for x in data:\n",
    "    \n",
    "    res = classify(x)\n",
    "    \n",
    "    print(f'Fruit: {x} \\nClass: {res} \\n')\n",
    "    \n",
    "    results.append(res) # equiv.to    results += [classify(x)]\n",
    "    \n",
    "\"All:\", results"
   ]
  },
  {
   "cell_type": "markdown",
   "metadata": {
    "slideshow": {
     "slide_type": "slide"
    }
   },
   "source": [
    "#### $\\text{The same can be achieved with list comprehensions:}$\n",
    "<hr> "
   ]
  },
  {
   "cell_type": "code",
   "execution_count": 24,
   "metadata": {
    "slideshow": {
     "slide_type": "fragment"
    }
   },
   "outputs": [
    {
     "data": {
      "text/plain": [
       "(list, ['watermelon', 'other', 'other', 'watermelon', 'other', 'other'])"
      ]
     },
     "execution_count": 24,
     "metadata": {},
     "output_type": "execute_result"
    }
   ],
   "source": [
    "results = [classify(x) for x in data]\n",
    "\n",
    "type(results), results"
   ]
  },
  {
   "cell_type": "markdown",
   "metadata": {
    "slideshow": {
     "slide_type": "fragment"
    }
   },
   "source": [
    " * This can also be combined with conditions:"
   ]
  },
  {
   "cell_type": "code",
   "execution_count": 25,
   "metadata": {
    "slideshow": {
     "slide_type": "-"
    }
   },
   "outputs": [
    {
     "data": {
      "text/plain": [
       "['watermelon', 'watermelon', 'other']"
      ]
     },
     "execution_count": 25,
     "metadata": {},
     "output_type": "execute_result"
    }
   ],
   "source": [
    "# [expr interator {condition}]\n",
    "\n",
    "[classify(x) for x in data if x['color'] == 'green']"
   ]
  },
  {
   "cell_type": "markdown",
   "metadata": {
    "slideshow": {
     "slide_type": "slide"
    }
   },
   "source": [
    "#### $\\text{Counting the number of objects \"watermelon\" in the data}$\n",
    "<hr> "
   ]
  },
  {
   "cell_type": "code",
   "execution_count": 26,
   "metadata": {
    "slideshow": {
     "slide_type": "fragment"
    }
   },
   "outputs": [
    {
     "data": {
      "text/plain": [
       "'Total number of watermelons is 2'"
      ]
     },
     "execution_count": 26,
     "metadata": {},
     "output_type": "execute_result"
    }
   ],
   "source": [
    "result = [classify(x) for x in data]\n",
    "\n",
    "cls = 'watermelon'\n",
    "\n",
    "count = 0\n",
    "for res in result:\n",
    "    \n",
    "    if res == cls:\n",
    "        count += 1\n",
    "\n",
    "f'Total number of {cls}s is {count}'"
   ]
  },
  {
   "cell_type": "markdown",
   "metadata": {
    "slideshow": {
     "slide_type": "fragment"
    }
   },
   "source": [
    "* $\\ti{Pythonic} \\text{ way using list comprehensions and build-in } \\tb{sum } \\t{function}: $"
   ]
  },
  {
   "cell_type": "code",
   "execution_count": 27,
   "metadata": {
    "slideshow": {
     "slide_type": "-"
    }
   },
   "outputs": [
    {
     "data": {
      "text/plain": [
       "'Total number of watermelons is 2'"
      ]
     },
     "execution_count": 27,
     "metadata": {},
     "output_type": "execute_result"
    }
   ],
   "source": [
    "# sum([True, False, True, ...]) -> sum([1,0,1,...])\n",
    "\n",
    "count = sum([classify(x) == cls for x in data])  \n",
    "\n",
    "f'Total number of {cls}s is {count}'"
   ]
  },
  {
   "cell_type": "markdown",
   "metadata": {
    "slideshow": {
     "slide_type": "slide"
    }
   },
   "source": [
    "### $\\textbf{Dictionary comprehensions}$\n",
    "<hr>  "
   ]
  },
  {
   "cell_type": "code",
   "execution_count": 28,
   "metadata": {
    "slideshow": {
     "slide_type": "fragment"
    }
   },
   "outputs": [],
   "source": [
    "names = ['Anna', 'Bob', 'Carl']\n",
    "ages = [21, 18, 34]"
   ]
  },
  {
   "cell_type": "code",
   "execution_count": 29,
   "metadata": {},
   "outputs": [
    {
     "data": {
      "text/plain": [
       "[('Anna', 21), ('Bob', 18), ('Carl', 34)]"
      ]
     },
     "execution_count": 29,
     "metadata": {},
     "output_type": "execute_result"
    }
   ],
   "source": [
    "# zip creates a list of tuples elementwise\n",
    "\n",
    "names_and_ages = zip(names, ages)\n",
    "list(names_and_ages)"
   ]
  },
  {
   "cell_type": "code",
   "execution_count": 30,
   "metadata": {
    "slideshow": {
     "slide_type": "fragment"
    }
   },
   "outputs": [
    {
     "data": {
      "text/plain": [
       "{'Anna': 21, 'Bob': 18, 'Carl': 34}"
      ]
     },
     "execution_count": 30,
     "metadata": {},
     "output_type": "execute_result"
    }
   ],
   "source": [
    "# Comprehensions\n",
    "# {'age': value}\n",
    "\n",
    "dct = {key: value for key, value in zip(names, ages)}\n",
    "dct"
   ]
  },
  {
   "cell_type": "markdown",
   "metadata": {
    "slideshow": {
     "slide_type": "slide"
    }
   },
   "source": [
    "### $\\textbf{Reading Data from a file}$\n",
    "<hr>  "
   ]
  },
  {
   "cell_type": "markdown",
   "metadata": {
    "slideshow": {
     "slide_type": "fragment"
    }
   },
   "source": [
    "Content of file _scores.txt_ that lists the performance of players at a certain game:\n",
    "\n",
    "<br>\n",
    "\n",
    "`80,55,16,26,37,62,49,13,28,56`\n",
    "\n",
    "`43,45,47,63,43,65,10,52,30,18`\n",
    "\n",
    "`63,71,69,24,54,29,79,83,38,56`\n",
    "\n",
    "`46,42,39,14,47,40,72,43,57,47`\n",
    "\n",
    "`61,49,65,31,79,62,9,90,65,44`\n",
    "\n",
    "`10,28,16,6,61,72,78,55,54,48`"
   ]
  },
  {
   "cell_type": "markdown",
   "metadata": {
    "slideshow": {
     "slide_type": "slide"
    }
   },
   "source": [
    "#### $\\text{The following program reads a file and stores \n",
    "scores into a list}$\n",
    "<hr> "
   ]
  },
  {
   "cell_type": "markdown",
   "metadata": {
    "slideshow": {
     "slide_type": "fragment"
    }
   },
   "source": [
    "* `with` statement here takes care of opening and closing the file."
   ]
  },
  {
   "cell_type": "code",
   "execution_count": 31,
   "metadata": {
    "slideshow": {
     "slide_type": "-"
    }
   },
   "outputs": [
    {
     "name": "stdout",
     "output_type": "stream",
     "text": [
      "['80', '55', '16', '26', '37', '62', '49', '13', '28', '56']\n",
      "['43', '45', '47', '63', '43', '65', '10', '52', '30', '18']\n",
      "['63', '71', '69', '24', '54', '29', '79', '83', '38', '56']\n",
      "['46', '42', '39', '14', '47', '40', '72', '43', '57', '47']\n",
      "['61', '49', '65', '31', '79', '62', '9', '90', '65', '44']\n",
      "['10', '28', '16', '6', '61', '72', '78', '55', '54', '48']\n",
      "Data length: 60\n"
     ]
    },
    {
     "data": {
      "text/plain": [
       "'File content: [80.0, 55.0, 16.0, 26.0, 37.0, 62.0, 49.0, 13.0, 28.0, 56.0, 43.0, 45.0, 47.0, 63.0, 43.0, 65.0, 10.0, 52.0, 30.0, 18.0, 63.0, 71.0, 69.0, 24.0, 54.0, 29.0, 79.0, 83.0, 38.0, 56.0, 46.0, 42.0, 39.0, 14.0, 47.0, 40.0, 72.0, 43.0, 57.0, 47.0, 61.0, 49.0, 65.0, 31.0, 79.0, 62.0, 9.0, 90.0, 65.0, 44.0, 10.0, 28.0, 16.0, 6.0, 61.0, 72.0, 78.0, 55.0, 54.0, 48.0]'"
      ]
     },
     "execution_count": 31,
     "metadata": {},
     "output_type": "execute_result"
    }
   ],
   "source": [
    "with open('./scores.txt', 'r') as f: # f is only available within the code block\n",
    "    \n",
    "    data = []\n",
    "    \n",
    "    for line in f:\n",
    "        \n",
    "        line_entries = line.strip().split(',')\n",
    "        \n",
    "        print(line_entries)\n",
    "        \n",
    "        data.extend([float(x) for x in line_entries])\n",
    "        \n",
    "        #data.append([float(x) for x in line_entries])\n",
    "      \n",
    "\n",
    "print(f'Data length: {len(data)}')\n",
    "f'File content: {data}'\n"
   ]
  },
  {
   "cell_type": "markdown",
   "metadata": {
    "slideshow": {
     "slide_type": "slide"
    }
   },
   "source": [
    "Let's separate our data into training and test data for further purposes"
   ]
  },
  {
   "cell_type": "code",
   "execution_count": 32,
   "metadata": {
    "slideshow": {
     "slide_type": "fragment"
    }
   },
   "outputs": [
    {
     "data": {
      "text/plain": [
       "'Train len: 48 Test len: 12'"
      ]
     },
     "execution_count": 32,
     "metadata": {},
     "output_type": "execute_result"
    }
   ],
   "source": [
    "N = len(data)\n",
    "\n",
    "ratio = 0.8\n",
    "split = int(ratio*N) # 80 % of length\n",
    "\n",
    "train_data = data[:split]\n",
    "test_data  = data[split:]\n",
    "\n",
    "f\"Train len: {len(train_data)} Test len: {len(test_data)}\""
   ]
  },
  {
   "cell_type": "markdown",
   "metadata": {
    "slideshow": {
     "slide_type": "slide"
    }
   },
   "source": [
    "#### $\\text{Writing results back into a file with exception handling:}$\n",
    "<hr> "
   ]
  },
  {
   "cell_type": "code",
   "execution_count": 33,
   "metadata": {
    "slideshow": {
     "slide_type": "fragment"
    }
   },
   "outputs": [],
   "source": [
    "import os # imports package for file and dir handling\n",
    "\n",
    "\n",
    "def write(data, outfile='/scores.txt'):\n",
    "    \n",
    "    try:\n",
    "\n",
    "        # Make sure not to overwrite an existing file\n",
    "        if os.path.exists(outfile):\n",
    "            \n",
    "            raise Exception(f\"File '{outfile}' exists already.\")\n",
    "\n",
    "        with open(outfile, 'w') as f:  # 'a'\n",
    "            \n",
    "            f.write(str(data))\n",
    "            \n",
    "            print(f'Sucessfuly written to {outfile}')\n",
    "\n",
    "    except Exception as e:   \n",
    "        \n",
    "        #clean_up(data)\n",
    "        print(f\"Exception occured: {e}\")"
   ]
  },
  {
   "cell_type": "code",
   "execution_count": 34,
   "metadata": {
    "slideshow": {
     "slide_type": "fragment"
    }
   },
   "outputs": [
    {
     "name": "stdout",
     "output_type": "stream",
     "text": [
      "Exception occured: File 'train_scores.txt' exists already.\n",
      "Exception occured: File 'te_scores.txt' exists already.\n"
     ]
    }
   ],
   "source": [
    "write(train_data, 'train_scores.txt')\n",
    "write(test_data, 'te_scores.txt')"
   ]
  },
  {
   "cell_type": "markdown",
   "metadata": {
    "slideshow": {
     "slide_type": "slide"
    }
   },
   "source": [
    "### $\\textbf{Classes}$\n",
    "<hr>  "
   ]
  },
  {
   "cell_type": "markdown",
   "metadata": {
    "slideshow": {
     "slide_type": "fragment"
    }
   },
   "source": [
    "Classes are useful for modeling anything that has an internal state, for example, machine learning models. \n",
    "\n",
    "The model below classifies whether a score is above/below the average."
   ]
  },
  {
   "cell_type": "code",
   "execution_count": 35,
   "metadata": {
    "slideshow": {
     "slide_type": "fragment"
    }
   },
   "outputs": [],
   "source": [
    "class Classifier(object): # parent class \n",
    "    \n",
    "    def __init__(self, name='Score'): # constructor\n",
    "        self.avg = 0\n",
    "        self.name = name\n",
    "        \n",
    "    def __repr__(self):\n",
    "        return f'{self.name} classifier with avg: {self.avg:0.3f}'\n",
    "    \n",
    "    def train(self, data): # methods\n",
    "        self.avg = sum(data) / len(data)\n",
    "        return self\n",
    "        \n",
    "    def predict(self, data):\n",
    "        return ['above' if x > self.avg else 'below' for x in data]"
   ]
  },
  {
   "cell_type": "markdown",
   "metadata": {
    "slideshow": {
     "slide_type": "slide"
    }
   },
   "source": [
    "### $\\textbf{Creation of a new classifier object}$\n",
    "<hr> "
   ]
  },
  {
   "cell_type": "code",
   "execution_count": 36,
   "metadata": {
    "slideshow": {
     "slide_type": "fragment"
    }
   },
   "outputs": [
    {
     "name": "stdout",
     "output_type": "stream",
     "text": [
      "Custom classifier with avg: 0.000\n",
      "Temp classifier with avg: 0.000\n",
      "0 Temp\n"
     ]
    }
   ],
   "source": [
    "c = Classifier(name='Custom')\n",
    "\n",
    " # __repr__ function is called\n",
    "print(c)              \n",
    "\n",
    "d = Classifier(name='Temp')\n",
    "print(d)  \n",
    "\n",
    "print(d.avg, d.name)"
   ]
  },
  {
   "cell_type": "markdown",
   "metadata": {
    "slideshow": {
     "slide_type": "fragment"
    }
   },
   "source": [
    "* Get training and test datasets from _scores.txt_ file"
   ]
  },
  {
   "cell_type": "code",
   "execution_count": 37,
   "metadata": {
    "slideshow": {
     "slide_type": "-"
    }
   },
   "outputs": [
    {
     "name": "stdout",
     "output_type": "stream",
     "text": [
      "Data length: 60\n",
      "Train len: 48 Test len: 12\n"
     ]
    }
   ],
   "source": [
    "from utils import get_train_test_data\n",
    "\n",
    "train_data, test_data = get_train_test_data(path='./scores.txt', train_size=0.8)"
   ]
  },
  {
   "cell_type": "markdown",
   "metadata": {
    "slideshow": {
     "slide_type": "fragment"
    }
   },
   "source": [
    " * Train the classifier and inspect what the classifier has learned:"
   ]
  },
  {
   "cell_type": "code",
   "execution_count": 38,
   "metadata": {
    "slideshow": {
     "slide_type": "fragment"
    }
   },
   "outputs": [
    {
     "name": "stdout",
     "output_type": "stream",
     "text": [
      "47.854166666666664\n"
     ]
    }
   ],
   "source": [
    "c.train(train_data)\n",
    "print(c.avg)"
   ]
  },
  {
   "cell_type": "markdown",
   "metadata": {
    "slideshow": {
     "slide_type": "slide"
    }
   },
   "source": [
    "### $\\textbf{Application of the test data to the model}$\n",
    "<hr>"
   ]
  },
  {
   "cell_type": "code",
   "execution_count": 39,
   "metadata": {
    "slideshow": {
     "slide_type": "-"
    }
   },
   "outputs": [
    {
     "name": "stdout",
     "output_type": "stream",
     "text": [
      "Test data len: 12\n",
      "Avg: 47.854\n",
      "Test:  [65.0, 44.0, 10.0, 28.0, 16.0, 6.0, 61.0, 72.0, 78.0, 55.0, 54.0, 48.0]\n",
      "Pred:  ['above', 'below', 'below', 'below', 'below', 'below', 'above', 'above', 'above', 'above', 'above', 'above']\n"
     ]
    },
    {
     "data": {
      "text/plain": [
       "[(65.0, 'above'),\n",
       " (44.0, 'below'),\n",
       " (10.0, 'below'),\n",
       " (28.0, 'below'),\n",
       " (16.0, 'below'),\n",
       " (6.0, 'below'),\n",
       " (61.0, 'above'),\n",
       " (72.0, 'above')]"
      ]
     },
     "execution_count": 39,
     "metadata": {},
     "output_type": "execute_result"
    }
   ],
   "source": [
    "print(f\"Test data len: {len(test_data)}\")\n",
    "\n",
    "test_preds = c.predict(test_data)\n",
    "\n",
    "print(f\"Avg: {c.avg:0.3f}\")\n",
    "\n",
    "print(\"Test: \", test_data)\n",
    "\n",
    "print(\"Pred: \", test_preds)\n",
    "\n",
    "n_samples_to_print = 8\n",
    "\n",
    "res = zip(test_data[:n_samples_to_print], test_preds[:n_samples_to_print]) # zip combines two objects into a tuple elementwise\n",
    "\n",
    "list(res) # cast to list for printing"
   ]
  },
  {
   "cell_type": "markdown",
   "metadata": {
    "slideshow": {
     "slide_type": "slide"
    }
   },
   "source": [
    "### $$\\textbf{Thank you for your attention.}$$\n",
    "<hr>  "
   ]
  }
 ],
 "metadata": {
  "celltoolbar": "Slideshow",
  "kernelspec": {
   "display_name": "Python 3 (ipykernel)",
   "language": "python",
   "name": "python3"
  },
  "language_info": {
   "codemirror_mode": {
    "name": "ipython",
    "version": 3
   },
   "file_extension": ".py",
   "mimetype": "text/x-python",
   "name": "python",
   "nbconvert_exporter": "python",
   "pygments_lexer": "ipython3",
   "version": "3.9.7"
  }
 },
 "nbformat": 4,
 "nbformat_minor": 1
}
