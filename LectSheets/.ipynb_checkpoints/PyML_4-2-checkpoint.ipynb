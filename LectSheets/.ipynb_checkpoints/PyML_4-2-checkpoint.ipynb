{
 "cells": [
  {
   "cell_type": "code",
   "execution_count": 24,
   "metadata": {
    "slideshow": {
     "slide_type": "-"
    }
   },
   "outputs": [
    {
     "data": {
      "text/html": [
       " \n",
       "<style>\n",
       "    .output_png {\n",
       "        display: table-cell;\n",
       "        text-align: center;\n",
       "        vertical-align: middle;\n",
       "        \n",
       "    }\n",
       "</style> \n"
      ],
      "text/plain": [
       "<IPython.core.display.HTML object>"
      ]
     },
     "execution_count": 24,
     "metadata": {},
     "output_type": "execute_result"
    }
   ],
   "source": [
    "from IPython.core.display import HTML as Center\n",
    "\n",
    "Center(\n",
    "\"\"\" \n",
    "<style>\n",
    "    .output_png {\n",
    "        display: table-cell;\n",
    "        text-align: center;\n",
    "        vertical-align: middle;\n",
    "        \n",
    "    }\n",
    "</style> \n",
    "\"\"\")"
   ]
  },
  {
   "cell_type": "markdown",
   "metadata": {},
   "source": [
    "$\n",
    "\\newcommand{\\nc}{\\newcommand} \n",
    "\\nc{\\t}{\\text}\n",
    "\\nc{\\tb}{\\textbf}\n",
    "\\nc{\\ti}{\\textit}\n",
    "$"
   ]
  },
  {
   "cell_type": "markdown",
   "metadata": {
    "slideshow": {
     "slide_type": "slide"
    }
   },
   "source": [
    "# $$\\textbf{Python Programming for Machine Learning} $$ \n",
    "\n",
    "## $$\\t{Pytorch, Pandas}$$\n",
    "\n",
    "#### $$\\text{Winter Semester 2021/2022}$$\n",
    "\n",
    "#### $$\\text{Sergej Dogadov and Panagiotis Tomer Karagianis}$$\n",
    "\n",
    "<center>\n",
    "<img src='images/pyt.png' width=450>"
   ]
  },
  {
   "cell_type": "markdown",
   "metadata": {
    "slideshow": {
     "slide_type": "slide"
    }
   },
   "source": [
    "## $$\\tb{PyTorch}$$\n",
    "<hr>\n",
    "\n",
    " * $\\t{PyTorch is a GPU accelerated tensor computational framework.}$\n",
    " \n",
    "<br>\n",
    "<br>\n",
    "<center>\n",
    "<img src='./images/torch.png'  width='600'>"
   ]
  },
  {
   "cell_type": "code",
   "execution_count": 25,
   "metadata": {
    "slideshow": {
     "slide_type": "slide"
    }
   },
   "outputs": [
    {
     "name": "stdout",
     "output_type": "stream",
     "text": [
      "PyTorch version: 1.10.0 with CUDA True\n"
     ]
    }
   ],
   "source": [
    "# conda install -c pytorch pytorch \n",
    "# NVIDIA GPU\n",
    "\n",
    "import torch as tr\n",
    "with_cuda = tr.cuda.is_available()\n",
    "\n",
    "print(f'PyTorch version: {tr.__version__} with CUDA {with_cuda}')"
   ]
  },
  {
   "cell_type": "code",
   "execution_count": 26,
   "metadata": {
    "slideshow": {
     "slide_type": "fragment"
    }
   },
   "outputs": [
    {
     "data": {
      "text/plain": [
       "(torch.Tensor, tensor([[1.0000, 2.0000, 4.5000, 4.0000]]), torch.float32)"
      ]
     },
     "execution_count": 26,
     "metadata": {},
     "output_type": "execute_result"
    }
   ],
   "source": [
    "# Init tensor from list or tuple\n",
    "\n",
    "lst = [1, 2, 4.5, 4]\n",
    "lst = tuple(lst)\n",
    "\n",
    "x = tr.Tensor([lst])\n",
    "\n",
    "type(x), x, x.dtype"
   ]
  },
  {
   "cell_type": "markdown",
   "metadata": {
    "slideshow": {
     "slide_type": "slide"
    }
   },
   "source": [
    "## $$\\tb{Initialize from NumPy}$$\n",
    "<hr>"
   ]
  },
  {
   "cell_type": "code",
   "execution_count": 27,
   "metadata": {
    "slideshow": {
     "slide_type": "fragment"
    }
   },
   "outputs": [
    {
     "name": "stdout",
     "output_type": "stream",
     "text": [
      "cuda:0\n"
     ]
    },
    {
     "data": {
      "text/plain": [
       "(tensor([[ 0.8455, -0.3000,  1.3422],\n",
       "         [ 0.3277,  2.2114,  0.4356],\n",
       "         [ 1.8251,  0.0991,  0.5440],\n",
       "         [ 0.5599,  1.4268,  1.7358]], device='cuda:0', dtype=torch.float64),\n",
       " torch.Size([4, 3]),\n",
       " 2)"
      ]
     },
     "execution_count": 27,
     "metadata": {},
     "output_type": "execute_result"
    }
   ],
   "source": [
    "# NumPy required\n",
    "import numpy as np\n",
    "\n",
    "a = np.random.normal(0, 1, size=(4,3))\n",
    "\n",
    "devices = [\"cuda:0\", \"cuda:1\"]\n",
    "\n",
    "X = tr.from_numpy(a).to(devices[0]) # cuda()\n",
    "\n",
    "print(X.device)\n",
    "\n",
    "X_np = X.cpu().numpy()\n",
    "\n",
    "X, X.shape, X.ndim"
   ]
  },
  {
   "cell_type": "markdown",
   "metadata": {
    "slideshow": {
     "slide_type": "slide"
    }
   },
   "source": [
    "## $$\\tb{Python-like indexing and slicing}$$\n",
    "<hr>"
   ]
  },
  {
   "cell_type": "code",
   "execution_count": 28,
   "metadata": {
    "slideshow": {
     "slide_type": "-"
    }
   },
   "outputs": [
    {
     "data": {
      "text/plain": [
       "(tensor([ 0.8455, -0.3000,  1.3422], device='cuda:0', dtype=torch.float64),\n",
       " tensor([1.3422, 0.4356, 0.5440, 1.7358], device='cuda:0', dtype=torch.float64))"
      ]
     },
     "execution_count": 28,
     "metadata": {},
     "output_type": "execute_result"
    }
   ],
   "source": [
    "# Indexing\n",
    "X[0], X[:, -1]"
   ]
  },
  {
   "cell_type": "code",
   "execution_count": 29,
   "metadata": {
    "slideshow": {
     "slide_type": "fragment"
    }
   },
   "outputs": [
    {
     "data": {
      "text/plain": [
       "(tensor([[-0.3000,  1.3422],\n",
       "         [ 2.2114,  0.4356],\n",
       "         [ 0.0991,  0.5440],\n",
       "         [ 1.4268,  1.7358]], device='cuda:0', dtype=torch.float64),\n",
       " torch.Size([4, 2]))"
      ]
     },
     "execution_count": 29,
     "metadata": {},
     "output_type": "execute_result"
    }
   ],
   "source": [
    "X_sub = X[:, 1:3]\n",
    "X_sub, X_sub.shape"
   ]
  },
  {
   "cell_type": "code",
   "execution_count": 30,
   "metadata": {
    "slideshow": {
     "slide_type": "fragment"
    }
   },
   "outputs": [
    {
     "data": {
      "text/plain": [
       "torch.Size([4, 1, 2])"
      ]
     },
     "execution_count": 30,
     "metadata": {},
     "output_type": "execute_result"
    }
   ],
   "source": [
    "X_sub = X_sub[:, None]\n",
    "X_sub.shape"
   ]
  },
  {
   "cell_type": "markdown",
   "metadata": {
    "slideshow": {
     "slide_type": "slide"
    }
   },
   "source": [
    "## $$\\tb{Matrix dot product}$$\n",
    "<hr>"
   ]
  },
  {
   "cell_type": "code",
   "execution_count": 31,
   "metadata": {
    "slideshow": {
     "slide_type": "fragment"
    }
   },
   "outputs": [
    {
     "name": "stdout",
     "output_type": "stream",
     "text": [
      "torch.Size([3, 2, 5]) torch.Size([5, 2, 3])\n"
     ]
    }
   ],
   "source": [
    "#                  (0, 1, 2)\n",
    "A = tr.randn(size=(3, 2, 5)) # np.random.normal\n",
    "\n",
    "A_transpose = tr.transpose(A, 2, 0) # dim1, dim2 to transpose\n",
    "print(A.shape, A_transpose.shape)\n"
   ]
  },
  {
   "cell_type": "code",
   "execution_count": 32,
   "metadata": {},
   "outputs": [
    {
     "data": {
      "text/plain": [
       "torch.Size([2, 5, 3])"
      ]
     },
     "execution_count": 32,
     "metadata": {},
     "output_type": "execute_result"
    }
   ],
   "source": [
    "A_new = tr.transpose(A, 1, 0)\n",
    "A_new = tr.transpose(A_new, 2, 1) # np.transpose(A, (2, 0, 1))\n",
    "A_new.shape"
   ]
  },
  {
   "cell_type": "code",
   "execution_count": 33,
   "metadata": {
    "slideshow": {
     "slide_type": "fragment"
    }
   },
   "outputs": [
    {
     "name": "stdout",
     "output_type": "stream",
     "text": [
      "torch.Size([3, 10]) torch.Size([10, 3])\n"
     ]
    }
   ],
   "source": [
    "# reshapes\n",
    "A = A.reshape(3, -1)\n",
    "\n",
    "A_transpose = A_transpose.reshape(-1, 3)\n",
    "\n",
    "print(A.shape, A_transpose.shape)"
   ]
  },
  {
   "cell_type": "code",
   "execution_count": 34,
   "metadata": {
    "slideshow": {
     "slide_type": "fragment"
    }
   },
   "outputs": [
    {
     "data": {
      "text/plain": [
       "torch.Size([3, 3])"
      ]
     },
     "execution_count": 34,
     "metadata": {},
     "output_type": "execute_result"
    }
   ],
   "source": [
    "# dot product\n",
    "A2 = A @ A_transpose\n",
    "\n",
    "#A2 = A.matmul(A_transpose)\n",
    "\n",
    "#tr.matmul(A, A_transpose, out=A2) # output tensor\n",
    "A2.shape"
   ]
  },
  {
   "cell_type": "markdown",
   "metadata": {
    "slideshow": {
     "slide_type": "slide"
    }
   },
   "source": [
    "## $$\\tb{Linear Algebra with Tensors}$$\n",
    "<hr>"
   ]
  },
  {
   "cell_type": "code",
   "execution_count": 35,
   "metadata": {
    "slideshow": {
     "slide_type": "fragment"
    }
   },
   "outputs": [
    {
     "name": "stdout",
     "output_type": "stream",
     "text": [
      "tensor([[ 1.0000e+00,  0.0000e+00, -5.9605e-08],\n",
      "        [ 0.0000e+00,  1.0000e+00,  0.0000e+00],\n",
      "        [ 5.9605e-08,  0.0000e+00,  1.0000e+00]])\n",
      "tensor([[1., 0., 0.],\n",
      "        [0., 1., 0.],\n",
      "        [0., 0., 1.]]) Shape: (3, 3)\n"
     ]
    }
   ],
   "source": [
    "# Tensor inversion\n",
    "A2_inv = tr.linalg.inv(A2) # (M,N) O(M*N**2) \n",
    "R = A2 @ A2_inv\n",
    "\n",
    "print(R)\n",
    "\n",
    "d = A2.shape[0]\n",
    "I = tr.diag(tr.ones(d))\n",
    "\n",
    "print(I, 'Shape:', (d, d))\n",
    "\n",
    "assert tr.allclose(R, I, atol=1e-5)"
   ]
  },
  {
   "cell_type": "markdown",
   "metadata": {
    "slideshow": {
     "slide_type": "fragment"
    }
   },
   "source": [
    "* $\\t{Solve a system of linear equations}$"
   ]
  },
  {
   "cell_type": "code",
   "execution_count": 36,
   "metadata": {
    "slideshow": {
     "slide_type": "fragment"
    }
   },
   "outputs": [
    {
     "name": "stdout",
     "output_type": "stream",
     "text": [
      "tensor([9., 8.], device='cuda:0') tensor([9., 8.], device='cuda:0')\n"
     ]
    }
   ],
   "source": [
    "A = tr.Tensor(\n",
    "    [\n",
    "        [3, 1],\n",
    "        [1, 2]\n",
    "    ]).cuda()\n",
    "\n",
    "B = tr.Tensor([9, 8]).cuda()\n",
    "\n",
    "X = tr.linalg.solve(A, B)\n",
    "\n",
    "X\n",
    "\n",
    "print(B, A @ X)\n",
    "\n",
    "assert tr.allclose(A @ X, B)"
   ]
  },
  {
   "cell_type": "markdown",
   "metadata": {
    "slideshow": {
     "slide_type": "slide"
    }
   },
   "source": [
    "## $$\\tb{Single element Tensors}$$\n",
    "<hr>"
   ]
  },
  {
   "cell_type": "code",
   "execution_count": 37,
   "metadata": {
    "slideshow": {
     "slide_type": "fragment"
    }
   },
   "outputs": [
    {
     "name": "stdout",
     "output_type": "stream",
     "text": [
      "tensor(3.0000) 2.999999761581421 <class 'torch.Tensor'> <class 'float'>\n"
     ]
    }
   ],
   "source": [
    "# Sum of elements\n",
    "\n",
    "R_sum = R.sum()\n",
    "\n",
    "R_item = R_sum.item()\n",
    "\n",
    "print(R_sum, R_item, type(R_sum), type(R_item))\n",
    "\n",
    "assert tr.isclose(R_sum, tr.Tensor([d])) # both needs to be Tensors\n",
    "\n",
    "assert np.isclose(R_item, d) # floats are OK"
   ]
  },
  {
   "cell_type": "markdown",
   "metadata": {
    "slideshow": {
     "slide_type": "slide"
    }
   },
   "source": [
    "# $$ \\textbf{Benchmark function on PyTorch}$$\n",
    "<hr> \n",
    "<br>"
   ]
  },
  {
   "cell_type": "code",
   "execution_count": 38,
   "metadata": {
    "slideshow": {
     "slide_type": "fragment"
    }
   },
   "outputs": [],
   "source": [
    "from time import time\n",
    "\n",
    "def benchmark_np(n):\n",
    "    \n",
    "    # same initialization as before\n",
    "    X = np.ones((n, n))\n",
    "    Y = np.copy(X) # matrix of the shape X with ones\n",
    "    \n",
    "    # actual (measured) matrix multiplication\n",
    "    start = time()\n",
    "    Z = X @ Y # @ is a shortcut for np.dot \n",
    "    end = time()\n",
    "    \n",
    "    return end-start"
   ]
  },
  {
   "cell_type": "code",
   "execution_count": 39,
   "metadata": {
    "slideshow": {
     "slide_type": "slide"
    }
   },
   "outputs": [],
   "source": [
    "def benchmark_gpu(n):\n",
    "    \n",
    "    # Tensor object initialization\n",
    "    X = tr.ones((n, n)).float().cuda() # creates a float tensor of ones + shifts it to a GPU\n",
    "    Y = tr.ones((n, n)).float().cuda() \n",
    "    \n",
    "    # actual (measured) matrix multiplication\n",
    "    start = time()\n",
    "    Z = X @ Y # dot product in PyTorch\n",
    "    end = time()\n",
    "    \n",
    "    return end-start"
   ]
  },
  {
   "cell_type": "code",
   "execution_count": 40,
   "metadata": {
    "slideshow": {
     "slide_type": "fragment"
    }
   },
   "outputs": [
    {
     "data": {
      "text/plain": [
       "0.000997781753540039"
      ]
     },
     "execution_count": 40,
     "metadata": {},
     "output_type": "execute_result"
    }
   ],
   "source": [
    "size = 256\n",
    "benchmark_gpu(size)"
   ]
  },
  {
   "cell_type": "code",
   "execution_count": 41,
   "metadata": {
    "slideshow": {
     "slide_type": "fragment"
    }
   },
   "outputs": [
    {
     "data": {
      "text/plain": [
       "array([   2,    4,    8,   16,   32,   64,  128,  256,  512, 1024, 2048,\n",
       "       4096], dtype=int32)"
      ]
     },
     "execution_count": 41,
     "metadata": {},
     "output_type": "execute_result"
    }
   ],
   "source": [
    "max_power = 12\n",
    "sizes =  2 ** np.arange(1, max_power+1)\n",
    "sizes"
   ]
  },
  {
   "cell_type": "code",
   "execution_count": 42,
   "metadata": {
    "slideshow": {
     "slide_type": "fragment"
    }
   },
   "outputs": [],
   "source": [
    "# collect the elapsed computational times on CPU and GPU\n",
    "np_t = [benchmark_np(size) for size in sizes]\n",
    "gpu_t = [benchmark_gpu(size) for size in sizes]"
   ]
  },
  {
   "cell_type": "code",
   "execution_count": 43,
   "metadata": {
    "slideshow": {
     "slide_type": "slide"
    }
   },
   "outputs": [
    {
     "data": {
      "image/png": "[encoded data removed]",
      "text/plain": [
       "<Figure size 1008x576 with 1 Axes>"
      ]
     },
     "metadata": {
      "needs_background": "light"
     },
     "output_type": "display_data"
    }
   ],
   "source": [
    "plt.figure(figsize=(14, 8))\n",
    "plt.plot(sizes, gpu_t, 'o-', label='PyTorch', color='red')\n",
    "plt.plot(sizes, np_t, 's-', label='NumPy', color='green')\n",
    "\n",
    "plt.xscale('log')\n",
    "plt.yscale('log')\n",
    "\n",
    "plt.xlabel('shape on of an array (n,n)', fontsize=18)\n",
    "plt.ylabel('time [s]', fontsize=15)\n",
    "\n",
    "plt.title('PyTorch vs. NumPy performance', fontsize=20)\n",
    "\n",
    "plt.grid(axis='y') # grid with along an y axis\n",
    "plt.legend(loc=2, fontsize=15);  # location within hhe second quadrant\n",
    "\n",
    "plt.show()"
   ]
  },
  {
   "cell_type": "markdown",
   "metadata": {
    "slideshow": {
     "slide_type": "slide"
    }
   },
   "source": [
    "# $$ \\textbf{Optimization with PyTorch}$$\n",
    "<hr> \n",
    "<br>"
   ]
  },
  {
   "cell_type": "code",
   "execution_count": 44,
   "metadata": {
    "slideshow": {
     "slide_type": "fragment"
    }
   },
   "outputs": [],
   "source": [
    "# arbitrary complex function\n",
    "f = lambda x, y : ((x**2 -1 ) + (y**2 - 4 ) + (x**2 - 1) * (y**2 -  4 )) / (x**2 + y**2 + 1)**2"
   ]
  },
  {
   "cell_type": "code",
   "execution_count": 45,
   "metadata": {
    "slideshow": {
     "slide_type": "fragment"
    }
   },
   "outputs": [
    {
     "name": "stdout",
     "output_type": "stream",
     "text": [
      "(600, 400) (600, 400)\n"
     ]
    },
    {
     "data": {
      "text/plain": [
       "(600, 400)"
      ]
     },
     "execution_count": 45,
     "metadata": {},
     "output_type": "execute_result"
    }
   ],
   "source": [
    "# Create a meshgrid\n",
    "xval, yval = 3, 2\n",
    "\n",
    "x, y = np.mgrid[-xval:xval:.01, -yval:yval:.01]\n",
    "print(x.shape, y.shape)\n",
    "\n",
    "# Calc function values over the grid\n",
    "z  = f(x,y)\n",
    "z.shape"
   ]
  },
  {
   "cell_type": "markdown",
   "metadata": {
    "slideshow": {
     "slide_type": "slide"
    }
   },
   "source": [
    "# $$ \\textbf{3-D function plot}$$\n",
    "<hr> \n",
    "<br>"
   ]
  },
  {
   "cell_type": "code",
   "execution_count": 46,
   "metadata": {
    "slideshow": {
     "slide_type": "fragment"
    }
   },
   "outputs": [
    {
     "data": {
      "image/png": "[encoded data removed]",
      "text/plain": [
       "<Figure size 720x720 with 1 Axes>"
      ]
     },
     "metadata": {
      "needs_background": "light"
     },
     "output_type": "display_data"
    }
   ],
   "source": [
    "import matplotlib.pyplot as plt\n",
    "from matplotlib.ticker import LinearLocator\n",
    "\n",
    "fig = plt.figure(figsize=(10, 10))\n",
    "ax = plt.axes(projection='3d')\n",
    "\n",
    "ax.plot_surface(x, y, z, cmap='plasma', linewidth=0, antialiased=False, alpha=0.5)\n",
    "\n",
    "ax.set_zlim(-1.4, .21)\n",
    "ax.set_xlabel('x-axis')\n",
    "ax.set_ylabel('y-axis')\n",
    "ax.set_zlabel('z-axis')\n",
    "\n",
    "\n",
    "xval = -1.5\n",
    "yval = 1.2\n",
    "zval = f(xval, yval) + 0.2\n",
    "\n",
    "ax.scatter(xval, yval, zval, c='k')\n",
    "\n",
    "plt.show()"
   ]
  },
  {
   "cell_type": "markdown",
   "metadata": {
    "slideshow": {
     "slide_type": "slide"
    }
   },
   "source": [
    "# $$ \\textbf{Optimization parameters}$$\n",
    "<hr> \n",
    "<br>"
   ]
  },
  {
   "cell_type": "code",
   "execution_count": 47,
   "metadata": {
    "slideshow": {
     "slide_type": "fragment"
    }
   },
   "outputs": [
    {
     "name": "stdout",
     "output_type": "stream",
     "text": [
      "tensor([-1.5000], requires_grad=True)\n",
      "tensor([1.2000], requires_grad=True)\n"
     ]
    }
   ],
   "source": [
    "x_p = tr.Tensor([xval])\n",
    "y_p = tr.Tensor([yval])\n",
    "\n",
    "parameters = [x_p, y_p]\n",
    "parameters = [p.requires_grad_() for p in parameters]\n",
    "\n",
    "[print(p) for p in parameters];"
   ]
  },
  {
   "cell_type": "code",
   "execution_count": 48,
   "metadata": {
    "slideshow": {
     "slide_type": "fragment"
    }
   },
   "outputs": [],
   "source": [
    "# Define optimizer\n",
    "from torch.optim import SGD\n",
    "\n",
    "optimizer = SGD(parameters, lr=1e-1)"
   ]
  },
  {
   "cell_type": "markdown",
   "metadata": {
    "slideshow": {
     "slide_type": "slide"
    }
   },
   "source": [
    "# $$ \\textbf{Optimization scheduler}$$\n",
    "<hr> \n",
    "<br>"
   ]
  },
  {
   "cell_type": "code",
   "execution_count": 49,
   "metadata": {
    "slideshow": {
     "slide_type": "fragment"
    }
   },
   "outputs": [
    {
     "data": {
      "text/plain": [
       "array([ 10,  20,  30,  40,  50,  60,  70,  80,  90, 100, 110, 120, 130,\n",
       "       140, 150, 160, 170, 180, 190, 200])"
      ]
     },
     "execution_count": 49,
     "metadata": {},
     "output_type": "execute_result"
    }
   ],
   "source": [
    "n_epochs = 200\n",
    "\n",
    "decay_rate = 0.9\n",
    "decay_every = 10\n",
    "\n",
    "milestones = np.arange(decay_every, n_epochs+1, decay_every)\n",
    "milestones"
   ]
  },
  {
   "cell_type": "code",
   "execution_count": 50,
   "metadata": {
    "slideshow": {
     "slide_type": "fragment"
    }
   },
   "outputs": [],
   "source": [
    "from torch.optim.lr_scheduler import MultiStepLR\n",
    "\n",
    "scheduler_kwargs = {\n",
    "    \"milestones\": milestones,\n",
    "    \"gamma\": decay_rate\n",
    "}\n",
    "\n",
    "scheduler = MultiStepLR(optimizer, **scheduler_kwargs)"
   ]
  },
  {
   "cell_type": "markdown",
   "metadata": {
    "slideshow": {
     "slide_type": "slide"
    }
   },
   "source": [
    "# $$ \\textbf{Iterative optimization}$$\n",
    "<hr> \n",
    "<br>"
   ]
  },
  {
   "cell_type": "code",
   "execution_count": 51,
   "metadata": {
    "slideshow": {
     "slide_type": "fragment"
    }
   },
   "outputs": [
    {
     "name": "stdout",
     "output_type": "stream",
     "text": [
      "Epoch  50  loss -1.125 lr: 0.06561\n",
      "Epoch 100  loss -1.125 lr: 0.03874\n",
      "Epoch 150  loss -1.125 lr: 0.02288\n",
      "Epoch 200  loss -1.125 lr: 0.01351\n",
      "__________________________________________________\n",
      "Min val: -1.125 at x: -0.577 y: 0.000\n"
     ]
    }
   ],
   "source": [
    "print_every = 50\n",
    "\n",
    "get_lr = lambda optimizer: [param_group['lr'] for param_group in optimizer.param_groups][0]\n",
    "\n",
    "for epoch in range(1, n_epochs+1):\n",
    "    optimizer.zero_grad()\n",
    "    \n",
    "    z = f(*parameters)\n",
    "    if epoch % print_every == 0:\n",
    "        print(f\"Epoch {epoch:3d}  loss {z.item():0.3f} lr: {get_lr(optimizer):0.5f}\")\n",
    "    \n",
    "    z.backward()\n",
    "    \n",
    "    optimizer.step()\n",
    "    scheduler.step()\n",
    "    \n",
    "print(50*'_')\n",
    "print(f\"Min val: {z.item():0.3f} at x: {parameters[0].item():0.3f} y: {parameters[1].item():0.3f}\")"
   ]
  },
  {
   "cell_type": "markdown",
   "metadata": {
    "slideshow": {
     "slide_type": "slide"
    }
   },
   "source": [
    "## $$\\textbf{Working with source data efficiently}$$\n",
    "<hr>\n",
    "<br> \n",
    "\n",
    "\n",
    "<center>\n",
    "    <img src='./images/pan.png' width=500>    \n",
    "</center>"
   ]
  },
  {
   "cell_type": "markdown",
   "metadata": {
    "slideshow": {
     "slide_type": "slide"
    }
   },
   "source": [
    "## $$\\textbf{Data Series}$$\n",
    "<hr>\n",
    "<br> "
   ]
  },
  {
   "cell_type": "markdown",
   "metadata": {
    "slideshow": {
     "slide_type": "fragment"
    }
   },
   "source": [
    "* $\\text{Specialization of } \\textbf{Python} \\text{ dictionary.}$"
   ]
  },
  {
   "cell_type": "code",
   "execution_count": 52,
   "metadata": {
    "slideshow": {
     "slide_type": "fragment"
    }
   },
   "outputs": [],
   "source": [
    "# conda install -c anaconda pandas\n",
    "\n",
    "import pandas as pd\n",
    "import numpy as np\n"
   ]
  },
  {
   "cell_type": "code",
   "execution_count": 53,
   "metadata": {
    "slideshow": {
     "slide_type": "fragment"
    }
   },
   "outputs": [
    {
     "data": {
      "text/plain": [
       "0     0.0\n",
       "10    2.0\n",
       "20    4.0\n",
       "30    6.0\n",
       "dtype: float64"
      ]
     },
     "execution_count": 53,
     "metadata": {},
     "output_type": "execute_result"
    }
   ],
   "source": [
    "lst = [0, 2, 4., 6]\n",
    "\n",
    "data = pd.Series(lst, index = 10*np.arange(len(lst))) # arbitraty index could be used\n",
    "data"
   ]
  },
  {
   "cell_type": "code",
   "execution_count": 54,
   "metadata": {
    "slideshow": {
     "slide_type": "fragment"
    }
   },
   "outputs": [
    {
     "data": {
      "text/plain": [
       "(pandas.core.series.Series,\n",
       " Int64Index([0, 10, 20, 30], dtype='int64'),\n",
       " array([0., 2., 4., 6.]))"
      ]
     },
     "execution_count": 54,
     "metadata": {},
     "output_type": "execute_result"
    }
   ],
   "source": [
    "type(data), data.index, data.values"
   ]
  },
  {
   "cell_type": "code",
   "execution_count": 55,
   "metadata": {
    "slideshow": {
     "slide_type": "fragment"
    }
   },
   "outputs": [
    {
     "name": "stdout",
     "output_type": "stream",
     "text": [
      "2.0\n",
      "==========\n",
      "0     0.0\n",
      "10    2.0\n",
      "dtype: float64\n",
      "==========\n",
      "0     0.0\n",
      "20    4.0\n",
      "dtype: float64\n"
     ]
    }
   ],
   "source": [
    "# Indexing\n",
    "\n",
    "print(data[10]) # getting one element\n",
    "print(10*'=')\n",
    "print(data[:2]) # slices\n",
    "\n",
    "print(10*'=')\n",
    "print(data[[True, False, True, False]]) # using a boolen mask\n"
   ]
  },
  {
   "cell_type": "markdown",
   "metadata": {
    "slideshow": {
     "slide_type": "slide"
    }
   },
   "source": [
    "## $$\\textbf{Data Series from Dictionary}$$\n",
    "<hr>\n",
    "<br> "
   ]
  },
  {
   "cell_type": "code",
   "execution_count": 56,
   "metadata": {
    "slideshow": {
     "slide_type": "fragment"
    }
   },
   "outputs": [
    {
     "data": {
      "text/plain": [
       "3    three\n",
       "1      one\n",
       "2      two\n",
       "0     zero\n",
       "dtype: object"
      ]
     },
     "execution_count": 56,
     "metadata": {},
     "output_type": "execute_result"
    }
   ],
   "source": [
    "dct = { 3 : 'three', 1 : 'one', 2 : 'two', 0 : 'zero'}\n",
    "pd.Series(dct)\n"
   ]
  },
  {
   "cell_type": "code",
   "execution_count": 57,
   "metadata": {
    "slideshow": {
     "slide_type": "fragment"
    }
   },
   "outputs": [
    {
     "data": {
      "text/plain": [
       "3    three\n",
       "0     zero\n",
       "2      two\n",
       "dtype: object"
      ]
     },
     "execution_count": 57,
     "metadata": {},
     "output_type": "execute_result"
    }
   ],
   "source": [
    "pd.Series(dct, index = [3, 0, 2]) # keys to be taken from the dict"
   ]
  },
  {
   "cell_type": "markdown",
   "metadata": {
    "slideshow": {
     "slide_type": "slide"
    }
   },
   "source": [
    "## $$\\textbf{Data Frame}$$\n",
    "<hr>\n",
    "<br> "
   ]
  },
  {
   "cell_type": "markdown",
   "metadata": {
    "slideshow": {
     "slide_type": "fragment"
    }
   },
   "source": [
    "* $\\text{Generalization of a } NumPy \\ 2d\\text{-array with both flexible row and\n",
    "column names}$"
   ]
  },
  {
   "cell_type": "code",
   "execution_count": 58,
   "metadata": {
    "slideshow": {
     "slide_type": "fragment"
    }
   },
   "outputs": [],
   "source": [
    "# Let's create two Series objects\n",
    "\n",
    "ages_dct = {'Anna': 19, 'Bob': 28, 'Carl': 23}\n",
    "ages = pd.Series(ages_dct)\n",
    "\n",
    "iqs_dct = {'Anna': 129, 'Bob': 117, 'Carl': 123}\n",
    "iqs = pd.Series(iqs_dct)"
   ]
  },
  {
   "cell_type": "code",
   "execution_count": 59,
   "metadata": {
    "slideshow": {
     "slide_type": "fragment"
    }
   },
   "outputs": [
    {
     "data": {
      "text/plain": [
       "{'age': Anna    19\n",
       " Bob     28\n",
       " Carl    23\n",
       " dtype: int64,\n",
       " 'iq': Anna    129\n",
       " Bob     117\n",
       " Carl    123\n",
       " dtype: int64}"
      ]
     },
     "execution_count": 59,
     "metadata": {},
     "output_type": "execute_result"
    }
   ],
   "source": [
    "# Combine the Series in a dict\n",
    "persons = {'age' : ages, 'iq' : iqs}\n",
    "persons"
   ]
  },
  {
   "cell_type": "code",
   "execution_count": 60,
   "metadata": {
    "slideshow": {
     "slide_type": "fragment"
    }
   },
   "outputs": [
    {
     "data": {
      "text/plain": [
       "Anna    129\n",
       "Bob     117\n",
       "Carl    123\n",
       "Name: iq, dtype: int64"
      ]
     },
     "execution_count": 60,
     "metadata": {},
     "output_type": "execute_result"
    }
   ],
   "source": [
    "# Create a DataFrame from dict\n",
    "persons = pd.DataFrame(persons) \n",
    "persons\n",
    "\n",
    "persons['sex'] = ['f', 'm', 'm']\n",
    "persons.iq"
   ]
  },
  {
   "cell_type": "code",
   "execution_count": 61,
   "metadata": {
    "slideshow": {
     "slide_type": "fragment"
    }
   },
   "outputs": [
    {
     "name": "stdout",
     "output_type": "stream",
     "text": [
      "Index(['Anna', 'Bob', 'Carl'], dtype='object')\n",
      "==========\n",
      "Index(['age', 'iq', 'sex'], dtype='object')\n"
     ]
    }
   ],
   "source": [
    "print(persons.index)\n",
    "print(10*'=')\n",
    "print(persons.columns)\n"
   ]
  },
  {
   "cell_type": "markdown",
   "metadata": {
    "slideshow": {
     "slide_type": "slide"
    }
   },
   "source": [
    "## $$\\textbf{Reading Data from a File}$$\n",
    "<hr>\n",
    "<br> "
   ]
  },
  {
   "cell_type": "code",
   "execution_count": 65,
   "metadata": {
    "slideshow": {
     "slide_type": "fragment"
    }
   },
   "outputs": [],
   "source": [
    "presidents = pd.read_csv('./presidents_height.csv', sep=',', names=['num', 'name_surname', 'h'])\n"
   ]
  },
  {
   "cell_type": "code",
   "execution_count": 66,
   "metadata": {
    "slideshow": {
     "slide_type": "fragment"
    }
   },
   "outputs": [
    {
     "data": {
      "text/html": [
       "<div>\n",
       "<style scoped>\n",
       "    .dataframe tbody tr th:only-of-type {\n",
       "        vertical-align: middle;\n",
       "    }\n",
       "\n",
       "    .dataframe tbody tr th {\n",
       "        vertical-align: top;\n",
       "    }\n",
       "\n",
       "    .dataframe thead th {\n",
       "        text-align: right;\n",
       "    }\n",
       "</style>\n",
       "<table border=\"1\" class=\"dataframe\">\n",
       "  <thead>\n",
       "    <tr style=\"text-align: right;\">\n",
       "      <th></th>\n",
       "      <th>num</th>\n",
       "      <th>name_surname</th>\n",
       "      <th>h</th>\n",
       "    </tr>\n",
       "  </thead>\n",
       "  <tbody>\n",
       "    <tr>\n",
       "      <th>5</th>\n",
       "      <td>5</td>\n",
       "      <td>James Monroe</td>\n",
       "      <td>183</td>\n",
       "    </tr>\n",
       "    <tr>\n",
       "      <th>34</th>\n",
       "      <td>36</td>\n",
       "      <td>Lyndon B. Johnson</td>\n",
       "      <td>193</td>\n",
       "    </tr>\n",
       "    <tr>\n",
       "      <th>38</th>\n",
       "      <td>40</td>\n",
       "      <td>Ronald Reagan</td>\n",
       "      <td>185</td>\n",
       "    </tr>\n",
       "    <tr>\n",
       "      <th>29</th>\n",
       "      <td>31</td>\n",
       "      <td>Herbert Hoover</td>\n",
       "      <td>182</td>\n",
       "    </tr>\n",
       "    <tr>\n",
       "      <th>13</th>\n",
       "      <td>13</td>\n",
       "      <td>Millard Fillmore</td>\n",
       "      <td>175</td>\n",
       "    </tr>\n",
       "    <tr>\n",
       "      <th>33</th>\n",
       "      <td>35</td>\n",
       "      <td>John F. Kennedy</td>\n",
       "      <td>183</td>\n",
       "    </tr>\n",
       "    <tr>\n",
       "      <th>14</th>\n",
       "      <td>14</td>\n",
       "      <td>Franklin Pierce</td>\n",
       "      <td>178</td>\n",
       "    </tr>\n",
       "    <tr>\n",
       "      <th>7</th>\n",
       "      <td>7</td>\n",
       "      <td>Andrew Jackson</td>\n",
       "      <td>185</td>\n",
       "    </tr>\n",
       "    <tr>\n",
       "      <th>26</th>\n",
       "      <td>28</td>\n",
       "      <td>Woodrow Wilson</td>\n",
       "      <td>180</td>\n",
       "    </tr>\n",
       "    <tr>\n",
       "      <th>35</th>\n",
       "      <td>37</td>\n",
       "      <td>Richard Nixon</td>\n",
       "      <td>182</td>\n",
       "    </tr>\n",
       "  </tbody>\n",
       "</table>\n",
       "</div>"
      ],
      "text/plain": [
       "   num       name_surname    h\n",
       "5    5       James Monroe  183\n",
       "34  36  Lyndon B. Johnson  193\n",
       "38  40      Ronald Reagan  185\n",
       "29  31     Herbert Hoover  182\n",
       "13  13   Millard Fillmore  175\n",
       "33  35    John F. Kennedy  183\n",
       "14  14    Franklin Pierce  178\n",
       "7    7     Andrew Jackson  185\n",
       "26  28     Woodrow Wilson  180\n",
       "35  37      Richard Nixon  182"
      ]
     },
     "execution_count": 66,
     "metadata": {},
     "output_type": "execute_result"
    }
   ],
   "source": [
    "presidents.sample(10)"
   ]
  },
  {
   "cell_type": "code",
   "execution_count": 69,
   "metadata": {
    "slideshow": {
     "slide_type": "fragment"
    }
   },
   "outputs": [],
   "source": [
    "headers = ['user_id', 'movie_id', 'rating', 'timestamp']\n",
    "movies = pd.read_csv('./u.data', delimiter='\\t', names=headers)"
   ]
  },
  {
   "cell_type": "code",
   "execution_count": 70,
   "metadata": {
    "slideshow": {
     "slide_type": "fragment"
    }
   },
   "outputs": [
    {
     "data": {
      "text/html": [
       "<div>\n",
       "<style scoped>\n",
       "    .dataframe tbody tr th:only-of-type {\n",
       "        vertical-align: middle;\n",
       "    }\n",
       "\n",
       "    .dataframe tbody tr th {\n",
       "        vertical-align: top;\n",
       "    }\n",
       "\n",
       "    .dataframe thead th {\n",
       "        text-align: right;\n",
       "    }\n",
       "</style>\n",
       "<table border=\"1\" class=\"dataframe\">\n",
       "  <thead>\n",
       "    <tr style=\"text-align: right;\">\n",
       "      <th></th>\n",
       "      <th>user_id</th>\n",
       "      <th>movie_id</th>\n",
       "      <th>rating</th>\n",
       "      <th>timestamp</th>\n",
       "    </tr>\n",
       "  </thead>\n",
       "  <tbody>\n",
       "    <tr>\n",
       "      <th>99995</th>\n",
       "      <td>880</td>\n",
       "      <td>476</td>\n",
       "      <td>3</td>\n",
       "      <td>880175444</td>\n",
       "    </tr>\n",
       "    <tr>\n",
       "      <th>99996</th>\n",
       "      <td>716</td>\n",
       "      <td>204</td>\n",
       "      <td>5</td>\n",
       "      <td>879795543</td>\n",
       "    </tr>\n",
       "    <tr>\n",
       "      <th>99997</th>\n",
       "      <td>276</td>\n",
       "      <td>1090</td>\n",
       "      <td>1</td>\n",
       "      <td>874795795</td>\n",
       "    </tr>\n",
       "    <tr>\n",
       "      <th>99998</th>\n",
       "      <td>13</td>\n",
       "      <td>225</td>\n",
       "      <td>2</td>\n",
       "      <td>882399156</td>\n",
       "    </tr>\n",
       "    <tr>\n",
       "      <th>99999</th>\n",
       "      <td>12</td>\n",
       "      <td>203</td>\n",
       "      <td>3</td>\n",
       "      <td>879959583</td>\n",
       "    </tr>\n",
       "  </tbody>\n",
       "</table>\n",
       "</div>"
      ],
      "text/plain": [
       "       user_id  movie_id  rating  timestamp\n",
       "99995      880       476       3  880175444\n",
       "99996      716       204       5  879795543\n",
       "99997      276      1090       1  874795795\n",
       "99998       13       225       2  882399156\n",
       "99999       12       203       3  879959583"
      ]
     },
     "execution_count": 70,
     "metadata": {},
     "output_type": "execute_result"
    }
   ],
   "source": [
    "movies.tail(5)"
   ]
  },
  {
   "cell_type": "markdown",
   "metadata": {
    "slideshow": {
     "slide_type": "slide"
    }
   },
   "source": [
    "## $$\\textbf{Get info about the loaded data}$$\n",
    "<hr>\n",
    "<br> "
   ]
  },
  {
   "cell_type": "code",
   "execution_count": null,
   "metadata": {
    "slideshow": {
     "slide_type": "fragment"
    }
   },
   "outputs": [],
   "source": [
    "movies.info()"
   ]
  },
  {
   "cell_type": "markdown",
   "metadata": {
    "slideshow": {
     "slide_type": "slide"
    }
   },
   "source": [
    "## $$\\textbf{Get statistics}$$\n",
    "<hr>\n",
    "<br> "
   ]
  },
  {
   "cell_type": "code",
   "execution_count": null,
   "metadata": {
    "slideshow": {
     "slide_type": "fragment"
    }
   },
   "outputs": [],
   "source": [
    "# get general statistics\n",
    "\n",
    "movies.describe()"
   ]
  },
  {
   "cell_type": "code",
   "execution_count": null,
   "metadata": {
    "slideshow": {
     "slide_type": "fragment"
    }
   },
   "outputs": [],
   "source": [
    "# summary of the values over one specific columns\n",
    "\n",
    "movies.rating.value_counts()"
   ]
  },
  {
   "cell_type": "markdown",
   "metadata": {
    "slideshow": {
     "slide_type": "slide"
    }
   },
   "source": [
    "## $$\\textbf{Retrieve the specified rows}$$\n",
    "<hr>\n",
    "<br> "
   ]
  },
  {
   "cell_type": "code",
   "execution_count": null,
   "metadata": {
    "slideshow": {
     "slide_type": "fragment"
    }
   },
   "outputs": [],
   "source": [
    "movies.loc[10:20]"
   ]
  },
  {
   "cell_type": "code",
   "execution_count": null,
   "metadata": {
    "slideshow": {
     "slide_type": "fragment"
    }
   },
   "outputs": [],
   "source": [
    "movies.loc[[123, 242, 153]]"
   ]
  },
  {
   "cell_type": "markdown",
   "metadata": {
    "slideshow": {
     "slide_type": "slide"
    }
   },
   "source": [
    "## $$\\textbf{Filtering}$$\n",
    "<hr>\n",
    "<br> "
   ]
  },
  {
   "cell_type": "code",
   "execution_count": null,
   "metadata": {
    "slideshow": {
     "slide_type": "fragment"
    }
   },
   "outputs": [],
   "source": [
    "high_ratings = movies[(movies.rating > 2) | (movies.rating <= 4)] # equiv. by a key movies[movies['rating'] > 3] \n",
    "high_ratings.fillna(0)"
   ]
  },
  {
   "cell_type": "code",
   "execution_count": null,
   "metadata": {
    "slideshow": {
     "slide_type": "fragment"
    }
   },
   "outputs": [],
   "source": [
    "movie_7 = movies[movies.movie_id == 7]\n",
    "movie_7.head(3)"
   ]
  },
  {
   "cell_type": "code",
   "execution_count": null,
   "metadata": {
    "slideshow": {
     "slide_type": "fragment"
    }
   },
   "outputs": [],
   "source": [
    "movie_7.rating.mean()"
   ]
  },
  {
   "cell_type": "markdown",
   "metadata": {
    "slideshow": {
     "slide_type": "slide"
    }
   },
   "source": [
    "## $$\\textbf{Sorting}$$\n",
    "<hr>\n",
    "<br> "
   ]
  },
  {
   "cell_type": "code",
   "execution_count": null,
   "metadata": {
    "slideshow": {
     "slide_type": "fragment"
    }
   },
   "outputs": [],
   "source": [
    "movies.sort_values('rating', ascending=False)"
   ]
  },
  {
   "cell_type": "markdown",
   "metadata": {
    "slideshow": {
     "slide_type": "slide"
    }
   },
   "source": [
    "## $$\\textbf{Grouping}$$\n",
    "<hr>\n",
    "<br> "
   ]
  },
  {
   "cell_type": "code",
   "execution_count": null,
   "metadata": {
    "slideshow": {
     "slide_type": "fragment"
    }
   },
   "outputs": [],
   "source": [
    "r_counts = movies.groupby('rating').count()\n",
    "r_counts"
   ]
  },
  {
   "cell_type": "code",
   "execution_count": null,
   "metadata": {
    "slideshow": {
     "slide_type": "fragment"
    }
   },
   "outputs": [],
   "source": [
    "r_counts[['movie_id', 'user_id']]"
   ]
  },
  {
   "cell_type": "markdown",
   "metadata": {
    "slideshow": {
     "slide_type": "slide"
    }
   },
   "source": [
    "# $$ \\textbf{Thank you for your attention.}$$"
   ]
  }
 ],
 "metadata": {
  "celltoolbar": "Slideshow",
  "kernelspec": {
   "display_name": "Python 3 (ipykernel)",
   "language": "python",
   "name": "python3"
  },
  "language_info": {
   "codemirror_mode": {
    "name": "ipython",
    "version": 3
   },
   "file_extension": ".py",
   "mimetype": "text/x-python",
   "name": "python",
   "nbconvert_exporter": "python",
   "pygments_lexer": "ipython3",
   "version": "3.9.7"
  }
 },
 "nbformat": 4,
 "nbformat_minor": 4
}
