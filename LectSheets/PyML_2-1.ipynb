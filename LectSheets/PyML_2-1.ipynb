{
 "cells": [
  {
   "cell_type": "code",
   "execution_count": 1,
   "metadata": {
    "slideshow": {
     "slide_type": "skip"
    }
   },
   "outputs": [
    {
     "data": {
      "text/html": [
       " \n",
       "<style>\n",
       "    .output_png {\n",
       "        display: table-cell;\n",
       "        text-align: center;\n",
       "        vertical-align: middle;\n",
       "    }\n",
       "</style> \n"
      ],
      "text/plain": [
       "<IPython.core.display.HTML object>"
      ]
     },
     "execution_count": 1,
     "metadata": {},
     "output_type": "execute_result"
    }
   ],
   "source": [
    "from IPython.core.display import HTML as Center\n",
    "\n",
    "Center(\n",
    "\"\"\" \n",
    "<style>\n",
    "    .output_png {\n",
    "        display: table-cell;\n",
    "        text-align: center;\n",
    "        vertical-align: middle;\n",
    "    }\n",
    "</style> \n",
    "\"\"\")"
   ]
  },
  {
   "cell_type": "markdown",
   "metadata": {
    "slideshow": {
     "slide_type": "skip"
    }
   },
   "source": [
    "$\n",
    "\\newcommand{\\nc}{\\newcommand} \n",
    "\\nc{\\t}{\\text}\n",
    "\\nc{\\tb}{\\textbf}\n",
    "\\nc{\\ti}{\\textit}\n",
    "\\nc{\\x}{\\boldsymbol{x}}\n",
    "\\nc{\\y}{\\boldsymbol{y}}\n",
    "\\nc{\\z}{\\boldsymbol{z}}\n",
    "$"
   ]
  },
  {
   "cell_type": "markdown",
   "metadata": {
    "slideshow": {
     "slide_type": "slide"
    }
   },
   "source": [
    "# $$\\textbf{Python Programming for Machine Learning} $$ \n",
    "\n",
    "#### $$\\text{Winter Semester 2021/2022}$$\n",
    "\n",
    "#### $$\\text{Sergej Dogadov and Panagiotis Tomer Karagianis}$$\n",
    "\n",
    "<center>\n",
    "<img src='images/pyt.png' width=450>"
   ]
  },
  {
   "cell_type": "markdown",
   "metadata": {
    "slideshow": {
     "slide_type": "slide"
    }
   },
   "source": [
    "# $$\\textbf{Package for scientific computing}$$\n",
    "<hr>\n",
    "<br>\n",
    "<center>\n",
    "<img src='images/num.png' width=850>\n",
    "</center>    \n"
   ]
  },
  {
   "cell_type": "markdown",
   "metadata": {
    "slideshow": {
     "slide_type": "fragment"
    }
   },
   "source": [
    "### $\\textbf{Usefull options:}$\n",
    "\n",
    "* $\\text{a powerful }N\\text{-dimensional array object}$\n",
    "* $\\text{sophisticated (broadcasting) functions}$\n",
    "* $\\text{linear algebra, Fourier transform and random number capabilities.}$"
   ]
  },
  {
   "cell_type": "markdown",
   "metadata": {
    "slideshow": {
     "slide_type": "slide"
    }
   },
   "source": [
    "* $\\text{Import the package in order to use the built-in functionality} $\n"
   ]
  },
  {
   "cell_type": "code",
   "execution_count": 2,
   "metadata": {
    "slideshow": {
     "slide_type": "fragment"
    }
   },
   "outputs": [],
   "source": [
    "# conda install -c anaconda numpy\n",
    "\n",
    "import numpy as np # as alias or better to say a shortcut \n"
   ]
  },
  {
   "cell_type": "markdown",
   "metadata": {
    "slideshow": {
     "slide_type": "slide"
    }
   },
   "source": [
    "## $$\\textbf{NumPy arrays and data types}$$\n",
    "<hr>\n",
    "\n",
    "* $\\text{Create a powerful } N-\\text{dimensional } NumPy \\text{ array object}$"
   ]
  },
  {
   "cell_type": "code",
   "execution_count": 3,
   "metadata": {
    "scrolled": true,
    "slideshow": {
     "slide_type": "fragment"
    }
   },
   "outputs": [
    {
     "data": {
      "text/plain": [
       "(array([1, 2, 3, 4]), numpy.ndarray)"
      ]
     },
     "execution_count": 3,
     "metadata": {},
     "output_type": "execute_result"
    }
   ],
   "source": [
    "# from a list\n",
    "X = np.array([1, 2, 3, 4])\n",
    "\n",
    "X, type(X) \n"
   ]
  },
  {
   "cell_type": "code",
   "execution_count": 4,
   "metadata": {
    "slideshow": {
     "slide_type": "fragment"
    }
   },
   "outputs": [
    {
     "data": {
      "text/plain": [
       "(array([1., 2., 3., 4.]), numpy.ndarray)"
      ]
     },
     "execution_count": 4,
     "metadata": {},
     "output_type": "execute_result"
    }
   ],
   "source": [
    "# from a tuple\n",
    "Y = np.array((1, 2.0, 3, 4))\n",
    "\n",
    "Y, type(Y)\n"
   ]
  },
  {
   "cell_type": "markdown",
   "metadata": {
    "slideshow": {
     "slide_type": "fragment"
    }
   },
   "source": [
    "* $\\text{Data type inside the object is automatically determined from the inputs}$"
   ]
  },
  {
   "cell_type": "code",
   "execution_count": 5,
   "metadata": {
    "slideshow": {
     "slide_type": "fragment"
    }
   },
   "outputs": [
    {
     "name": "stdout",
     "output_type": "stream",
     "text": [
      "[2 4 6 8] int32\n",
      "[1. 2. 3. 4.] float64\n"
     ]
    }
   ],
   "source": [
    "Z = np.array(range(2,10,2)) # from range generator object\n",
    "\n",
    "print(Z, Z.dtype) # double precision integer\n",
    "print(Y, Y.dtype) # double precision float\n"
   ]
  },
  {
   "cell_type": "markdown",
   "metadata": {
    "slideshow": {
     "slide_type": "slide"
    }
   },
   "source": [
    "## $$\\textbf{NumPy data casting}$$\n",
    "<hr>"
   ]
  },
  {
   "cell_type": "markdown",
   "metadata": {
    "slideshow": {
     "slide_type": "fragment"
    }
   },
   "source": [
    "* $\\text{Data type can be changed either explicitly to be e.g}\\> \\textit{(float64)}\\> \\text{as following:}$"
   ]
  },
  {
   "cell_type": "code",
   "execution_count": 6,
   "metadata": {
    "slideshow": {
     "slide_type": "-"
    }
   },
   "outputs": [
    {
     "name": "stdout",
     "output_type": "stream",
     "text": [
      "[1. 2. 3. 4.] float64\n",
      "[1 2 3 4] int32\n",
      "['1' '2' '3' '4'] <U11\n"
     ]
    },
    {
     "name": "stderr",
     "output_type": "stream",
     "text": [
      "C:\\Users\\INGIMA~1\\AppData\\Local\\Temp/ipykernel_4148/3523527644.py:7: DeprecationWarning: `np.str` is a deprecated alias for the builtin `str`. To silence this warning, use `str` by itself. Doing this will not modify any behavior and is safe. If you specifically wanted the numpy scalar type, use `np.str_` here.\n",
      "Deprecated in NumPy 1.20; for more details and guidance: https://numpy.org/devdocs/release/1.20.0-notes.html#deprecations\n",
      "  X = X.astype(np.str) # element-wise to string casting\n"
     ]
    }
   ],
   "source": [
    "X = X.astype(np.float64)\n",
    "print(X, X.dtype) # double precision float\n",
    "\n",
    "X = X.astype(np.int32)\n",
    "print(X, X.dtype) # double precision float\n",
    "\n",
    "X = X.astype(np.str) # element-wise to string casting\n",
    "print(X, X.dtype)\n"
   ]
  },
  {
   "cell_type": "markdown",
   "metadata": {
    "slideshow": {
     "slide_type": "fragment"
    }
   },
   "source": [
    "* $\\text{or specified during the creation.}$"
   ]
  },
  {
   "cell_type": "code",
   "execution_count": 7,
   "metadata": {
    "slideshow": {
     "slide_type": "-"
    }
   },
   "outputs": [
    {
     "data": {
      "text/plain": [
       "(dtype('int32'), array([ 1, -2,  3,  4]))"
      ]
     },
     "execution_count": 7,
     "metadata": {},
     "output_type": "execute_result"
    }
   ],
   "source": [
    "X = np.array([1, -2.9, 3, 4], dtype=np.int32) # single precision integer\n",
    "\n",
    "X.dtype, X # but be careful (casting errors)\n"
   ]
  },
  {
   "cell_type": "markdown",
   "metadata": {
    "slideshow": {
     "slide_type": "fragment"
    }
   },
   "source": [
    "* $\\text{When applying an operator to two arrays of different types,}$\n",
    "$\\text{the returned array gets the type of the highest-precision input array}$"
   ]
  },
  {
   "cell_type": "code",
   "execution_count": 8,
   "metadata": {
    "slideshow": {
     "slide_type": "-"
    }
   },
   "outputs": [
    {
     "data": {
      "text/plain": [
       "dtype('float64')"
      ]
     },
     "execution_count": 8,
     "metadata": {},
     "output_type": "execute_result"
    }
   ],
   "source": [
    "(X + Y).dtype\n"
   ]
  },
  {
   "cell_type": "markdown",
   "metadata": {
    "slideshow": {
     "slide_type": "slide"
    }
   },
   "source": [
    " ## $$\\textbf{Operations between NumPy arrays}$$\n",
    "<hr>"
   ]
  },
  {
   "cell_type": "markdown",
   "metadata": {
    "slideshow": {
     "slide_type": "fragment"
    }
   },
   "source": [
    " * $\\text{Element-wise addition}$"
   ]
  },
  {
   "cell_type": "code",
   "execution_count": 9,
   "metadata": {
    "slideshow": {
     "slide_type": "-"
    }
   },
   "outputs": [
    {
     "name": "stdout",
     "output_type": "stream",
     "text": [
      "[ 1 -2  3  4] [1. 2. 3. 4.]\n"
     ]
    },
    {
     "data": {
      "text/plain": [
       "(array([2., 0., 6., 8.]), dtype('float64'))"
      ]
     },
     "execution_count": 9,
     "metadata": {},
     "output_type": "execute_result"
    }
   ],
   "source": [
    "print(X, Y)\n",
    "\n",
    "A = X + Y   \n",
    "A, A.dtype\n"
   ]
  },
  {
   "cell_type": "markdown",
   "metadata": {
    "slideshow": {
     "slide_type": "fragment"
    }
   },
   "source": [
    " * $\\text{Element-wise multiplication}$"
   ]
  },
  {
   "cell_type": "code",
   "execution_count": 10,
   "metadata": {
    "slideshow": {
     "slide_type": "-"
    }
   },
   "outputs": [
    {
     "data": {
      "text/plain": [
       "(array([ 1., -4.,  9., 16.]), dtype('float64'))"
      ]
     },
     "execution_count": 10,
     "metadata": {},
     "output_type": "execute_result"
    }
   ],
   "source": [
    "M = X * Y   \n",
    "M, M.dtype\n"
   ]
  },
  {
   "cell_type": "markdown",
   "metadata": {
    "slideshow": {
     "slide_type": "fragment"
    }
   },
   "source": [
    " * $\\text{Element-wise power}$"
   ]
  },
  {
   "cell_type": "code",
   "execution_count": 11,
   "metadata": {
    "slideshow": {
     "slide_type": "-"
    }
   },
   "outputs": [
    {
     "data": {
      "text/plain": [
       "(array([  1.,   4.,  27., 256.]), dtype('float64'))"
      ]
     },
     "execution_count": 11,
     "metadata": {},
     "output_type": "execute_result"
    }
   ],
   "source": [
    "M = X ** Y   \n",
    "M, M.dtype\n"
   ]
  },
  {
   "cell_type": "markdown",
   "metadata": {
    "slideshow": {
     "slide_type": "slide"
    }
   },
   "source": [
    " ## $$\\textbf{Indexing and Slicing}$$\n",
    "<hr>"
   ]
  },
  {
   "cell_type": "code",
   "execution_count": 12,
   "metadata": {
    "slideshow": {
     "slide_type": "fragment"
    }
   },
   "outputs": [
    {
     "name": "stdout",
     "output_type": "stream",
     "text": [
      "X: [ 1 -2  3  4]\n",
      "X_tail: [3 4]\n",
      "X_slice: [-2  3  4]\n",
      "X_even: [-2  4]\n",
      "X_rev: [ 4  3 -2  1]\n"
     ]
    }
   ],
   "source": [
    "# Similar indexind and slicing to already well known python lists\n",
    "\n",
    "X_tail = X[2:]   # indexing \n",
    "X_slice = X[1:4] # slicing\n",
    "X_even = X[1::2]  # use steps e.g. for getting even elements\n",
    "X_rev = X[::-1]  # reverce\n",
    "\n",
    "print(\"X:\", X)\n",
    "print(\"X_tail:\" , X_tail)\n",
    "print(\"X_slice:\", X_slice) \n",
    "print(\"X_even:\", X_even)\n",
    "print(\"X_rev:\", X_rev)\n"
   ]
  },
  {
   "cell_type": "markdown",
   "metadata": {
    "slideshow": {
     "slide_type": "slide"
    }
   },
   "source": [
    " ## $$\\textbf{Python vs. NumPy}$$\n",
    "<hr>"
   ]
  },
  {
   "cell_type": "code",
   "execution_count": 13,
   "metadata": {
    "slideshow": {
     "slide_type": "fragment"
    }
   },
   "outputs": [
    {
     "data": {
      "text/plain": [
       "[1, 2, 3, 4, 5, 6, 7, 8]"
      ]
     },
     "execution_count": 13,
     "metadata": {},
     "output_type": "execute_result"
    }
   ],
   "source": [
    "X_list = [1, 2, 3, 4]\n",
    "Y_list = [5, 6, 7, 8]\n",
    "\n",
    "# concatenation\n",
    "X_list + Y_list \n"
   ]
  },
  {
   "cell_type": "code",
   "execution_count": 14,
   "metadata": {
    "slideshow": {
     "slide_type": "fragment"
    }
   },
   "outputs": [
    {
     "data": {
      "text/plain": [
       "array([ 6,  8, 10, 12])"
      ]
     },
     "execution_count": 14,
     "metadata": {},
     "output_type": "execute_result"
    }
   ],
   "source": [
    "X_arr = np.array(X_list)\n",
    "Y_arr = np.array([5, 6, 7, 8])\n",
    "\n",
    "# element-wise (operation) addition\n",
    "X_arr + Y_arr "
   ]
  },
  {
   "cell_type": "code",
   "execution_count": 15,
   "metadata": {
    "scrolled": true,
    "slideshow": {
     "slide_type": "fragment"
    }
   },
   "outputs": [
    {
     "ename": "TypeError",
     "evalue": "can't multiply sequence by non-int of type 'list'",
     "output_type": "error",
     "traceback": [
      "\u001b[1;31m---------------------------------------------------------------------------\u001b[0m",
      "\u001b[1;31mTypeError\u001b[0m                                 Traceback (most recent call last)",
      "\u001b[1;32mC:\\Users\\INGIMA~1\\AppData\\Local\\Temp/ipykernel_4148/2407993792.py\u001b[0m in \u001b[0;36m<module>\u001b[1;34m\u001b[0m\n\u001b[1;32m----> 1\u001b[1;33m \u001b[0mX_list\u001b[0m \u001b[1;33m*\u001b[0m \u001b[0mY_list\u001b[0m \u001b[1;31m# not defined for lists -> compiler raises an Exception\u001b[0m\u001b[1;33m\u001b[0m\u001b[1;33m\u001b[0m\u001b[0m\n\u001b[0m",
      "\u001b[1;31mTypeError\u001b[0m: can't multiply sequence by non-int of type 'list'"
     ]
    }
   ],
   "source": [
    "X_list * Y_list # not defined for lists -> compiler raises an Exception"
   ]
  },
  {
   "cell_type": "markdown",
   "metadata": {
    "slideshow": {
     "slide_type": "slide"
    }
   },
   "source": [
    "* $\\text{Element-wise operations in pure Python with a list comprehansion}$"
   ]
  },
  {
   "cell_type": "code",
   "execution_count": 16,
   "metadata": {
    "slideshow": {
     "slide_type": "fragment"
    }
   },
   "outputs": [
    {
     "name": "stdout",
     "output_type": "stream",
     "text": [
      "[1, 2, 3, 4] + [5, 6, 7, 8]\n",
      "[6, 8, 10, 12] = [ 6  8 10 12]\n"
     ]
    }
   ],
   "source": [
    "print(X_list, \"+\", Y_list)\n",
    "\n",
    "# element-wise addition\n",
    "A_list = [x + y for (x, y) in zip(X_list, Y_list)]\n",
    "\n",
    "A_arr = X_arr + Y_arr\n",
    "\n",
    "print(A_list,'=', A_arr)\n",
    "\n",
    "assert np.allclose(A_list, A_arr), \"Elements of the arrays don't match.\"\n"
   ]
  },
  {
   "cell_type": "code",
   "execution_count": 17,
   "metadata": {
    "slideshow": {
     "slide_type": "fragment"
    }
   },
   "outputs": [
    {
     "name": "stdout",
     "output_type": "stream",
     "text": [
      "[5, 12, 21, 32] [ 5 12 21 32]\n"
     ]
    }
   ],
   "source": [
    "# element-wise multiplication\n",
    "M_list = [x * y for x, y in zip(X_list, Y_list)]      \n",
    "\n",
    "M_arr = X_arr * Y_arr\n",
    "print(M_list, M_arr)\n"
   ]
  },
  {
   "cell_type": "markdown",
   "metadata": {
    "slideshow": {
     "slide_type": "fragment"
    }
   },
   "source": [
    "$\\textbf{Observation:} \\text{ Results are the same, but the Numpy syntax is much more readable }$\n",
    "\n",
    "$\\text{(i.e. more compact) than the Python syntax for the same vector operations.}$"
   ]
  },
  {
   "cell_type": "markdown",
   "metadata": {
    "slideshow": {
     "slide_type": "slide"
    }
   },
   "source": [
    " ## $$\\textbf{NumPy array  (Vector)}$$\n",
    "<hr>"
   ]
  },
  {
   "cell_type": "code",
   "execution_count": 18,
   "metadata": {
    "scrolled": true,
    "slideshow": {
     "slide_type": "fragment"
    }
   },
   "outputs": [
    {
     "data": {
      "text/plain": [
       "(array([1, 2, 3]), (3,), numpy.ndarray)"
      ]
     },
     "execution_count": 18,
     "metadata": {},
     "output_type": "execute_result"
    }
   ],
   "source": [
    "vec = np.array([1, 2, 3]) # simple array or vector\n",
    "vec, vec.shape, type(vec)\n"
   ]
  },
  {
   "cell_type": "code",
   "execution_count": 19,
   "metadata": {
    "slideshow": {
     "slide_type": "fragment"
    }
   },
   "outputs": [
    {
     "data": {
      "text/plain": [
       "(array([[1, 2, 3]]), (1, 3))"
      ]
     },
     "execution_count": 19,
     "metadata": {},
     "output_type": "execute_result"
    }
   ],
   "source": [
    "# Adding a dimension\n",
    "vec_row = vec[np.newaxis] # row vector ( equivalent vec[None])\n",
    "\n",
    "vec_row, vec_row.shape\n"
   ]
  },
  {
   "cell_type": "code",
   "execution_count": 20,
   "metadata": {
    "slideshow": {
     "slide_type": "fragment"
    }
   },
   "outputs": [
    {
     "data": {
      "text/plain": [
       "(array([[1],\n",
       "        [2],\n",
       "        [3]]),\n",
       " (3, 1),\n",
       " 3)"
      ]
     },
     "execution_count": 20,
     "metadata": {},
     "output_type": "execute_result"
    }
   ],
   "source": [
    "vec_col = vec[:, None] # column vector (None is used instead of np.newaxis)\n",
    "vec_col, vec_col.shape, vec_col.size\n"
   ]
  },
  {
   "cell_type": "markdown",
   "metadata": {
    "slideshow": {
     "slide_type": "slide"
    }
   },
   "source": [
    " ## $$\\textbf{NumPy 2-dim array  (Matrix)}$$\n",
    "<hr>"
   ]
  },
  {
   "cell_type": "code",
   "execution_count": 21,
   "metadata": {
    "slideshow": {
     "slide_type": "fragment"
    }
   },
   "outputs": [
    {
     "name": "stdout",
     "output_type": "stream",
     "text": [
      "[[1 2 3]\n",
      " [4 5 6]]\n",
      "<class 'numpy.ndarray'>\n",
      "(2, 3) 6\n"
     ]
    }
   ],
   "source": [
    "# 2-dim array from list of the lists\n",
    "A = [\n",
    "        [1, 2, 3],\n",
    "        [4, 5, 6]\n",
    "    ]\n",
    "\n",
    "A = np.array(A)\n",
    "\n",
    "print(A)\n",
    "print(type(A))\n",
    "\n",
    "# matrix dimensions and number of elements\n",
    "if isinstance(A, np.ndarray):\n",
    "    print(A.shape, A.size)\n"
   ]
  },
  {
   "cell_type": "markdown",
   "metadata": {
    "slideshow": {
     "slide_type": "fragment"
    }
   },
   "source": [
    " * $\\text{Matrix-Matrix dot product}$"
   ]
  },
  {
   "cell_type": "code",
   "execution_count": 22,
   "metadata": {
    "slideshow": {
     "slide_type": "-"
    }
   },
   "outputs": [
    {
     "name": "stdout",
     "output_type": "stream",
     "text": [
      "[[14 32]\n",
      " [32 77]] (2, 2)\n"
     ]
    }
   ],
   "source": [
    "#(2, 3) x (3, 2) -> (2, 2)\n",
    "\n",
    "A2 = A.dot(A.T) # T -> matrix transpose operation\n",
    "\n",
    "#A2 = np.dot(A, np.transpose(A)) # equivalent with casting to ndarray object\n",
    "\n",
    "#A2 = A @ A.T # equivalent works in python versions > 3.4\n",
    "\n",
    "print(A2, A2.shape)\n"
   ]
  },
  {
   "cell_type": "markdown",
   "metadata": {
    "slideshow": {
     "slide_type": "slide"
    }
   },
   "source": [
    " ## $$ \\textbf{NumPy}\\> N\\textbf{-dim array (Tensor)}$$\n",
    "<hr>"
   ]
  },
  {
   "cell_type": "markdown",
   "metadata": {
    "slideshow": {
     "slide_type": "fragment"
    }
   },
   "source": [
    "* $\\text{N-dim array creation useful functions}$"
   ]
  },
  {
   "cell_type": "code",
   "execution_count": 23,
   "metadata": {
    "slideshow": {
     "slide_type": "-"
    }
   },
   "outputs": [
    {
     "data": {
      "text/plain": [
       "(2, 3, 2)"
      ]
     },
     "execution_count": 23,
     "metadata": {},
     "output_type": "execute_result"
    }
   ],
   "source": [
    "# All zeros with the given shape\n",
    "A_zeros = np.zeros(shape=(2, 3, 2))\n",
    "A_zeros.shape"
   ]
  },
  {
   "cell_type": "code",
   "execution_count": 24,
   "metadata": {
    "scrolled": true,
    "slideshow": {
     "slide_type": "fragment"
    }
   },
   "outputs": [
    {
     "data": {
      "text/plain": [
       "(array([[[1., 1.],\n",
       "         [1., 1.]],\n",
       " \n",
       "        [[1., 1.],\n",
       "         [1., 1.]],\n",
       " \n",
       "        [[1., 1.],\n",
       "         [1., 1.]]]),\n",
       " (3, 2, 2))"
      ]
     },
     "execution_count": 24,
     "metadata": {},
     "output_type": "execute_result"
    }
   ],
   "source": [
    "\n",
    "\n",
    "# All ones with the given shape\n",
    "A_ones = np.ones((3,2,2)) # you may omit 'shape=' argument name \n",
    "\n",
    "A_ones, A_ones.shape \n"
   ]
  },
  {
   "cell_type": "code",
   "execution_count": 25,
   "metadata": {
    "slideshow": {
     "slide_type": "fragment"
    }
   },
   "outputs": [
    {
     "name": "stdout",
     "output_type": "stream",
     "text": [
      "(2, 3)\n"
     ]
    },
    {
     "data": {
      "text/plain": [
       "(array([[1, 1, 1],\n",
       "        [1, 1, 1]]),\n",
       " 2)"
      ]
     },
     "execution_count": 25,
     "metadata": {},
     "output_type": "execute_result"
    }
   ],
   "source": [
    "A_ones = np.ones_like(A) # takes shape from A\n",
    "\n",
    "print(A.shape)\n",
    "A_ones, A_ones.ndim # number of dimensions (axis)\n"
   ]
  },
  {
   "cell_type": "markdown",
   "metadata": {
    "slideshow": {
     "slide_type": "slide"
    }
   },
   "source": [
    " ## $$ N\\textbf{-d array reshaping}$$\n",
    "<hr>"
   ]
  },
  {
   "cell_type": "code",
   "execution_count": 26,
   "metadata": {
    "slideshow": {
     "slide_type": "fragment"
    }
   },
   "outputs": [
    {
     "name": "stdout",
     "output_type": "stream",
     "text": [
      "[ 2  4  6  8 10 12 14 16 18 20 22 24 26 28 30 32 34 36 38 40 42 44 46 48] <class 'numpy.ndarray'> 24\n"
     ]
    }
   ],
   "source": [
    "# Init numpy array \n",
    "A = np.arange(2, 49, 2) # numpy equlavent of the range function\n",
    "\n",
    "print(A, type(A), len(A))\n"
   ]
  },
  {
   "cell_type": "code",
   "execution_count": 27,
   "metadata": {
    "slideshow": {
     "slide_type": "-"
    }
   },
   "outputs": [
    {
     "name": "stdout",
     "output_type": "stream",
     "text": [
      "[[[ 2  4  6  8]\n",
      "  [10 12 14 16]\n",
      "  [18 20 22 24]]\n",
      "\n",
      " [[26 28 30 32]\n",
      "  [34 36 38 40]\n",
      "  [42 44 46 48]]]\n"
     ]
    },
    {
     "data": {
      "text/plain": [
       "((2, 3, 4), 3)"
      ]
     },
     "execution_count": 27,
     "metadata": {},
     "output_type": "execute_result"
    }
   ],
   "source": [
    "new_shape = (2, 3, 4)\n",
    "\n",
    "A_t = A.reshape(new_shape) # or resise(2,4,3) manipulates the original array\n",
    "\n",
    "assert len(A) == np.prod(new_shape)\n",
    "print(A_t)\n",
    "\n",
    "A_t.shape , A_t.ndim\n"
   ]
  },
  {
   "cell_type": "markdown",
   "metadata": {
    "slideshow": {
     "slide_type": "slide"
    }
   },
   "source": [
    " ## $$ N\\textbf{-d array indexing}$$\n",
    "<hr>"
   ]
  },
  {
   "cell_type": "code",
   "execution_count": 28,
   "metadata": {
    "scrolled": true,
    "slideshow": {
     "slide_type": "fragment"
    }
   },
   "outputs": [
    {
     "name": "stdout",
     "output_type": "stream",
     "text": [
      "[[26 28 30 32]\n",
      " [34 36 38 40]\n",
      " [42 44 46 48]]\n"
     ]
    }
   ],
   "source": [
    " # sub-matrix indexing # (2,3,4)\n",
    "print(A_t[1]) # first sub-matrix\n"
   ]
  },
  {
   "cell_type": "code",
   "execution_count": 29,
   "metadata": {
    "slideshow": {
     "slide_type": "fragment"
    }
   },
   "outputs": [
    {
     "name": "stdout",
     "output_type": "stream",
     "text": [
      "[[34 36 38 40]\n",
      " [42 44 46 48]]\n"
     ]
    }
   ],
   "source": [
    "# slicing within the second sub-matrix \n",
    "print(A_t[1, 1:3])\n"
   ]
  },
  {
   "cell_type": "code",
   "execution_count": 30,
   "metadata": {
    "slideshow": {
     "slide_type": "fragment"
    }
   },
   "outputs": [
    {
     "name": "stdout",
     "output_type": "stream",
     "text": [
      "[32 40 48]\n"
     ]
    }
   ],
   "source": [
    "# last column vecotor within second sub-matrix\n",
    "print(A_t[1, :, -1])  # : sign skips one dimension (axis)\n",
    "\n",
    "#print(A_t, A_t.ndim)\n"
   ]
  },
  {
   "cell_type": "code",
   "execution_count": 31,
   "metadata": {
    "slideshow": {
     "slide_type": "fragment"
    }
   },
   "outputs": [
    {
     "data": {
      "text/plain": [
       "array([[34, 36, 38, 40]])"
      ]
     },
     "execution_count": 31,
     "metadata": {},
     "output_type": "execute_result"
    }
   ],
   "source": [
    "A_t[1, 1::2] # even rows of second sub-matrix\n"
   ]
  },
  {
   "cell_type": "markdown",
   "metadata": {
    "slideshow": {
     "slide_type": "slide"
    }
   },
   "source": [
    " ## $$ \\textbf{NumPy boolean arrays}$$\n",
    "<hr>"
   ]
  },
  {
   "cell_type": "code",
   "execution_count": 32,
   "metadata": {
    "slideshow": {
     "slide_type": "fragment"
    }
   },
   "outputs": [
    {
     "name": "stdout",
     "output_type": "stream",
     "text": [
      "[-3 -2 -1  0  1  2  3  4]\n",
      "bool\n",
      "[False False False False False  True  True  True]\n"
     ]
    },
    {
     "data": {
      "text/plain": [
       "array([2, 3, 4])"
      ]
     },
     "execution_count": 32,
     "metadata": {},
     "output_type": "execute_result"
    }
   ],
   "source": [
    "import numpy as np\n",
    "\n",
    "a = np.arange(8) - 3\n",
    "print(a)\n",
    "\n",
    "greater_one = a > 1\n",
    "\n",
    "print(greater_one.dtype)\n",
    "print(greater_one)\n",
    "\n",
    "a[greater_one]\n"
   ]
  },
  {
   "cell_type": "markdown",
   "metadata": {
    "slideshow": {
     "slide_type": "fragment"
    }
   },
   "source": [
    "* $\\text{Element-wise boolean operations}$"
   ]
  },
  {
   "cell_type": "code",
   "execution_count": 33,
   "metadata": {
    "slideshow": {
     "slide_type": "-"
    }
   },
   "outputs": [
    {
     "name": "stdout",
     "output_type": "stream",
     "text": [
      "[ True  True False False False  True  True  True]\n"
     ]
    },
    {
     "data": {
      "text/plain": [
       "array([-3, -2,  2,  3,  4])"
      ]
     },
     "execution_count": 33,
     "metadata": {},
     "output_type": "execute_result"
    }
   ],
   "source": [
    "lower_minus_one = a < -1\n",
    "mask = lower_minus_one + greater_one  # either lower then -1 or greater then 1 \n",
    "\n",
    "# Equiv.\n",
    "#mask = np.logical_or(lower_minus_one, greater_one)\n",
    "print(mask)\n",
    "a[mask]\n"
   ]
  },
  {
   "cell_type": "markdown",
   "metadata": {
    "slideshow": {
     "slide_type": "slide"
    }
   },
   "source": [
    " ## $$ \\textbf{NumPy boolean functions}$$\n",
    "<hr>"
   ]
  },
  {
   "cell_type": "code",
   "execution_count": 34,
   "metadata": {
    "slideshow": {
     "slide_type": "fragment"
    }
   },
   "outputs": [
    {
     "name": "stdout",
     "output_type": "stream",
     "text": [
      "[-3 -2 -1  0  1  2  3  4]\n"
     ]
    },
    {
     "data": {
      "text/plain": [
       "False"
      ]
     },
     "execution_count": 34,
     "metadata": {},
     "output_type": "execute_result"
    }
   ],
   "source": [
    "print(a)\n",
    "np.all(a < 1)\n"
   ]
  },
  {
   "cell_type": "code",
   "execution_count": 35,
   "metadata": {
    "slideshow": {
     "slide_type": "fragment"
    }
   },
   "outputs": [
    {
     "name": "stdout",
     "output_type": "stream",
     "text": [
      "[ True  True  True  True  True  True  True  True]\n"
     ]
    },
    {
     "data": {
      "text/plain": [
       "True"
      ]
     },
     "execution_count": 35,
     "metadata": {},
     "output_type": "execute_result"
    }
   ],
   "source": [
    "print((a >= -3) * (a < 5))\n",
    "\n",
    "np.all((a >= -3) * (a < 5)) # are all elements greater equal then -3 and lower then 5\n"
   ]
  },
  {
   "cell_type": "code",
   "execution_count": 36,
   "metadata": {
    "slideshow": {
     "slide_type": "fragment"
    }
   },
   "outputs": [
    {
     "data": {
      "text/plain": [
       "False"
      ]
     },
     "execution_count": 36,
     "metadata": {},
     "output_type": "execute_result"
    }
   ],
   "source": [
    "((a > 3) * (a < 5)).all() # are all elements greater then -3 and lower then 5\n"
   ]
  },
  {
   "cell_type": "code",
   "execution_count": 37,
   "metadata": {
    "slideshow": {
     "slide_type": "fragment"
    }
   },
   "outputs": [
    {
     "data": {
      "text/plain": [
       "True"
      ]
     },
     "execution_count": 37,
     "metadata": {},
     "output_type": "execute_result"
    }
   ],
   "source": [
    "(a > 3).any() # works similarly (one True is enough to get True returned)\n"
   ]
  },
  {
   "cell_type": "markdown",
   "metadata": {
    "slideshow": {
     "slide_type": "slide"
    }
   },
   "source": [
    " ## $$ \\textbf{NumPy boolean functions applied along axis}$$\n",
    "<hr>"
   ]
  },
  {
   "cell_type": "code",
   "execution_count": 38,
   "metadata": {
    "slideshow": {
     "slide_type": "fragment"
    }
   },
   "outputs": [
    {
     "name": "stdout",
     "output_type": "stream",
     "text": [
      "[-3 -2 -1  0  1  2  3  4]\n"
     ]
    }
   ],
   "source": [
    "# First let's construct a matrix from array\n",
    "print(a)\n"
   ]
  },
  {
   "cell_type": "code",
   "execution_count": 39,
   "metadata": {
    "slideshow": {
     "slide_type": "fragment"
    }
   },
   "outputs": [
    {
     "data": {
      "text/plain": [
       "(array([[-3, -2, -1,  0],\n",
       "        [ 1,  2,  3,  4]]),\n",
       " (2, 4))"
      ]
     },
     "execution_count": 39,
     "metadata": {},
     "output_type": "execute_result"
    }
   ],
   "source": [
    "A = a.reshape(-1, 4) # second axis must have 4 elements, the others detrimined automatically\n",
    "A, A.shape\n"
   ]
  },
  {
   "cell_type": "code",
   "execution_count": 40,
   "metadata": {
    "slideshow": {
     "slide_type": "fragment"
    }
   },
   "outputs": [
    {
     "data": {
      "text/plain": [
       "(array([False, False,  True,  True]), (4,))"
      ]
     },
     "execution_count": 40,
     "metadata": {},
     "output_type": "execute_result"
    }
   ],
   "source": [
    "# specify 'collapsing' axis\n",
    "ans = np.all(A > -2, axis=0) # are all elements greather then -2 column-wise\n",
    "ans, ans.shape\n"
   ]
  },
  {
   "cell_type": "code",
   "execution_count": 41,
   "metadata": {
    "slideshow": {
     "slide_type": "fragment"
    }
   },
   "outputs": [
    {
     "data": {
      "text/plain": [
       "(array([[False],\n",
       "        [ True]]),\n",
       " (2, 1))"
      ]
     },
     "execution_count": 41,
     "metadata": {},
     "output_type": "execute_result"
    }
   ],
   "source": [
    "ans = np.all(A > 0, axis=1, keepdims=True) # are all elements positive row-wise (keppdims prevents shape squeezing)\n",
    "ans, ans.shape\n"
   ]
  },
  {
   "cell_type": "markdown",
   "metadata": {
    "slideshow": {
     "slide_type": "slide"
    }
   },
   "source": [
    " ## $$ \\textbf{Some useful NumPy functions}$$\n",
    "<hr>"
   ]
  },
  {
   "cell_type": "code",
   "execution_count": 42,
   "metadata": {
    "slideshow": {
     "slide_type": "fragment"
    }
   },
   "outputs": [
    {
     "name": "stderr",
     "output_type": "stream",
     "text": [
      "C:\\Users\\INGIMA~1\\AppData\\Local\\Temp/ipykernel_4148/2652278213.py:1: DeprecationWarning: `np.float` is a deprecated alias for the builtin `float`. To silence this warning, use `float` by itself. Doing this will not modify any behavior and is safe. If you specifically wanted the numpy scalar type, use `np.float64` here.\n",
      "Deprecated in NumPy 1.20; for more details and guidance: https://numpy.org/devdocs/release/1.20.0-notes.html#deprecations\n",
      "  C = np.arange(24).astype(np.float)\n"
     ]
    },
    {
     "data": {
      "text/plain": [
       "(276.0, 11.5, 6.922186552431729, 47.916666666666664)"
      ]
     },
     "execution_count": 42,
     "metadata": {},
     "output_type": "execute_result"
    }
   ],
   "source": [
    "C = np.arange(24).astype(np.float)\n",
    "\n",
    "# summe, average, standart deviation, variance\n",
    "np.sum(C), np.mean(C), np.std(C), np.var(C) # etc...\n"
   ]
  },
  {
   "cell_type": "code",
   "execution_count": 43,
   "metadata": {
    "slideshow": {
     "slide_type": "fragment"
    }
   },
   "outputs": [
    {
     "name": "stdout",
     "output_type": "stream",
     "text": [
      "[[ 0.  1.  2.  3.  4.  5.]\n",
      " [ 6.  7.  8.  9. 10. 11.]\n",
      " [12. 13. 14. 15. 16. 17.]\n",
      " [18. 19. 20. 21. 22. 23.]] (4, 6)\n"
     ]
    },
    {
     "data": {
      "text/plain": [
       "(array([ 2.5,  8.5, 14.5, 20.5]), (4,))"
      ]
     },
     "execution_count": 43,
     "metadata": {},
     "output_type": "execute_result"
    }
   ],
   "source": [
    "\n",
    "\n",
    "C.resize((4,6))\n",
    "print(C, C.shape)\n",
    "\n",
    "# It works along an axis as well\n",
    "R = np.mean(C, axis=1) # row-wise average\n",
    "R, R.shape"
   ]
  },
  {
   "cell_type": "code",
   "execution_count": 44,
   "metadata": {
    "slideshow": {
     "slide_type": "fragment"
    }
   },
   "outputs": [
    {
     "data": {
      "text/plain": [
       "array([2.91666667, 2.91666667, 2.91666667, 2.91666667])"
      ]
     },
     "execution_count": 44,
     "metadata": {},
     "output_type": "execute_result"
    }
   ],
   "source": [
    "C.var(1) # row-wise variance (applied to C and 'axis=' omited)\n"
   ]
  },
  {
   "cell_type": "markdown",
   "metadata": {
    "slideshow": {
     "slide_type": "slide"
    }
   },
   "source": [
    " ## $$ \\textbf{Broadcasting}$$\n",
    "<hr>\n",
    "<center>\n",
    "<img src='./images/broad.png' width='1000'>\n"
   ]
  },
  {
   "cell_type": "markdown",
   "metadata": {
    "slideshow": {
     "slide_type": "slide"
    }
   },
   "source": [
    " ## $$ \\textbf{Explicit broadcasting}$$\n",
    "<hr>"
   ]
  },
  {
   "cell_type": "code",
   "execution_count": 45,
   "metadata": {
    "slideshow": {
     "slide_type": "fragment"
    }
   },
   "outputs": [
    {
     "name": "stdout",
     "output_type": "stream",
     "text": [
      "[ 0 10 20 30] (4,)\n",
      "(1, 4)\n"
     ]
    },
    {
     "data": {
      "text/plain": [
       "(array([[ 0,  0,  0],\n",
       "        [10, 10, 10],\n",
       "        [20, 20, 20],\n",
       "        [30, 30, 30]]),\n",
       " (4, 3))"
      ]
     },
     "execution_count": 45,
     "metadata": {},
     "output_type": "execute_result"
    }
   ],
   "source": [
    "A = 10 * np.arange(4)\n",
    "print(A, A.shape)\n",
    "\n",
    "A = A[None]\n",
    "print(A.shape)\n",
    "\n",
    "A = np.repeat(A, 3, axis=0).T # repeat row-wise 3 times then transpose\n",
    "A, A.shape"
   ]
  },
  {
   "cell_type": "code",
   "execution_count": 46,
   "metadata": {
    "slideshow": {
     "slide_type": "fragment"
    }
   },
   "outputs": [
    {
     "name": "stdout",
     "output_type": "stream",
     "text": [
      "[0 1 2]\n"
     ]
    },
    {
     "data": {
      "text/plain": [
       "(array([[0, 1, 2],\n",
       "        [0, 1, 2],\n",
       "        [0, 1, 2],\n",
       "        [0, 1, 2]]),\n",
       " (4, 3))"
      ]
     },
     "execution_count": 46,
     "metadata": {},
     "output_type": "execute_result"
    }
   ],
   "source": [
    "B = np.arange(3)\n",
    "print(B)\n",
    "\n",
    "B = B[None]\n",
    "B = np.repeat(B, 4, axis=0) # repeat row-wise 4 times\n",
    "B, B.shape"
   ]
  },
  {
   "cell_type": "code",
   "execution_count": 47,
   "metadata": {
    "slideshow": {
     "slide_type": "fragment"
    }
   },
   "outputs": [
    {
     "data": {
      "text/plain": [
       "(array([[ 0,  1,  2],\n",
       "        [10, 11, 12],\n",
       "        [20, 21, 22],\n",
       "        [30, 31, 32]]),\n",
       " (4, 3))"
      ]
     },
     "execution_count": 47,
     "metadata": {},
     "output_type": "execute_result"
    }
   ],
   "source": [
    "#(4,3) + (4,3)\n",
    "C = A + B\n",
    "C, C.shape"
   ]
  },
  {
   "cell_type": "markdown",
   "metadata": {
    "slideshow": {
     "slide_type": "slide"
    }
   },
   "source": [
    " ## $$ \\textbf{Implicit broadcasting}$$\n",
    "<hr>"
   ]
  },
  {
   "cell_type": "code",
   "execution_count": 48,
   "metadata": {
    "slideshow": {
     "slide_type": "fragment"
    }
   },
   "outputs": [
    {
     "data": {
      "text/plain": [
       "(array([[ 0,  0,  0],\n",
       "        [10, 10, 10],\n",
       "        [20, 20, 20],\n",
       "        [30, 30, 30]]),\n",
       " (4, 3))"
      ]
     },
     "execution_count": 48,
     "metadata": {},
     "output_type": "execute_result"
    }
   ],
   "source": [
    "A, A.shape"
   ]
  },
  {
   "cell_type": "code",
   "execution_count": 49,
   "metadata": {
    "slideshow": {
     "slide_type": "fragment"
    }
   },
   "outputs": [
    {
     "data": {
      "text/plain": [
       "(array([[0, 1, 2]]), (1, 3))"
      ]
     },
     "execution_count": 49,
     "metadata": {},
     "output_type": "execute_result"
    }
   ],
   "source": [
    "B = np.array([0,1,2])[None]\n",
    "B, B.shape"
   ]
  },
  {
   "cell_type": "code",
   "execution_count": 50,
   "metadata": {
    "slideshow": {
     "slide_type": "fragment"
    }
   },
   "outputs": [
    {
     "data": {
      "text/plain": [
       "array([[ 0,  1,  2],\n",
       "       [10, 11, 12],\n",
       "       [20, 21, 22],\n",
       "       [30, 31, 32]])"
      ]
     },
     "execution_count": 50,
     "metadata": {},
     "output_type": "execute_result"
    }
   ],
   "source": [
    "#(4, 3) + (1, 3) -> (4,3) copied automatically 4 times to become (4,3)\n",
    "\n",
    "A + B"
   ]
  },
  {
   "cell_type": "markdown",
   "metadata": {
    "slideshow": {
     "slide_type": "slide"
    }
   },
   "source": [
    " ## $$ \\textbf{Implicit broadcasting}$$\n",
    "<hr>"
   ]
  },
  {
   "cell_type": "code",
   "execution_count": 51,
   "metadata": {
    "slideshow": {
     "slide_type": "-"
    }
   },
   "outputs": [
    {
     "name": "stdout",
     "output_type": "stream",
     "text": [
      "(4,) (3,)\n"
     ]
    },
    {
     "data": {
      "text/plain": [
       "(array([ 0, 10, 20, 30]), array([0, 1, 2]))"
      ]
     },
     "execution_count": 51,
     "metadata": {},
     "output_type": "execute_result"
    }
   ],
   "source": [
    "A = np.array([0,10,20,30])\n",
    "B = np.array([0,1,2])\n",
    "\n",
    "print(A.shape, B.shape)\n",
    "A, B"
   ]
  },
  {
   "cell_type": "code",
   "execution_count": 52,
   "metadata": {
    "scrolled": true,
    "slideshow": {
     "slide_type": "fragment"
    }
   },
   "outputs": [
    {
     "ename": "ValueError",
     "evalue": "operands could not be broadcast together with shapes (4,) (3,) ",
     "output_type": "error",
     "traceback": [
      "\u001b[1;31m---------------------------------------------------------------------------\u001b[0m",
      "\u001b[1;31mValueError\u001b[0m                                Traceback (most recent call last)",
      "\u001b[1;32mC:\\Users\\INGIMA~1\\AppData\\Local\\Temp/ipykernel_4148/2673172716.py\u001b[0m in \u001b[0;36m<module>\u001b[1;34m\u001b[0m\n\u001b[1;32m----> 1\u001b[1;33m \u001b[0mA\u001b[0m \u001b[1;33m+\u001b[0m \u001b[0mB\u001b[0m\u001b[1;33m\u001b[0m\u001b[1;33m\u001b[0m\u001b[0m\n\u001b[0m",
      "\u001b[1;31mValueError\u001b[0m: operands could not be broadcast together with shapes (4,) (3,) "
     ]
    }
   ],
   "source": [
    "A + B"
   ]
  },
  {
   "cell_type": "code",
   "execution_count": 53,
   "metadata": {
    "slideshow": {
     "slide_type": "fragment"
    }
   },
   "outputs": [
    {
     "data": {
      "text/plain": [
       "(4, 3)"
      ]
     },
     "execution_count": 53,
     "metadata": {},
     "output_type": "execute_result"
    }
   ],
   "source": [
    "# (4, 1) + (1, 3) => (4, 1 -> 3) + (1 -> 4 ,3) => (4,3) + (4,3) \n",
    "\n",
    "(A[:,None] + B[None]).shape"
   ]
  },
  {
   "cell_type": "markdown",
   "metadata": {
    "slideshow": {
     "slide_type": "-"
    }
   },
   "source": [
    "<a href='https://numpy.org/doc/stable/user/basics.broadcasting.html?highlight=broadcasting#module-numpy.doc.broadcasting'>More about broadcasting</a>"
   ]
  },
  {
   "cell_type": "markdown",
   "metadata": {
    "slideshow": {
     "slide_type": "slide"
    }
   },
   "source": [
    " # $$ \\textbf{Python vs. NumPy performance evaluation}$$\n",
    "<hr> \n",
    "<br><br>\n",
    "<div>\n",
    "$\\text{To verify that in addition to the more compact syntax,}$ \n",
    "\n",
    "$\\text{Numpy also provides a computational benefit over standard Python,}$ \n",
    "\n",
    "$\\text{we compare the running time of a similar computation performed in pure Python and in Numpy.}$\n",
    "</div>"
   ]
  },
  {
   "cell_type": "markdown",
   "metadata": {
    "slideshow": {
     "slide_type": "fragment"
    }
   },
   "source": [
    "* $\\text{Let's write a function to measure the computation time }$\n",
    "$\\text{of a matrix dot product for two}\\> n \\times n \\>  \\text{matrices.}$"
   ]
  },
  {
   "cell_type": "markdown",
   "metadata": {
    "slideshow": {
     "slide_type": "fragment"
    }
   },
   "source": [
    "* $\\text{First define a function to initialize } n \\times n \\t{ matrices}$"
   ]
  },
  {
   "cell_type": "code",
   "execution_count": 54,
   "metadata": {
    "slideshow": {
     "slide_type": "-"
    }
   },
   "outputs": [],
   "source": [
    "\n",
    "def init_(n):\n",
    "    \n",
    "    # only initialization is made with numpy (time of the operation is not preserved)\n",
    "    X = np.ones((n, n))\n",
    "    Y = np.copy(X) # creates a copy of the given matrix\n",
    "    Z = np.empty((n, n)) # placeholder matrix with values to be overwritten anyways\n",
    "    \n",
    "    return X, Y, Z"
   ]
  },
  {
   "cell_type": "markdown",
   "metadata": {
    "slideshow": {
     "slide_type": "slide"
    }
   },
   "source": [
    " # $$ \\textbf{Pure Python implementation}$$\n",
    "<hr> \n"
   ]
  },
  {
   "cell_type": "code",
   "execution_count": 55,
   "metadata": {
    "slideshow": {
     "slide_type": "fragment"
    }
   },
   "outputs": [],
   "source": [
    "from time import time\n",
    "import numpy as np\n",
    "\n",
    "\n",
    "def benchmark_py(n):\n",
    "    \n",
    "    X, Y, Z = init_(n)\n",
    "    \n",
    "    def dot_(X, Y, Z):\n",
    "        for i in range(n):\n",
    "            for j in range(n):\n",
    "                for k in range(n):\n",
    "                    Z[i,j] += X[i, k] * Y[k, j]\n",
    "        return Z\n",
    "    # actual (measured) matrix multiplication\n",
    "    st = time()\n",
    "    Z  = dot_(X, Y, Z)\n",
    "    time_in_ms = time() - st\n",
    "    \n",
    "    return time_in_ms"
   ]
  },
  {
   "cell_type": "code",
   "execution_count": 56,
   "metadata": {
    "slideshow": {
     "slide_type": "fragment"
    }
   },
   "outputs": [
    {
     "data": {
      "text/plain": [
       "1.3833496570587158"
      ]
     },
     "execution_count": 56,
     "metadata": {},
     "output_type": "execute_result"
    }
   ],
   "source": [
    "comp_time_py = benchmark_py(128)\n",
    "comp_time_py"
   ]
  },
  {
   "cell_type": "markdown",
   "metadata": {
    "slideshow": {
     "slide_type": "slide"
    }
   },
   "source": [
    " # $$ \\textbf{Numpy implementation}$$\n",
    "<hr> "
   ]
  },
  {
   "cell_type": "code",
   "execution_count": 57,
   "metadata": {
    "slideshow": {
     "slide_type": "fragment"
    }
   },
   "outputs": [],
   "source": [
    "def benchmark_np(n):\n",
    "    \n",
    "    X, Y, Z = init_(n)\n",
    "    def dot_(X, Y, Z):\n",
    "        Z = X @ Y # @ is a shortcut for np.dot \n",
    "        return Z\n",
    "    \n",
    "    st = time()\n",
    "    Z  = dot_(X, Y, Z)\n",
    "    time_in_ms = time() - st\n",
    "     \n",
    "    return time_in_ms"
   ]
  },
  {
   "cell_type": "code",
   "execution_count": 58,
   "metadata": {
    "slideshow": {
     "slide_type": "fragment"
    }
   },
   "outputs": [
    {
     "data": {
      "text/plain": [
       "0.04030895233154297"
      ]
     },
     "execution_count": 58,
     "metadata": {},
     "output_type": "execute_result"
    }
   ],
   "source": [
    "comp_time_np = benchmark_np(128)\n",
    "comp_time_np"
   ]
  },
  {
   "cell_type": "code",
   "execution_count": 59,
   "metadata": {
    "slideshow": {
     "slide_type": "fragment"
    }
   },
   "outputs": [
    {
     "data": {
      "text/plain": [
       "'NumPy is 34 times faster then pure Python'"
      ]
     },
     "execution_count": 59,
     "metadata": {},
     "output_type": "execute_result"
    }
   ],
   "source": [
    "ratio = comp_time_py/comp_time_np\n",
    "f'NumPy is {ratio:0.0f} times faster then pure Python'"
   ]
  },
  {
   "cell_type": "markdown",
   "metadata": {
    "slideshow": {
     "slide_type": "slide"
    }
   },
   "source": [
    "* $\\text{Let's collect the computation time for different matrix size parameters}$"
   ]
  },
  {
   "cell_type": "code",
   "execution_count": 60,
   "metadata": {
    "slideshow": {
     "slide_type": "fragment"
    }
   },
   "outputs": [
    {
     "data": {
      "text/plain": [
       "array([  2,   4,   8,  16,  32,  64, 128], dtype=int32)"
      ]
     },
     "execution_count": 60,
     "metadata": {},
     "output_type": "execute_result"
    }
   ],
   "source": [
    "max_power = 7\n",
    "sizes =  2 ** np.arange(1, max_power+1)\n",
    "sizes"
   ]
  },
  {
   "cell_type": "code",
   "execution_count": 61,
   "metadata": {
    "scrolled": true,
    "slideshow": {
     "slide_type": "fragment"
    }
   },
   "outputs": [],
   "source": [
    "# Python computational times\n",
    "py_t = [benchmark_py(size) for size in sizes]"
   ]
  },
  {
   "cell_type": "code",
   "execution_count": 62,
   "metadata": {
    "slideshow": {
     "slide_type": "fragment"
    }
   },
   "outputs": [],
   "source": [
    "np_t = [benchmark_np(size) for size in sizes]"
   ]
  },
  {
   "cell_type": "code",
   "execution_count": 63,
   "metadata": {
    "slideshow": {
     "slide_type": "fragment"
    }
   },
   "outputs": [
    {
     "name": "stdout",
     "output_type": "stream",
     "text": [
      "Times Numpy is faster then pure Python:\n",
      "Size   2: times: 0.0000\n",
      "Size   4: times: nan\n",
      "Size   8: times: inf\n",
      "Size  16: times: inf\n",
      "Size  32: times: 673.9580\n",
      "Size  64: times: inf\n",
      "Size 128: times: 1613.4989\n"
     ]
    },
    {
     "name": "stderr",
     "output_type": "stream",
     "text": [
      "C:\\Users\\INGIMA~1\\AppData\\Local\\Temp/ipykernel_4148/3139370534.py:1: RuntimeWarning: divide by zero encountered in true_divide\n",
      "  ratios = np.divide(py_t,np_t)\n",
      "C:\\Users\\INGIMA~1\\AppData\\Local\\Temp/ipykernel_4148/3139370534.py:1: RuntimeWarning: invalid value encountered in true_divide\n",
      "  ratios = np.divide(py_t,np_t)\n"
     ]
    }
   ],
   "source": [
    "ratios = np.divide(py_t,np_t)\n",
    "\n",
    "print('Times Numpy is faster then pure Python:')\n",
    "for n, t in zip(sizes, [ f'{r:0.4f}' for r in ratios]):\n",
    "    print(f\"Size {n:3d}: times: {t}\")"
   ]
  },
  {
   "cell_type": "markdown",
   "metadata": {
    "slideshow": {
     "slide_type": "slide"
    }
   },
   "source": [
    " # $$ \\textbf{Scientific plotting}$$\n",
    "<hr> \n",
    "<br>\n",
    "\n",
    "$\\text{In machine learning, it is often necessary to visualize the data,}$ \n",
    "\n",
    "$\\text{or to plot properties of algorithms such as their accuracy or their computation time.}$  \n",
    "\n",
    "<br><br>\n",
    "<center>\n",
    "<img src='./images/mat.png' width='800'>"
   ]
  },
  {
   "cell_type": "markdown",
   "metadata": {
    "slideshow": {
     "slide_type": "fragment"
    }
   },
   "source": [
    "$\\text{For this, we can make use of the}\\> \\textit{matplotlib}\\> \\text{library.}$"
   ]
  },
  {
   "cell_type": "code",
   "execution_count": 64,
   "metadata": {
    "slideshow": {
     "slide_type": "-"
    }
   },
   "outputs": [],
   "source": [
    "#conda install -c conda-forge matplotlib\n",
    "\n",
    "import matplotlib.pyplot as plt # import plotting subpackage\n",
    "\n",
    "# only for Jupyter Notebook\n",
    "%matplotlib inline "
   ]
  },
  {
   "cell_type": "markdown",
   "metadata": {
    "slideshow": {
     "slide_type": "slide"
    }
   },
   "source": [
    "* $\\text{Let's first create some input data for plotting}$"
   ]
  },
  {
   "cell_type": "code",
   "execution_count": 65,
   "metadata": {
    "slideshow": {
     "slide_type": "fragment"
    }
   },
   "outputs": [
    {
     "name": "stdout",
     "output_type": "stream",
     "text": [
      "[ 0.    0.25  0.5   0.75  1.    1.25  1.5   1.75  2.    2.25  2.5   2.75\n",
      "  3.    3.25  3.5   3.75  4.    4.25  4.5   4.75  5.    5.25  5.5   5.75\n",
      "  6.    6.25  6.5   6.75  7.    7.25  7.5   7.75  8.    8.25  8.5   8.75\n",
      "  9.    9.25  9.5   9.75 10.   10.25 10.5  10.75 11.   11.25 11.5  11.75\n",
      " 12.   12.25 12.5 ] (51,) (51,) (51,)\n"
     ]
    }
   ],
   "source": [
    "# Trigonometric functions data\n",
    "import numpy as np\n",
    "\n",
    "x = np.arange(0, 4*np.pi, 0.25) # similar to range function from pure Python\n",
    "\n",
    "# elementwise sinus and cosinus functions\n",
    "y = np.sin(x) \n",
    "z = np.cos(x)\n",
    "\n",
    "print(x, x.shape, y.shape, z.shape)"
   ]
  },
  {
   "cell_type": "markdown",
   "metadata": {
    "slideshow": {
     "slide_type": "slide"
    }
   },
   "source": [
    " ## $$ \\textbf{Basic plot}$$\n",
    "<hr> \n",
    "<br>"
   ]
  },
  {
   "cell_type": "code",
   "execution_count": 66,
   "metadata": {
    "slideshow": {
     "slide_type": "fragment"
    }
   },
   "outputs": [
    {
     "data": {
      "image/png": "[encoded data removed]",
      "text/plain": [
       "<Figure size 864x432 with 1 Axes>"
      ]
     },
     "metadata": {
      "needs_background": "light"
     },
     "output_type": "display_data"
    }
   ],
   "source": [
    "# figure proportions (sizes)\n",
    "plt.figure(figsize=(12, 6))\n",
    "\n",
    "plt.plot(x, y)\n",
    "plt.plot(x, z); #; skips the plot object representaion printing\n"
   ]
  },
  {
   "cell_type": "markdown",
   "metadata": {
    "slideshow": {
     "slide_type": "slide"
    }
   },
   "source": [
    " ## $$ \\textbf{Markers, Labels and Title}$$\n",
    "<hr> \n",
    "<br>"
   ]
  },
  {
   "cell_type": "code",
   "execution_count": null,
   "metadata": {
    "slideshow": {
     "slide_type": "fragment"
    }
   },
   "outputs": [],
   "source": [
    "plt.figure(figsize=(12,6))\n",
    "\n",
    "# connected circles marker style\n",
    "plt.plot(x, y, 'o-', color='red', ms=10) # marker shortcut (o-) connected circles + color\n",
    "\n",
    "# connected stars   \n",
    "plt.plot(x, z, '*--', ms=15)  # (*--) stars with dashed line connection + size of the markers\n",
    "\n",
    "plt.xlabel('x', fontsize=20) # x-axis label + fontsize\n",
    "plt.ylabel('f(x)', fontsize=20, rotation=0, labelpad=20) # y-axis label + rotation angle (default 90 degree)\n",
    "\n",
    "plt.title('Simple trigonometric functions', fontsize=25) #; skips printing the plot object representation\n"
   ]
  },
  {
   "cell_type": "markdown",
   "metadata": {
    "slideshow": {
     "slide_type": "slide"
    }
   },
   "source": [
    " ## $$ \\textbf{Legend, Ticks and Grids}$$\n",
    "<hr> \n",
    "<br>"
   ]
  },
  {
   "cell_type": "code",
   "execution_count": 67,
   "metadata": {
    "slideshow": {
     "slide_type": "slide"
    }
   },
   "outputs": [
    {
     "data": {
      "image/png": "[encoded data removed]",
      "text/plain": [
       "<Figure size 864x432 with 1 Axes>"
      ]
     },
     "metadata": {
      "needs_background": "light"
     },
     "output_type": "display_data"
    }
   ],
   "source": [
    "# figure proportions (sizes)\n",
    "plt.figure(figsize=(12,6))\n",
    "\n",
    "# connected circles marker style\n",
    "plt.plot(x, y, 'o-', color='red', label='$f(x) = \\sin(x)$') # LaTex expressions for the line labeling\n",
    "\n",
    "# connected stars \n",
    "plt.plot(x, z, '*--', color='green', label='$f(x) = \\cos(x)$', ms=10) \n",
    "\n",
    "plt.ylim(-1,1) # sets axis limits\n",
    "plt.xlim(0, 4*np.pi)\n",
    "\n",
    "plt.legend(loc='best', fontsize=15) # trigger the legend creation with the specified location + fontsize\n",
    "\n",
    "plt.xlabel('x', fontsize=20) # fontsize\n",
    "plt.ylabel('f(x)', fontsize=20, rotation=0, labelpad=25) # lable rotation angle (default 90 degree)\n",
    "\n",
    "plt.yticks(np.arange(-1, 1.01, .2 ) ) # from -1 to 1 every 0.2 is a tick\n",
    "plt.xticks(np.arange(0, 4*np.pi+0.01, np.pi/4)) # from 0 to 4 pi every pi/4 is a tick\n",
    "\n",
    "plt.title('Simple trigonometric functions', fontsize=25)\n",
    "\n",
    "plt.grid(axis='x') # grid lines"
   ]
  },
  {
   "cell_type": "markdown",
   "metadata": {
    "slideshow": {
     "slide_type": "slide"
    }
   },
   "source": [
    " ## $$ \\textbf{Performance curves for matrix multiplication}$$\n",
    "<hr> \n",
    "<br>"
   ]
  },
  {
   "cell_type": "code",
   "execution_count": 68,
   "metadata": {
    "slideshow": {
     "slide_type": "fragment"
    }
   },
   "outputs": [
    {
     "data": {
      "image/png": "[encoded data removed]",
      "text/plain": [
       "<Figure size 1008x576 with 1 Axes>"
      ]
     },
     "metadata": {
      "needs_background": "light"
     },
     "output_type": "display_data"
    }
   ],
   "source": [
    "plt.figure(figsize=(14, 8))\n",
    "plt.plot(sizes, py_t, 'o-', label='Python', color='red', alpha=0.7) # alpha for the transparency value\n",
    "plt.plot(sizes, np_t, 's-', label='NumPy', color='green')\n",
    "\n",
    "plt.xscale('log')\n",
    "plt.yscale('log')\n",
    "\n",
    "plt.xlabel('shape on of an array (n,n)', fontsize=18)\n",
    "plt.ylabel('time [s]', fontsize=15)\n",
    "plt.title('Python vs. NumPy performance', fontsize=20)\n",
    "\n",
    "plt.grid(axis='y') # grid with along an y axis\n",
    "\n",
    "plt.legend(loc='upper left', fontsize=15);"
   ]
  },
  {
   "cell_type": "markdown",
   "metadata": {
    "slideshow": {
     "slide_type": "slide"
    }
   },
   "source": [
    "# $$ \\textbf{Thank you for your attention.}$$"
   ]
  }
 ],
 "metadata": {
  "celltoolbar": "Slideshow",
  "kernelspec": {
   "display_name": "Python 3 (ipykernel)",
   "language": "python",
   "name": "python3"
  },
  "language_info": {
   "codemirror_mode": {
    "name": "ipython",
    "version": 3
   },
   "file_extension": ".py",
   "mimetype": "text/x-python",
   "name": "python",
   "nbconvert_exporter": "python",
   "pygments_lexer": "ipython3",
   "version": "3.9.7"
  }
 },
 "nbformat": 4,
 "nbformat_minor": 4
}
