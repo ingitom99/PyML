{
 "cells": [
  {
   "cell_type": "code",
   "execution_count": 1,
   "metadata": {
    "slideshow": {
     "slide_type": "-"
    }
   },
   "outputs": [],
   "source": [
    "from IPython.core.display import HTML as Center\n",
    "\n",
    "Center(\n",
    "\"\"\" \n",
    "<style>\n",
    "    .output_png {\n",
    "        display: table-cell;\n",
    "        text-align: center;\n",
    "        vertical-align: middle;\n",
    "        \n",
    "    }\n",
    "</style> \n",
    "\"\"\")"
   ]
  },
  {
   "cell_type": "markdown",
   "metadata": {
    "slideshow": {
     "slide_type": "-"
    }
   },
   "source": [
    "$\n",
    "\\newcommand{\\nc}{\\newcommand} \n",
    "\\nc{\\t}{\\text}\n",
    "\\nc{\\tb}{\\textbf}\n",
    "\\nc{\\ti}{\\textit}\n",
    "$"
   ]
  },
  {
   "cell_type": "markdown",
   "metadata": {
    "slideshow": {
     "slide_type": "slide"
    }
   },
   "source": [
    "# $$\\textbf{Python Programming for Machine Learning} $$ \n",
    "\n",
    "## $$\\t{Numerical instability, Google Colab}$$\n",
    "\n",
    "#### $$\\text{Winter Semester 2021/2022}$$\n",
    "\n",
    "#### $$\\text{Sergej Dogadov and Panagiotis Tomer Karagianis}$$\n",
    "\n",
    "<center>\n",
    "<img src='images/pyt.png' width=450>"
   ]
  },
  {
   "cell_type": "markdown",
   "metadata": {
    "slideshow": {
     "slide_type": "slide"
    }
   },
   "source": [
    "## $$\\textbf{Floating point numbers in Python}$$\n",
    "<hr>\n",
    "<br>"
   ]
  },
  {
   "cell_type": "code",
   "execution_count": 62,
   "metadata": {
    "slideshow": {
     "slide_type": "fragment"
    }
   },
   "outputs": [
    {
     "name": "stdout",
     "output_type": "stream",
     "text": [
      "1.150\n"
     ]
    }
   ],
   "source": [
    "a = 1.15\n",
    "\n",
    "# string representation\n",
    "print(f\"{a:0.3f}\")"
   ]
  },
  {
   "cell_type": "code",
   "execution_count": 63,
   "metadata": {
    "slideshow": {
     "slide_type": "fragment"
    }
   },
   "outputs": [
    {
     "name": "stdout",
     "output_type": "stream",
     "text": [
      "1.149999999999999911182158029987\n"
     ]
    }
   ],
   "source": [
    "print(f\"{a:0.30f}\")"
   ]
  },
  {
   "cell_type": "markdown",
   "metadata": {},
   "source": [
    "* $\\t{Check for a float number representation in Python}$"
   ]
  },
  {
   "cell_type": "markdown",
   "metadata": {
    "slideshow": {
     "slide_type": "slide"
    }
   },
   "source": [
    "## $$\\textbf{Rounding effect}$$\n",
    "<hr>\n",
    "<br>"
   ]
  },
  {
   "cell_type": "code",
   "execution_count": 2,
   "metadata": {
    "slideshow": {
     "slide_type": "fragment"
    }
   },
   "outputs": [],
   "source": [
    "# First import the required packages\n",
    "import numpy as np\n",
    "\n",
    "import matplotlib.pyplot as plt\n",
    "%matplotlib inline"
   ]
  },
  {
   "cell_type": "markdown",
   "metadata": {
    "slideshow": {
     "slide_type": "slide"
    }
   },
   "source": [
    "* $\\text{Let's start with a weird experiment:}$"
   ]
  },
  {
   "cell_type": "code",
   "execution_count": 3,
   "metadata": {
    "slideshow": {
     "slide_type": "fragment"
    }
   },
   "outputs": [
    {
     "data": {
      "text/plain": [
       "array([   1.,   10.,  100., 1000.], dtype=float32)"
      ]
     },
     "execution_count": 3,
     "metadata": {},
     "output_type": "execute_result"
    }
   ],
   "source": [
    "a = (10**np.arange(4)).astype('float32')\n",
    "a"
   ]
  },
  {
   "cell_type": "code",
   "execution_count": 4,
   "metadata": {
    "slideshow": {
     "slide_type": "fragment"
    }
   },
   "outputs": [
    {
     "data": {
      "text/plain": [
       "array([   0.,    0.,  128., 1024.], dtype=float32)"
      ]
     },
     "execution_count": 4,
     "metadata": {},
     "output_type": "execute_result"
    }
   ],
   "source": [
    "# Add and subtract the same (huge) number\n",
    "\n",
    "huge_number = 1e+9  # (10^9) \n",
    "assert huge_number == 10**9\n",
    "\n",
    "(a + huge_number) - huge_number # as you can see the result is not equal a"
   ]
  },
  {
   "cell_type": "markdown",
   "metadata": {
    "slideshow": {
     "slide_type": "slide"
    }
   },
   "source": [
    "* $ \\text{Now, let's repeat the experiment with higher precision (float64):} $"
   ]
  },
  {
   "cell_type": "code",
   "execution_count": 5,
   "metadata": {
    "slideshow": {
     "slide_type": "fragment"
    }
   },
   "outputs": [
    {
     "data": {
      "text/plain": [
       "array([   1.,   10.,  100., 1000.])"
      ]
     },
     "execution_count": 5,
     "metadata": {},
     "output_type": "execute_result"
    }
   ],
   "source": [
    "a = (10**np.arange(4)).astype('float64')\n",
    "a"
   ]
  },
  {
   "cell_type": "code",
   "execution_count": 6,
   "metadata": {
    "slideshow": {
     "slide_type": "fragment"
    }
   },
   "outputs": [
    {
     "data": {
      "text/plain": [
       "array([   1.,   10.,  100., 1000.])"
      ]
     },
     "execution_count": 6,
     "metadata": {},
     "output_type": "execute_result"
    }
   ],
   "source": [
    "huge_number = 1e12\n",
    "\n",
    "# it seems to work now\n",
    "(a + huge_number) - huge_number # ok for now it works..."
   ]
  },
  {
   "cell_type": "markdown",
   "metadata": {
    "slideshow": {
     "slide_type": "fragment"
    }
   },
   "source": [
    "* $\\text{We can also reach the limits of double precision floats (float64):}$"
   ]
  },
  {
   "cell_type": "code",
   "execution_count": 7,
   "metadata": {
    "slideshow": {
     "slide_type": "fragment"
    }
   },
   "outputs": [
    {
     "name": "stdout",
     "output_type": "stream",
     "text": [
      "[   0.    0.  128. 1024.]\n"
     ]
    }
   ],
   "source": [
    "huge_number = 1e18 \n",
    "\n",
    "print((a + huge_number) - huge_number) # same artefacts appear"
   ]
  },
  {
   "cell_type": "markdown",
   "metadata": {
    "slideshow": {
     "slide_type": "slide"
    }
   },
   "source": [
    "## $$\\textbf{Understanding of the rounding effect}$$\n",
    "<hr>\n",
    "<br>"
   ]
  },
  {
   "cell_type": "code",
   "execution_count": 8,
   "metadata": {
    "slideshow": {
     "slide_type": "fragment"
    }
   },
   "outputs": [],
   "source": [
    "# We'll plot all numbers before and after application of the addition and substraction of the huge numbers:\n",
    "a = np.arange(500).astype('float32')\n",
    "\n",
    "huge_numbers = [1e7, 1e8, 1e9, 1e10]"
   ]
  },
  {
   "cell_type": "code",
   "execution_count": 9,
   "metadata": {
    "slideshow": {
     "slide_type": "fragment"
    }
   },
   "outputs": [],
   "source": [
    "def rounding_effect(huge_numbers):\n",
    "    \n",
    "    f, axis = plt.subplots(1, len(huge_numbers), sharex=True, sharey=True, figsize = (26,8))\n",
    "    \n",
    "    errors = []\n",
    "    for i,num in enumerate(huge_numbers):\n",
    "        \n",
    "        ax = axis[i]\n",
    "        b = (a + num) - num\n",
    "        \n",
    "        ax.plot(a, b, label='rounding')\n",
    "        errors += [np.abs(a-b).sum()]\n",
    "        \n",
    "        ax.plot(a, a, label=f'truth {num}')\n",
    "        ax.legend(fontsize=20)\n",
    "\n",
    "    ttl = axis[1].set_title('Rounding effect', fontsize=35, pad=20)\n",
    "    axis[0].set_ylabel('after', rotation=0, labelpad=35, fontsize=20) # pad to get horizontal dist\n",
    "    \n",
    "    xlab = axis[1].set_xlabel('before', fontsize=20, labelpad=10) # pad to get vert dist\n",
    "    \n",
    "    ttl.set_position([1.1,1.0])\n",
    "    xlab.set_position([1, 0]) # shifting to right (centering)\n",
    "    \n",
    "    return errors"
   ]
  },
  {
   "cell_type": "code",
   "execution_count": 10,
   "metadata": {
    "slideshow": {
     "slide_type": "slide"
    }
   },
   "outputs": [
    {
     "data": {
      "text/plain": [
       "['0 -> Error: 0.0',\n",
       " '1 -> Error: 998.0',\n",
       " '2 -> Error: 8114.0',\n",
       " '3 -> Error: 124750.0']"
      ]
     },
     "execution_count": 10,
     "metadata": {},
     "output_type": "execute_result"
    },
    {
     "data": {
      "image/png": "[encoded data removed]",
      "text/plain": [
       "<Figure size 1872x576 with 4 Axes>"
      ]
     },
     "metadata": {
      "needs_background": "light"
     },
     "output_type": "display_data"
    }
   ],
   "source": [
    "[ f'{num} -> Error: {err}' for num, err in zip(range(len(huge_numbers)), rounding_effect(huge_numbers))]"
   ]
  },
  {
   "cell_type": "markdown",
   "metadata": {
    "slideshow": {
     "slide_type": "slide"
    }
   },
   "source": [
    "## $$\\textbf{Insights about the rounding effect}$$\n",
    "<hr>\n",
    "<br>"
   ]
  },
  {
   "cell_type": "markdown",
   "metadata": {
    "slideshow": {
     "slide_type": "fragment"
    }
   },
   "source": [
    "* The `float32` and `float64` number representations have a certain budget of bits to represent real numbers.\n",
    "\n",
    "$\\quad\\quad\\quad$Therefore, they allocate precision where it is important (e.g. for small numbers).\n",
    "<br>\n",
    "\n"
   ]
  },
  {
   "cell_type": "markdown",
   "metadata": {
    "slideshow": {
     "slide_type": "fragment"
    }
   },
   "source": [
    "* The smaller the precision, the less memory is used and therefore the more efficient (computationally), \n",
    "\n",
    "$\\quad\\quad\\quad$but also the more careful we should be about potential loss of precision.\n",
    "<br>\n",
    "\n"
   ]
  },
  {
   "cell_type": "markdown",
   "metadata": {
    "slideshow": {
     "slide_type": "fragment"
    }
   },
   "source": [
    "* Unlike typical observed data, error is not random-looking, but very structured (see next example)."
   ]
  },
  {
   "cell_type": "markdown",
   "metadata": {
    "slideshow": {
     "slide_type": "slide"
    }
   },
   "source": [
    "## $$\\textbf{Rounding error structure}$$\n",
    "<hr>\n",
    "<br>"
   ]
  },
  {
   "cell_type": "code",
   "execution_count": 11,
   "metadata": {
    "slideshow": {
     "slide_type": "fragment"
    }
   },
   "outputs": [],
   "source": [
    "def rounding_err_structure(val=500, huge_num = 1e+9):\n",
    "\n",
    "    a = np.arange(val).astype('float32')\n",
    "\n",
    "    b = (a + huge_num) - huge_num\n",
    "    error = np.abs(a - b)\n",
    "\n",
    "    plt.figure(figsize=(18,6))\n",
    "    plt.plot(a, error, linewidth=3)\n",
    "    plt.title('Rounding error structure', fontsize=30, pad=20)\n",
    "    plt.xlabel('input number', fontsize=20)\n",
    "    plt.ylabel('output error', fontsize=20);"
   ]
  },
  {
   "cell_type": "code",
   "execution_count": 12,
   "metadata": {
    "slideshow": {
     "slide_type": "fragment"
    }
   },
   "outputs": [
    {
     "data": {
      "image/png": "[encoded data removed]",
      "text/plain": [
       "<Figure size 1296x432 with 1 Axes>"
      ]
     },
     "metadata": {
      "needs_background": "light"
     },
     "output_type": "display_data"
    }
   ],
   "source": [
    "rounding_err_structure()\n"
   ]
  },
  {
   "cell_type": "markdown",
   "metadata": {
    "slideshow": {
     "slide_type": "slide"
    }
   },
   "source": [
    "## $$\\textbf{Overflow}$$\n",
    "<hr>\n",
    "<br>\n",
    "\n",
    "* $\\text{Overflow is a frequently encountered problem when implementing}$\n",
    "$ \\text{machine learning algorithms.}$"
   ]
  },
  {
   "cell_type": "code",
   "execution_count": 13,
   "metadata": {
    "slideshow": {
     "slide_type": "fragment"
    }
   },
   "outputs": [
    {
     "data": {
      "text/plain": [
       "array([  10.,  100., 1000.])"
      ]
     },
     "execution_count": 13,
     "metadata": {},
     "output_type": "execute_result"
    }
   ],
   "source": [
    "a = 10**np.arange(1,4).astype('float64')\n",
    "\n",
    "# [10^1, 10^2, 10^3]\n",
    "a"
   ]
  },
  {
   "cell_type": "code",
   "execution_count": 14,
   "metadata": {
    "slideshow": {
     "slide_type": "fragment"
    }
   },
   "outputs": [
    {
     "name": "stderr",
     "output_type": "stream",
     "text": [
      "<ipython-input-14-935cf2bb3388>:2: RuntimeWarning: overflow encountered in exp\n",
      "  np.exp(a)\n"
     ]
    },
    {
     "data": {
      "text/plain": [
       "array([2.20264658e+04, 2.68811714e+43,            inf])"
      ]
     },
     "execution_count": 14,
     "metadata": {},
     "output_type": "execute_result"
    }
   ],
   "source": [
    "# exponential function overflow\n",
    "np.exp(a)\n"
   ]
  },
  {
   "cell_type": "markdown",
   "metadata": {
    "slideshow": {
     "slide_type": "slide"
    }
   },
   "source": [
    "## $$\\textbf{Example: sigmoid function}$$\n",
    "<hr>\n",
    "<br>\n",
    "\n",
    "$${\\sigma(x) = \\frac{e^{x}}{1+e^{x}}}$$"
   ]
  },
  {
   "cell_type": "code",
   "execution_count": 15,
   "metadata": {
    "scrolled": true,
    "slideshow": {
     "slide_type": "fragment"
    }
   },
   "outputs": [
    {
     "data": {
      "image/png": "[encoded data removed]",
      "text/plain": [
       "<Figure size 1296x576 with 1 Axes>"
      ]
     },
     "metadata": {
      "needs_background": "light"
     },
     "output_type": "display_data"
    }
   ],
   "source": [
    "sigmoid = lambda x: np.exp(x) / (1 + np.exp(x))\n",
    "\n",
    "x = np.linspace(-10, 10, 30)\n",
    "plt.figure(figsize=(18, 8))\n",
    "plt.title('Sigmoid function', fontsize=25)\n",
    "plt.plot(x, sigmoid(x), 'D-', linewidth=2)\n",
    "plt.grid(1)\n"
   ]
  },
  {
   "cell_type": "markdown",
   "metadata": {
    "slideshow": {
     "slide_type": "slide"
    }
   },
   "source": [
    "## $$\\textbf{Compute sigmoid function for some values}$$\n",
    "<hr>\n",
    "<br> "
   ]
  },
  {
   "cell_type": "code",
   "execution_count": 16,
   "metadata": {
    "slideshow": {
     "slide_type": "fragment"
    }
   },
   "outputs": [
    {
     "data": {
      "text/plain": [
       "array([-1.e+04, -1.e+03, -1.e+02, -1.e+01, -1.e+00,  1.e+00,  1.e+01,\n",
       "        1.e+02,  1.e+03,  1.e+04])"
      ]
     },
     "execution_count": 16,
     "metadata": {},
     "output_type": "execute_result"
    }
   ],
   "source": [
    "x = 10. ** np.arange(0,5)\n",
    "x = np.sort(np.concatenate([-x, x])) # huge negative and positive numbers\n",
    "x"
   ]
  },
  {
   "cell_type": "code",
   "execution_count": 17,
   "metadata": {
    "scrolled": true,
    "slideshow": {
     "slide_type": "fragment"
    }
   },
   "outputs": [
    {
     "name": "stderr",
     "output_type": "stream",
     "text": [
      "<ipython-input-15-96dad8f1e7e5>:1: RuntimeWarning: overflow encountered in exp\n",
      "  sigmoid = lambda x: np.exp(x) / (1 + np.exp(x))\n",
      "<ipython-input-15-96dad8f1e7e5>:1: RuntimeWarning: invalid value encountered in true_divide\n",
      "  sigmoid = lambda x: np.exp(x) / (1 + np.exp(x))\n"
     ]
    },
    {
     "data": {
      "text/plain": [
       "array([0.00000000e+00, 0.00000000e+00, 3.72007598e-44, 4.53978687e-05,\n",
       "       2.68941421e-01, 7.31058579e-01, 9.99954602e-01, 1.00000000e+00,\n",
       "                  nan,            nan])"
      ]
     },
     "execution_count": 17,
     "metadata": {},
     "output_type": "execute_result"
    }
   ],
   "source": [
    "sigmoid(x)\n"
   ]
  },
  {
   "cell_type": "markdown",
   "metadata": {
    "slideshow": {
     "slide_type": "fragment"
    }
   },
   "source": [
    "* $\\text{Where does the `nan` come from?}$"
   ]
  },
  {
   "cell_type": "code",
   "execution_count": 18,
   "metadata": {
    "slideshow": {
     "slide_type": "fragment"
    }
   },
   "outputs": [
    {
     "data": {
      "text/plain": [
       "(nan, nan, nan)"
      ]
     },
     "execution_count": 18,
     "metadata": {},
     "output_type": "execute_result"
    }
   ],
   "source": [
    "# Undefined mathematical operations\n",
    "\n",
    "np.inf/np.inf, 0.*np.inf,  np.inf - np.inf\n"
   ]
  },
  {
   "cell_type": "code",
   "execution_count": 19,
   "metadata": {
    "slideshow": {
     "slide_type": "fragment"
    }
   },
   "outputs": [
    {
     "data": {
      "text/plain": [
       "(1.0, 0.0, 1.0)"
      ]
     },
     "execution_count": 19,
     "metadata": {},
     "output_type": "execute_result"
    }
   ],
   "source": [
    "# Undefined mathematical operations but works in python be careful !\n",
    "\n",
    "1.** np.inf, 0.** np.inf, 0.**0 # ???\n"
   ]
  },
  {
   "cell_type": "markdown",
   "metadata": {
    "slideshow": {
     "slide_type": "slide"
    }
   },
   "source": [
    "## $$\\textbf{Numerically stable sigmoid function}$$\n",
    "<hr>\n",
    "<br> \n",
    "\n",
    "* $\\text{Let's rewrite the sigmoid function in a different way}$\n",
    "\n",
    "$$\n",
    "\\sigma(x) = \\frac{e^{x}}{1+e^{x}} = \\frac{e^{-x} e^{x}}{e^{-x} (1+e^{x})} = \\frac{1}{1+e^{-x}}\n",
    "$$"
   ]
  },
  {
   "cell_type": "code",
   "execution_count": 20,
   "metadata": {
    "slideshow": {
     "slide_type": "fragment"
    }
   },
   "outputs": [
    {
     "data": {
      "text/plain": [
       "array([-1.e+04, -1.e+03, -1.e+02, -1.e+01, -1.e+00,  1.e+00,  1.e+01,\n",
       "        1.e+02,  1.e+03,  1.e+04])"
      ]
     },
     "execution_count": 20,
     "metadata": {},
     "output_type": "execute_result"
    }
   ],
   "source": [
    "sigmoid = lambda x: 1./(1 + np.exp(-x))\n",
    "x"
   ]
  },
  {
   "cell_type": "code",
   "execution_count": 21,
   "metadata": {
    "slideshow": {
     "slide_type": "fragment"
    }
   },
   "outputs": [
    {
     "name": "stderr",
     "output_type": "stream",
     "text": [
      "<ipython-input-20-a4554828f10e>:1: RuntimeWarning: overflow encountered in exp\n",
      "  sigmoid = lambda x: 1./(1 + np.exp(-x))\n"
     ]
    },
    {
     "data": {
      "text/plain": [
       "array([0.00000000e+00, 0.00000000e+00, 3.72007598e-44, 4.53978687e-05,\n",
       "       2.68941421e-01, 7.31058579e-01, 9.99954602e-01, 1.00000000e+00,\n",
       "       1.00000000e+00, 1.00000000e+00])"
      ]
     },
     "execution_count": 21,
     "metadata": {},
     "output_type": "execute_result"
    }
   ],
   "source": [
    "sigmoid(x)\n"
   ]
  },
  {
   "cell_type": "markdown",
   "metadata": {
    "slideshow": {
     "slide_type": "-"
    }
   },
   "source": [
    " $\\text{This time, we are lucky since 1/inf = 0.0,}$ \n",
    " $\\text{which could be the desired result for large negative inputs.}$\n",
    " \n",
    " $\\text{But we still have a RuntimeWarning}$"
   ]
  },
  {
   "cell_type": "markdown",
   "metadata": {
    "slideshow": {
     "slide_type": "slide"
    }
   },
   "source": [
    "## $$\\textbf{Robust sigmoid function}$$\n",
    "<hr>\n",
    "<br> \n",
    "\n",
    "* $\\text{The sigmoid function can be written in yet another way using} \\> \\tanh(x)\\> \\text{function:}$\n",
    "\n",
    "$$\n",
    "\\tanh{(x)} = \\frac{e^{2x} - 1}{e^{2x} + 1}\n",
    "$$\n",
    "<hr>"
   ]
  },
  {
   "cell_type": "markdown",
   "metadata": {
    "slideshow": {
     "slide_type": "fragment"
    }
   },
   "source": [
    "$$\n",
    "\\sigma(x) = \\frac{e^{x}}{1+e^{x}} = \\frac{1}{2}\\Big(\\frac{2e^{x}}{1+e^{x}}\\Big) = \\frac{1}{2}\\Big(\\frac{e^{x} - 1 + 1 + e^{x}}{1+e^{x}}\\Big) = $$"
   ]
  },
  {
   "cell_type": "markdown",
   "metadata": {
    "slideshow": {
     "slide_type": "fragment"
    }
   },
   "source": [
    "\n",
    "$$\\frac{1}{2}\\Big( \\frac{e^{x} - 1}{e^{x}+1} + 1\\Big) = \\frac{1}{2}\\Big( \\tanh\\Big(\\frac{x}{2}\\Big) + 1\\Big)\n",
    "$$"
   ]
  },
  {
   "cell_type": "code",
   "execution_count": 22,
   "metadata": {
    "slideshow": {
     "slide_type": "fragment"
    }
   },
   "outputs": [
    {
     "data": {
      "text/plain": [
       "array([0.00000000e+00, 0.00000000e+00, 0.00000000e+00, 4.53978687e-05,\n",
       "       2.68941421e-01, 7.31058579e-01, 9.99954602e-01, 1.00000000e+00,\n",
       "       1.00000000e+00, 1.00000000e+00])"
      ]
     },
     "execution_count": 22,
     "metadata": {},
     "output_type": "execute_result"
    }
   ],
   "source": [
    "sigmoid = lambda x: 0.5 * ( np.tanh(0.5 * x) + 1 )\n",
    "\n",
    "# And there is no runtime warning this time.\n",
    "sigmoid(x)\n"
   ]
  },
  {
   "cell_type": "markdown",
   "metadata": {
    "slideshow": {
     "slide_type": "slide"
    }
   },
   "source": [
    "## $$\\textbf{Clipped sigmoid function}$$\n",
    "<hr>\n",
    "<br> \n",
    "\n",
    "* $\\text{Suppose we cannot find a stable function definition.}$ \n",
    "\n",
    "$\\quad\\quad\\text{The sigmoid function can alternatively be approximated to avoid the overflow:}$"
   ]
  },
  {
   "cell_type": "code",
   "execution_count": 23,
   "metadata": {
    "slideshow": {
     "slide_type": "fragment"
    }
   },
   "outputs": [],
   "source": [
    "def clipped_sigmoid(x, min_val=-5, max_val=5):\n",
    "\n",
    "    plt.figure(figsize=(20,6))\n",
    "    plt.plot(x, sigmoid(x), 'r', ls='--', label='sigmoid')\n",
    "    #print(np.clip(x, min_val, max_val))\n",
    "    \n",
    "    plt.plot(x, sigmoid(np.clip(x, min_val, max_val)), 'b', label='clipped')\n",
    "    \n",
    "    plt.xticks(np.arange(x.min(), x.max(), 3), fontsize=12)\n",
    "    plt.legend(fontsize=20)\n",
    "    plt.grid(axis='x')\n",
    "    "
   ]
  },
  {
   "cell_type": "code",
   "execution_count": 24,
   "metadata": {
    "slideshow": {
     "slide_type": "fragment"
    }
   },
   "outputs": [
    {
     "data": {
      "image/png": "[encoded data removed]",
      "text/plain": [
       "<Figure size 1440x432 with 1 Axes>"
      ]
     },
     "metadata": {
      "needs_background": "light"
     },
     "output_type": "display_data"
    }
   ],
   "source": [
    "clipped_sigmoid(np.linspace(-12, 12, 100))\n"
   ]
  },
  {
   "cell_type": "markdown",
   "metadata": {
    "slideshow": {
     "slide_type": "-"
    }
   },
   "source": [
    "* $\\text{The numpy clip function prevents the input from going outside a certain interval. }$\n",
    "\n",
    "\n",
    "* $\\text{This effectively avoids overflow in the exponential,}$ \n",
    "$\\text{but also causes a small approximation error.}$"
   ]
  },
  {
   "cell_type": "markdown",
   "metadata": {
    "slideshow": {
     "slide_type": "slide"
    }
   },
   "source": [
    "## $$\\textbf{Frequent source of the overflows}$$\n",
    "<hr>\n",
    "<br>"
   ]
  },
  {
   "cell_type": "markdown",
   "metadata": {
    "slideshow": {
     "slide_type": "fragment"
    }
   },
   "source": [
    "$ \\text{Many probability desity functions (pdfs) } p(x) \\text{ for } x \\in \\mathbb R^D \\text{ can be written as:}$\n",
    "<hr>\n",
    "<br>\n",
    "$${\n",
    "p(x) = \\frac{\\exp\\Big(-E_{\\theta}(x)\\Big)}{Z(\\theta)},\\quad \\text{where}\\quad E_{\\theta}(x): \\mathbb R^{D} \\rightarrow \\mathbb R \\quad \\textit{( energy function )}\n",
    "}$$\n",
    "\n",
    "$${\n",
    "Z(\\theta) = \\int_x \\exp\\Big(-E_{\\theta}(x)\\Big)\\  dx, \\quad \\textit{( normalization constant )}\n",
    "}$$\n",
    "<br>"
   ]
  },
  {
   "cell_type": "markdown",
   "metadata": {
    "slideshow": {
     "slide_type": "fragment"
    }
   },
   "source": [
    "* $\\text{Example of such pdfs: Gaussian, Multinomial, Exponential, Poisson...}$\n",
    "\n",
    "\n",
    "* $\\text{These functions have a risk of overflow due to the exponential function inside.}$"
   ]
  },
  {
   "cell_type": "markdown",
   "metadata": {
    "slideshow": {
     "slide_type": "fragment"
    }
   },
   "source": [
    "* $\\text{Machine learning algorithms often use these distributions,}$\n",
    "$\\text{because their parameters can be learned easily.}$ "
   ]
  },
  {
   "cell_type": "markdown",
   "metadata": {
    "slideshow": {
     "slide_type": "fragment"
    }
   },
   "source": [
    "$\\text{For example:}$\n",
    "\n",
    "$\\quad \\text{Mean parameter of a Gaussian distribution can be estimated by computing the empirical mean of the data,}$ \n",
    "\n",
    "\n",
    "$\\quad \\text{Scale parameter can be learned by the empirical standard deviation.}$\n",
    "\n",
    "\n"
   ]
  },
  {
   "cell_type": "markdown",
   "metadata": {
    "slideshow": {
     "slide_type": "slide"
    }
   },
   "source": [
    "## $$\\textbf{Unnormalized discrete density}$$\n",
    "<hr>\n",
    "<br> "
   ]
  },
  {
   "cell_type": "code",
   "execution_count": 25,
   "metadata": {
    "slideshow": {
     "slide_type": "fragment"
    }
   },
   "outputs": [],
   "source": [
    "x = np.linspace(-2, 6, 100).astype(np.float32)\n",
    "\n",
    "E = lambda x: (x - 2)**2/2\n",
    "p = lambda x, Z = 1: np.exp(-E(x))/Z\n"
   ]
  },
  {
   "cell_type": "code",
   "execution_count": 26,
   "metadata": {
    "scrolled": false,
    "slideshow": {
     "slide_type": "fragment"
    }
   },
   "outputs": [],
   "source": [
    "def plot(x, p, Z=1):\n",
    "    plt.figure(figsize=(12,6))\n",
    "    plt.title('Unnormalized density', fontsize=25)\n",
    "    plt.plot(x, p(x, Z), '.', linewidth=3)\n",
    "    plt.grid()\n",
    "    print(p(x, Z).sum())\n",
    "    "
   ]
  },
  {
   "cell_type": "code",
   "execution_count": 27,
   "metadata": {
    "slideshow": {
     "slide_type": "fragment"
    }
   },
   "outputs": [
    {
     "name": "stdout",
     "output_type": "stream",
     "text": [
      "31.017876\n"
     ]
    },
    {
     "data": {
      "image/png": "[encoded data removed]",
      "text/plain": [
       "<Figure size 864x432 with 1 Axes>"
      ]
     },
     "metadata": {
      "needs_background": "light"
     },
     "output_type": "display_data"
    }
   ],
   "source": [
    "plot(x, p)\n"
   ]
  },
  {
   "cell_type": "markdown",
   "metadata": {
    "slideshow": {
     "slide_type": "slide"
    }
   },
   "source": [
    "## $$\\textbf{Normalized discrete density}$$\n",
    "<hr>\n",
    "<br> "
   ]
  },
  {
   "cell_type": "markdown",
   "metadata": {
    "slideshow": {
     "slide_type": "fragment"
    }
   },
   "source": [
    "$$\\sum_{x} p(x) = \\frac{1}{Z(\\theta)}\\sum_{x} \\exp\\Big(-E_{\\theta}(x)\\Big) = 1\\quad \\Rightarrow\\quad Z(\\theta) = \\sum_{x} \\exp\\Big(-E_{\\theta}(x)\\Big)$$"
   ]
  },
  {
   "cell_type": "code",
   "execution_count": 28,
   "metadata": {
    "slideshow": {
     "slide_type": "fragment"
    }
   },
   "outputs": [
    {
     "name": "stdout",
     "output_type": "stream",
     "text": [
      "1.0000001 <class 'numpy.float32'>\n",
      "True\n"
     ]
    },
    {
     "data": {
      "image/png": "[encoded data removed]",
      "text/plain": [
       "<Figure size 864x432 with 1 Axes>"
      ]
     },
     "metadata": {
      "needs_background": "light"
     },
     "output_type": "display_data"
    }
   ],
   "source": [
    "Z = p(x).sum()\n",
    "\n",
    "plt.figure(figsize=(12,6))\n",
    "plt.title('Normalized density', fontsize=25)\n",
    "plt.plot(x, p(x, Z), '.',linewidth=3)\n",
    "plt.grid()\n",
    "\n",
    "val = p(x,Z).sum()\n",
    "print(val, type(val))\n",
    "print(np.isclose(1., val, rtol=1e-6))\n",
    "\n",
    "#np.testing.assert_allclose(1., val)"
   ]
  },
  {
   "cell_type": "markdown",
   "metadata": {
    "slideshow": {
     "slide_type": "slide"
    }
   },
   "source": [
    "## $$\\textbf{Log-density function}$$\n",
    "<hr>\n",
    "<br> \n",
    "\n",
    "* $\\text{Numerically more stable pdf computation in the} \\textit{ log-}\\text{space}.$\n",
    "<br>\n",
    "<br>\n",
    "\n",
    "$${\\Large{\n",
    "\\ln p(x) = -  \\ln Z(\\theta) - E_{\\theta}(x)\n",
    "}}$$"
   ]
  },
  {
   "cell_type": "markdown",
   "metadata": {
    "slideshow": {
     "slide_type": "slide"
    }
   },
   "source": [
    "## $$\\textbf{Example: Poisson probability mass function}$$\n",
    "<hr>\n",
    "<br> \n",
    "\n",
    "$$\\Large{\n",
    "p(k | \\lambda) = {\\frac{\\lambda^k}{k !}} \\exp(-\\lambda), \\quad k \\geq 0\n",
    "}$$"
   ]
  },
  {
   "cell_type": "code",
   "execution_count": 29,
   "metadata": {
    "slideshow": {
     "slide_type": "fragment"
    }
   },
   "outputs": [],
   "source": [
    "from scipy.special import factorial\n",
    "\n",
    "def poisson_pmf(k, lambd):\n",
    "    return lambd**k * np.exp(-lambd)/factorial(k) \n"
   ]
  },
  {
   "cell_type": "code",
   "execution_count": 30,
   "metadata": {
    "slideshow": {
     "slide_type": "fragment"
    }
   },
   "outputs": [
    {
     "name": "stdout",
     "output_type": "stream",
     "text": [
      "[1 4 8 4 1 0 4 0 2 2]\n",
      "3.02\n"
     ]
    }
   ],
   "source": [
    "from scipy.stats import poisson\n",
    "\n",
    "# Draw samples from Poisson distribution\n",
    "lambd = 3 # income rate for each period of time\n",
    "\n",
    "pos = poisson(lambd)\n",
    "k =  np.sort(pos.rvs(500)) # drawing 500 samples from Poisson\n",
    "\n",
    "idx = np.arange(len(k))\n",
    "np.random.shuffle(idx)\n",
    "\n",
    "print(k[idx[:10]]) #print ten random samples\n",
    "\n",
    "print(np.mean(k))\n"
   ]
  },
  {
   "cell_type": "code",
   "execution_count": 31,
   "metadata": {
    "scrolled": true,
    "slideshow": {
     "slide_type": "slide"
    }
   },
   "outputs": [],
   "source": [
    "def plot_poisson(k, pmf):\n",
    "    plt.figure(figsize=(16,6))\n",
    "    \n",
    "    plt.title('Poisson mass function', fontsize=20)\n",
    "    plt.hist(k, bins=20, density=True, alpha=0.5, align='mid')\n",
    "    plt.xticks(np.arange(10))\n",
    "    plt.plot(k,  pmf, 's--', linewidth=3, c='r', label='$\\lambda=$'+f'{lambd}', alpha=0.5)\n",
    "    plt.legend(fontsize=20)\n",
    "    plt.grid()\n",
    "    "
   ]
  },
  {
   "cell_type": "code",
   "execution_count": 32,
   "metadata": {
    "slideshow": {
     "slide_type": "fragment"
    }
   },
   "outputs": [
    {
     "data": {
      "image/png": "[encoded data removed]",
      "text/plain": [
       "<Figure size 1152x432 with 1 Axes>"
      ]
     },
     "metadata": {
      "needs_background": "light"
     },
     "output_type": "display_data"
    }
   ],
   "source": [
    "plot_poisson(k, poisson_pmf(k, lambd))\n"
   ]
  },
  {
   "cell_type": "markdown",
   "metadata": {
    "slideshow": {
     "slide_type": "slide"
    }
   },
   "source": [
    "## $$\\textbf{Error because of too large factorial value}$$\n",
    "<hr>\n",
    "<br> "
   ]
  },
  {
   "cell_type": "code",
   "execution_count": 35,
   "metadata": {
    "slideshow": {
     "slide_type": "fragment"
    }
   },
   "outputs": [
    {
     "data": {
      "text/plain": [
       "2.7494028058340025e-112"
      ]
     },
     "execution_count": 35,
     "metadata": {},
     "output_type": "execute_result"
    }
   ],
   "source": [
    "# Let's try to compute a pmf value for a large value\n",
    "\n",
    "large_k = 100\n",
    "poisson_pmf(large_k, lambd)\n"
   ]
  },
  {
   "cell_type": "markdown",
   "metadata": {
    "slideshow": {
     "slide_type": "slide"
    }
   },
   "source": [
    "## $$\\textbf{Poisson log-probability mass function}$$\n",
    "<hr>"
   ]
  },
  {
   "cell_type": "markdown",
   "metadata": {
    "slideshow": {
     "slide_type": "fragment"
    }
   },
   "source": [
    "$$\\Large{\n",
    "\\ln p(k |\\lambda) = k \\ln \\lambda - \\ln{k !}  -\\lambda , \\quad k \\geq 0 }\n",
    "$$"
   ]
  },
  {
   "cell_type": "markdown",
   "metadata": {
    "slideshow": {
     "slide_type": "fragment"
    }
   },
   "source": [
    "<hr>\n",
    "$$\\Large{\n",
    "k ! = \\Gamma(k + 1), \\quad \\Gamma(x) = \\int_{0}^{\\infty} t^{x - 1}\\exp^{-t} dt \n",
    "}$$"
   ]
  },
  {
   "cell_type": "code",
   "execution_count": 36,
   "metadata": {
    "slideshow": {
     "slide_type": "fragment"
    }
   },
   "outputs": [],
   "source": [
    "from scipy.special import loggamma\n",
    "\n",
    "def log_poisson_pmf(k, lambd):\n",
    "    assert np.all(k >= 0)\n",
    "    \n",
    "    return k*np.log(lambd) - loggamma(k + 1) - lambd \n"
   ]
  },
  {
   "cell_type": "code",
   "execution_count": 37,
   "metadata": {},
   "outputs": [
    {
     "data": {
      "text/plain": [
       "-256.8781466887525"
      ]
     },
     "execution_count": 37,
     "metadata": {},
     "output_type": "execute_result"
    }
   ],
   "source": [
    "res = log_poisson_pmf(large_k, lambd)\n",
    "res\n",
    "#np.exp(res)"
   ]
  },
  {
   "cell_type": "code",
   "execution_count": 38,
   "metadata": {
    "slideshow": {
     "slide_type": "fragment"
    }
   },
   "outputs": [],
   "source": [
    "# Exponentiate the log_pmf in order to get the pmf value\n",
    "\n",
    "normal_k = 10\n",
    "\n",
    "pmf = poisson_pmf(normal_k, lambd)\n",
    "log_pmf = log_poisson_pmf(normal_k, lambd) \n",
    "\n",
    "assert np.allclose(pmf, np.exp(log_pmf))\n"
   ]
  },
  {
   "cell_type": "markdown",
   "metadata": {
    "slideshow": {
     "slide_type": "slide"
    }
   },
   "source": [
    "## $$\\textbf{Normalization constant of a log-density function}$$\n",
    "<hr>\n",
    "<br> \n",
    "\n",
    "* $\\text{Numerically stable pdf computation}$\n",
    "<br>\n",
    "<br>\n",
    "\n",
    "$${\n",
    "0 = \\ln \\sum_{x} p(x) = \\ln\\bigg[ \\frac{1}{Z(\\theta)} \\sum_{x} \\exp {\\Big(- E_{\\theta}(x)\\Big)}\\bigg] = -\\ln Z(\\theta) + \\ln\\sum_{x} \\exp(- E_{\\theta}(x))\n",
    "}$$\n"
   ]
  },
  {
   "cell_type": "markdown",
   "metadata": {
    "slideshow": {
     "slide_type": "fragment"
    }
   },
   "source": [
    "\n",
    "$${\n",
    "\\ln Z(\\theta) = \\ln \\underbrace{\\sum_{x} \\exp\\Big(-E_{\\theta}(x)\\Big)}_{\\text{sum of exp}}\n",
    "}$$"
   ]
  },
  {
   "cell_type": "markdown",
   "metadata": {
    "slideshow": {
     "slide_type": "slide"
    }
   },
   "source": [
    "## $$\\textbf{Log-Sum-Exp trick}$$\n",
    "<hr>\n",
    "<br> "
   ]
  },
  {
   "cell_type": "markdown",
   "metadata": {
    "slideshow": {
     "slide_type": "fragment"
    }
   },
   "source": [
    "* $\\text{Given}\\> x = \\{x1, x2, \\cdots, x_n\\},\\> \\text{where}\\> n \\in \\mathbb{N}$\n",
    "\n",
    "$$ y = \\ln \\sum_{n=1}^N e^{x_n}\\quad  \\Rightarrow \\quad e^y = \\sum_{n=1}^N e^{x_n}$$"
   ]
  },
  {
   "cell_type": "markdown",
   "metadata": {
    "slideshow": {
     "slide_type": "fragment"
    }
   },
   "source": [
    "* $\\text{Multiply both sides by}\\> e^{-a} \\neq 0 $\n",
    "$$ e^{-a} e^y = e^{-a}\\sum_{n=1}^N e^{x_n} \\quad  \\Rightarrow \\quad e^{y-a} = \\sum_{n=1}^N e^{x_n - a}$$"
   ]
  },
  {
   "cell_type": "markdown",
   "metadata": {
    "slideshow": {
     "slide_type": "fragment"
    }
   },
   "source": [
    "$$ {y-a} = \\ln \\sum_{n=1}^N e^{x_n - a} \\quad  \\Rightarrow \\quad y = a + \\ln \\sum_{n=1}^N e^{x_n - a} $$"
   ]
  },
  {
   "cell_type": "markdown",
   "metadata": {
    "slideshow": {
     "slide_type": "fragment"
    }
   },
   "source": [
    "$$\\boxed{y = \\ln \\sum_{n=1}^N e^{x_n} = a + \\ln \\sum_{n=1}^N e^{x_n - a},\\quad a = \\max(x_i),\\quad i = \\overline{1,\\cdots,N}}$$"
   ]
  },
  {
   "cell_type": "markdown",
   "metadata": {
    "slideshow": {
     "slide_type": "slide"
    }
   },
   "source": [
    "## $$\\textbf{Log-Sum-Exp trick (cont'd)}$$\n",
    "<hr>\n",
    "<br> "
   ]
  },
  {
   "cell_type": "code",
   "execution_count": 98,
   "metadata": {
    "slideshow": {
     "slide_type": "fragment"
    }
   },
   "outputs": [],
   "source": [
    "from scipy.special import logsumexp\n",
    "\n",
    "log_X = np.random.normal(0, 1, size=(N, d))\n",
    "\n",
    "log_X -= logsumexp(log_X, 1)[:, None]\n",
    "\n",
    "assert np.allclose(np.exp(log_X).sum(1), np.ones(N))"
   ]
  },
  {
   "cell_type": "markdown",
   "metadata": {
    "slideshow": {
     "slide_type": "slide"
    }
   },
   "source": [
    "## $$\\textbf{Numerically unstable function example}$$\n",
    "<hr>\n",
    "<br> "
   ]
  },
  {
   "cell_type": "code",
   "execution_count": 99,
   "metadata": {
    "slideshow": {
     "slide_type": "fragment"
    }
   },
   "outputs": [
    {
     "name": "stdout",
     "output_type": "stream",
     "text": [
      "-inf\n"
     ]
    }
   ],
   "source": [
    "X = np.random.normal(1000, 1000, size = (100, 100))\n",
    "\n",
    "print(np.linalg.det(X))"
   ]
  },
  {
   "cell_type": "code",
   "execution_count": 97,
   "metadata": {
    "slideshow": {
     "slide_type": "fragment"
    }
   },
   "outputs": [
    {
     "data": {
      "text/plain": [
       "872.539797263336"
      ]
     },
     "execution_count": 97,
     "metadata": {},
     "output_type": "execute_result"
    }
   ],
   "source": [
    "sign, logdet = np.linalg.slogdet(X) # exp(logdet)\n",
    "logdet"
   ]
  },
  {
   "cell_type": "markdown",
   "metadata": {
    "slideshow": {
     "slide_type": "slide"
    }
   },
   "source": [
    "## $$\\textbf{Google colab}$$\n",
    "<hr>\n",
    "<br> \n",
    "\n",
    "<center>\n",
    "    <img src='./images/colab.png' width=500>    \n",
    "</center>\n",
    "\n",
    "* $\\text{Please see the } pyml.py \\text{ example file.}$"
   ]
  },
  {
   "cell_type": "markdown",
   "metadata": {
    "slideshow": {
     "slide_type": "slide"
    }
   },
   "source": [
    "# $$ \\textbf{Thank you for your attention.}$$"
   ]
  }
 ],
 "metadata": {
  "celltoolbar": "Slideshow",
  "kernelspec": {
   "display_name": "Python 3 (ipykernel)",
   "language": "python",
   "name": "python3"
  },
  "language_info": {
   "codemirror_mode": {
    "name": "ipython",
    "version": 3
   },
   "file_extension": ".py",
   "mimetype": "text/x-python",
   "name": "python",
   "nbconvert_exporter": "python",
   "pygments_lexer": "ipython3",
   "version": "3.9.7"
  }
 },
 "nbformat": 4,
 "nbformat_minor": 4
}
